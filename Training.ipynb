{
 "cells": [
  {
   "cell_type": "code",
   "execution_count": 1,
   "metadata": {},
   "outputs": [],
   "source": [
    "import time\n",
    "import numpy as np\n",
    "import pandas as pd\n",
    "import os\n",
    "import sys\n",
    "import sklearn\n",
    "import datetime\n",
    "import random\n",
    "import matplotlib.pyplot as plt\n",
    "import math\n",
    "import tensorflow as tf\n",
    "from tensorflow.keras import Model\n",
    "from tensorflow.keras.preprocessing.image import ImageDataGenerator\n",
    "from tensorflow.keras.models import Sequential\n",
    "from tensorflow.keras.layers import Conv2D, MaxPooling2D, Dense, Dropout, Activation, Flatten, BatchNormalization, GlobalAveragePooling2D  \n",
    "from tensorflow.keras.backend import batch_normalization\n",
    "from tensorflow.keras.optimizers import SGD, Adam\n",
    "from tensorflow.keras.regularizers import l2\n",
    "from tensorflow.keras.callbacks import TensorBoard\n",
    "from tensorflow.keras.utils import to_categorical\n",
    "from sklearn.model_selection import train_test_split\n",
    "from sklearn import preprocessing\n",
    "from sklearn import metrics\n",
    "from packaging import version\n",
    "%matplotlib inline"
   ]
  },
  {
   "cell_type": "markdown",
   "metadata": {},
   "source": [
    "config = tf.ConfigProto()\n",
    "config.gpu_options.allow_growth = True\n",
    "session = tf.Session(config=config)"
   ]
  },
  {
   "cell_type": "code",
   "execution_count": 2,
   "metadata": {},
   "outputs": [
    {
     "name": "stdout",
     "output_type": "stream",
     "text": [
      "WARNING:tensorflow:From <ipython-input-2-e585c6708699>:3: is_gpu_available (from tensorflow.python.framework.test_util) is deprecated and will be removed in a future version.\n",
      "Instructions for updating:\n",
      "Use `tf.config.list_physical_devices('GPU')` instead.\n",
      "Found GPU at: /device:GPU:0\n"
     ]
    }
   ],
   "source": [
    "#identify GPU\n",
    "device_name = tf.test.gpu_device_name()\n",
    "if not tf.test.is_gpu_available():\n",
    "    raise SystemError('GPU device not found')\n",
    "print('Found GPU at: {}'.format(device_name))"
   ]
  },
  {
   "cell_type": "code",
   "execution_count": 3,
   "metadata": {},
   "outputs": [
    {
     "name": "stdout",
     "output_type": "stream",
     "text": [
      "TensorFlow version:  2.1.0\n"
     ]
    }
   ],
   "source": [
    "print(\"TensorFlow version: \", tf.__version__)"
   ]
  },
  {
   "cell_type": "code",
   "execution_count": 4,
   "metadata": {},
   "outputs": [],
   "source": [
    "#train data\n",
    "X_train = np.load(os.path.join(\"Data_new2\", \"X_train.npy\"))\n",
    "y_train = np.load(os.path.join(\"Data_new2\", \"train_labels_multi.npy\"))\n",
    "y_train_bi = np.load(os.path.join(\"Data_new3\", \"y_train.npy\"))\n",
    "\n",
    "#test data\n",
    "X_test = np.load(os.path.join(\"Data_new2\", \"X_test.npy\"))\n",
    "y_test = np.load(os.path.join(\"Data_new2\", \"y_test_labels_multi.npy\"))\n",
    "y_test_bi = np.load(os.path.join(\"Data_new2\", \"y_test.npy\"))\n",
    "\n",
    "#validation data\n",
    "X_val = np.load(os.path.join(\"Data_new2\", \"X_val.npy\"))\n",
    "y_val = np.load(os.path.join(\"Data_new2\", \"y_val_labels_multi.npy\"))\n",
    "y_val_bi = np.load(os.path.join(\"Data_new2\", \"y_val.npy\"))"
   ]
  },
  {
   "cell_type": "code",
   "execution_count": 5,
   "metadata": {},
   "outputs": [
    {
     "name": "stdout",
     "output_type": "stream",
     "text": [
      "X_train data: (2913, 276, 505, 1)\n",
      "y_train data: (2913,)\n"
     ]
    }
   ],
   "source": [
    "#train data\n",
    "print(\"X_train data:\", X_train.shape)\n",
    "print(\"y_train data:\", y_train.shape)"
   ]
  },
  {
   "cell_type": "code",
   "execution_count": 6,
   "metadata": {},
   "outputs": [
    {
     "name": "stdout",
     "output_type": "stream",
     "text": [
      "(2913,)\n"
     ]
    }
   ],
   "source": [
    "print(y_train.shape)"
   ]
  },
  {
   "cell_type": "code",
   "execution_count": 7,
   "metadata": {},
   "outputs": [
    {
     "name": "stdout",
     "output_type": "stream",
     "text": [
      "X_validation data: (327, 276, 505, 1)\n",
      "y_validation data: (327,)\n"
     ]
    }
   ],
   "source": [
    "#validation data\n",
    "print(\"X_validation data:\", X_val.shape)\n",
    "print(\"y_validation data:\", y_val.shape)"
   ]
  },
  {
   "cell_type": "code",
   "execution_count": 8,
   "metadata": {},
   "outputs": [
    {
     "name": "stdout",
     "output_type": "stream",
     "text": [
      "X_test data: (328, 276, 505, 1)\n",
      "y_test data: (328,)\n"
     ]
    }
   ],
   "source": [
    "#test data\n",
    "print(\"X_test data:\", X_test.shape)\n",
    "print(\"y_test data:\", y_test.shape)"
   ]
  },
  {
   "cell_type": "code",
   "execution_count": 9,
   "metadata": {},
   "outputs": [],
   "source": [
    "y_train = to_categorical(y_train)\n",
    "y_val = to_categorical(y_val)\n",
    "y_test = to_categorical(y_test)\n",
    "\n",
    "#binary\n",
    "y_train_bi = to_categorical(y_train_bi)\n",
    "y_val_bi = to_categorical(y_val_bi)\n",
    "y_test_bi = to_categorical(y_test_bi)"
   ]
  },
  {
   "cell_type": "code",
   "execution_count": 10,
   "metadata": {},
   "outputs": [],
   "source": [
    "# scale pixels\n",
    "X_train = X_train/255.0\n",
    "X_val = X_val/255.0\n",
    "X_test = X_test/255.0"
   ]
  },
  {
   "cell_type": "code",
   "execution_count": 11,
   "metadata": {},
   "outputs": [
    {
     "data": {
      "text/plain": [
       "(327, 4)"
      ]
     },
     "execution_count": 11,
     "metadata": {},
     "output_type": "execute_result"
    }
   ],
   "source": [
    "y_val.shape"
   ]
  },
  {
   "cell_type": "code",
   "execution_count": 12,
   "metadata": {},
   "outputs": [],
   "source": [
    "classes = 4\n",
    "def define_model():\n",
    "    model = Sequential()\n",
    "    model.add(Conv2D(32, (3, 3), activation='relu', kernel_initializer='he_uniform', padding='same', input_shape=(276, 505, 1)))\n",
    "    model.add(Conv2D(32, (3, 3), activation='relu', kernel_initializer='he_uniform', padding='same'))\n",
    "    model.add(MaxPooling2D((2, 2)))\n",
    "    model.add(Flatten())\n",
    "    model.add(Dense(128, activation='relu', kernel_initializer='he_uniform'))\n",
    "    model.add(Dense(classes, activation='softmax'))\n",
    "    # compile model\n",
    "    opt = Adam(lr=0.001, beta_1=0.9, beta_2 = 0.999)\n",
    "    model.compile(optimizer=opt, loss='categorical_crossentropy', metrics=['accuracy'])\n",
    "    return model"
   ]
  },
  {
   "cell_type": "code",
   "execution_count": 13,
   "metadata": {},
   "outputs": [],
   "source": [
    "model = define_model()"
   ]
  },
  {
   "cell_type": "code",
   "execution_count": 14,
   "metadata": {},
   "outputs": [
    {
     "name": "stdout",
     "output_type": "stream",
     "text": [
      "Train on 2913 samples, validate on 327 samples\n",
      "Epoch 1/30\n",
      "2913/2913 [==============================] - 14s 5ms/sample - loss: 6868.7681 - accuracy: 0.2664 - val_loss: 18.1884 - val_accuracy: 0.2538\n",
      "Epoch 2/30\n",
      "2913/2913 [==============================] - 11s 4ms/sample - loss: 7.9674 - accuracy: 0.4731 - val_loss: 8.4077 - val_accuracy: 0.2783\n",
      "Epoch 3/30\n",
      "2913/2913 [==============================] - 11s 4ms/sample - loss: 3.2047 - accuracy: 0.6066 - val_loss: 8.8318 - val_accuracy: 0.2783\n",
      "Epoch 4/30\n",
      "2913/2913 [==============================] - 11s 4ms/sample - loss: 2.5420 - accuracy: 0.6656 - val_loss: 7.4859 - val_accuracy: 0.2997\n",
      "Epoch 5/30\n",
      "2913/2913 [==============================] - 11s 4ms/sample - loss: 1.2794 - accuracy: 0.7775 - val_loss: 8.1361 - val_accuracy: 0.3425\n",
      "Epoch 6/30\n",
      "2913/2913 [==============================] - 11s 4ms/sample - loss: 1.3637 - accuracy: 0.7854 - val_loss: 7.9936 - val_accuracy: 0.2997\n",
      "Epoch 7/30\n",
      "2913/2913 [==============================] - 11s 4ms/sample - loss: 1.1409 - accuracy: 0.8153 - val_loss: 8.4374 - val_accuracy: 0.2875\n",
      "Epoch 8/30\n",
      "2913/2913 [==============================] - 11s 4ms/sample - loss: 0.8158 - accuracy: 0.8514 - val_loss: 8.1351 - val_accuracy: 0.2691\n",
      "Epoch 9/30\n",
      "2913/2913 [==============================] - 11s 4ms/sample - loss: 0.6684 - accuracy: 0.8692 - val_loss: 8.8180 - val_accuracy: 0.3058\n",
      "Epoch 10/30\n",
      "2913/2913 [==============================] - 11s 4ms/sample - loss: 0.6977 - accuracy: 0.8781 - val_loss: 8.5356 - val_accuracy: 0.2936\n",
      "Epoch 11/30\n",
      "2913/2913 [==============================] - 11s 4ms/sample - loss: 0.4998 - accuracy: 0.8991 - val_loss: 7.7269 - val_accuracy: 0.2997\n",
      "Epoch 12/30\n",
      "2913/2913 [==============================] - 11s 4ms/sample - loss: 0.2956 - accuracy: 0.9372 - val_loss: 8.2644 - val_accuracy: 0.2844\n",
      "Epoch 13/30\n",
      "2913/2913 [==============================] - 11s 4ms/sample - loss: 0.2372 - accuracy: 0.9495 - val_loss: 9.4374 - val_accuracy: 0.2844\n",
      "Epoch 14/30\n",
      "2913/2913 [==============================] - 11s 4ms/sample - loss: 0.3970 - accuracy: 0.9334 - val_loss: 9.4443 - val_accuracy: 0.3364\n",
      "Epoch 15/30\n",
      "2913/2913 [==============================] - 11s 4ms/sample - loss: 4.4337 - accuracy: 0.7281 - val_loss: 8.1108 - val_accuracy: 0.2875\n",
      "Epoch 16/30\n",
      "2913/2913 [==============================] - 11s 4ms/sample - loss: 0.5085 - accuracy: 0.9097 - val_loss: 7.4870 - val_accuracy: 0.2691\n",
      "Epoch 17/30\n",
      "2913/2913 [==============================] - 11s 4ms/sample - loss: 0.1787 - accuracy: 0.9537 - val_loss: 6.9364 - val_accuracy: 0.3150\n",
      "Epoch 18/30\n",
      "2913/2913 [==============================] - 11s 4ms/sample - loss: 0.0757 - accuracy: 0.9825 - val_loss: 7.1668 - val_accuracy: 0.3211\n",
      "Epoch 19/30\n",
      "2913/2913 [==============================] - 11s 4ms/sample - loss: 0.0402 - accuracy: 0.9900 - val_loss: 7.1053 - val_accuracy: 0.2905\n",
      "Epoch 20/30\n",
      "2913/2913 [==============================] - 11s 4ms/sample - loss: 0.0564 - accuracy: 0.9918 - val_loss: 7.2944 - val_accuracy: 0.2722\n",
      "Epoch 21/30\n",
      "2913/2913 [==============================] - 11s 4ms/sample - loss: 0.0826 - accuracy: 0.9876 - val_loss: 7.0918 - val_accuracy: 0.2813\n",
      "Epoch 22/30\n",
      "2913/2913 [==============================] - 11s 4ms/sample - loss: 0.0601 - accuracy: 0.9921 - val_loss: 8.6900 - val_accuracy: 0.2966\n",
      "Epoch 23/30\n",
      "2913/2913 [==============================] - 11s 4ms/sample - loss: 0.0558 - accuracy: 0.9866 - val_loss: 7.1074 - val_accuracy: 0.2905\n",
      "Epoch 24/30\n",
      "2913/2913 [==============================] - 11s 4ms/sample - loss: 0.0492 - accuracy: 0.9921 - val_loss: 7.1631 - val_accuracy: 0.2905\n",
      "Epoch 25/30\n",
      "2913/2913 [==============================] - 11s 4ms/sample - loss: 0.0464 - accuracy: 0.9931 - val_loss: 8.7287 - val_accuracy: 0.2905\n",
      "Epoch 26/30\n",
      "2913/2913 [==============================] - 11s 4ms/sample - loss: 0.0760 - accuracy: 0.9849 - val_loss: 7.3564 - val_accuracy: 0.3180\n",
      "Epoch 27/30\n",
      "2913/2913 [==============================] - 11s 4ms/sample - loss: 0.1109 - accuracy: 0.9760 - val_loss: 7.5262 - val_accuracy: 0.3211\n",
      "Epoch 28/30\n",
      "2913/2913 [==============================] - 11s 4ms/sample - loss: 0.0570 - accuracy: 0.9856 - val_loss: 7.5334 - val_accuracy: 0.2905\n",
      "Epoch 29/30\n",
      "2913/2913 [==============================] - 11s 4ms/sample - loss: 0.0730 - accuracy: 0.9846 - val_loss: 7.4600 - val_accuracy: 0.2966\n",
      "Epoch 30/30\n",
      "2913/2913 [==============================] - 11s 4ms/sample - loss: 0.1046 - accuracy: 0.9801 - val_loss: 8.8764 - val_accuracy: 0.3089\n"
     ]
    }
   ],
   "source": [
    "# fit model\n",
    "history = model.fit(X_train, y_train, epochs=30, batch_size=32, validation_data=(X_val, y_val))"
   ]
  },
  {
   "cell_type": "code",
   "execution_count": 15,
   "metadata": {},
   "outputs": [
    {
     "name": "stdout",
     "output_type": "stream",
     "text": [
      "> 34.146\n"
     ]
    }
   ],
   "source": [
    "_, acc = model.evaluate(X_test, y_test, verbose=0)\n",
    "print('> %.3f' % (acc * 100.0))"
   ]
  },
  {
   "cell_type": "code",
   "execution_count": 16,
   "metadata": {},
   "outputs": [
    {
     "data": {
      "text/plain": [
       "[name: \"/device:CPU:0\"\n",
       " device_type: \"CPU\"\n",
       " memory_limit: 268435456\n",
       " locality {\n",
       " }\n",
       " incarnation: 1542327280247310683,\n",
       " name: \"/device:GPU:0\"\n",
       " device_type: \"GPU\"\n",
       " memory_limit: 6570337895\n",
       " locality {\n",
       "   bus_id: 1\n",
       "   links {\n",
       "   }\n",
       " }\n",
       " incarnation: 15260159571931258588\n",
       " physical_device_desc: \"device: 0, name: GeForce RTX 2080 SUPER, pci bus id: 0000:0a:00.0, compute capability: 7.5\"]"
      ]
     },
     "execution_count": 16,
     "metadata": {},
     "output_type": "execute_result"
    }
   ],
   "source": [
    "from tensorflow.python.client import device_lib\n",
    "device_lib.list_local_devices()"
   ]
  },
  {
   "cell_type": "code",
   "execution_count": null,
   "metadata": {},
   "outputs": [],
   "source": []
  }
 ],
 "metadata": {
  "kernelspec": {
   "display_name": "Python 3",
   "language": "python",
   "name": "python3"
  },
  "language_info": {
   "codemirror_mode": {
    "name": "ipython",
    "version": 3
   },
   "file_extension": ".py",
   "mimetype": "text/x-python",
   "name": "python",
   "nbconvert_exporter": "python",
   "pygments_lexer": "ipython3",
   "version": "3.6.10"
  }
 },
 "nbformat": 4,
 "nbformat_minor": 4
}
