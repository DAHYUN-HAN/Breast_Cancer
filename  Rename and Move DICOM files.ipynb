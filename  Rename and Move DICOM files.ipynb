{
 "cells": [
  {
   "cell_type": "code",
   "execution_count": 1,
   "metadata": {},
   "outputs": [],
   "source": [
    "import numpy as np\n",
    "import pandas as pd\n",
    "import os\n",
    "import re\n",
    "import shutil\n",
    "from shutil import move"
   ]
  },
  {
   "cell_type": "code",
   "execution_count": 59,
   "metadata": {},
   "outputs": [],
   "source": [
    "#Rename train Calc/Mass ROI DICOM files and move them to a single directory\n",
    "def rename_and_move_files (path, origin_dir, dest_dir):\n",
    "    directories = os.listdir(path + origin_dir)\n",
    "    \n",
    "    for directory in directories: \n",
    "        subdirs = os.listdir(path + origin_dir + \"/\" + directory)\n",
    "        \n",
    "        for subdir in subdirs:\n",
    "            subsubdirs = os.listdir(path + origin_dir + \"/\" + directory + \"/\" + subdir)\n",
    "            \n",
    "            for subsubdir in subsubdirs:\n",
    "                files = os.listdir(path + origin_dir + \"/\" + directory + \"/\" + subdir + \"/\" + subsubdir)\n",
    "                \n",
    "                i = 1\n",
    "                \n",
    "                for file in files:                    \n",
    "                                       \n",
    "                    files_origin_path = os.listdir(path + origin_dir + \"/\" + directory + \"/\" + subdir + \"/\" + subsubdir + \"/\")\n",
    "                    \n",
    "                    new_name = directory + \"_\" + subdir + \"_\" + subsubdir + \"_\" + str(i) + \".dcm\"\n",
    "                    i = int(i) + 1\n",
    "                    #print(new_name)\n",
    "                    #print(os.path.join(path, origin_dir, directory, subdir, subsubdir, file))\n",
    "                    #print(os.path.join(path, dest_dir, new_name))\n",
    "                    os.rename(os.path.join(path, origin_dir, directory, subdir, subsubdir, file),os.path.join(path, dest_dir, new_name))"
   ]
  },
  {
   "cell_type": "code",
   "execution_count": 61,
   "metadata": {
    "scrolled": true
   },
   "outputs": [],
   "source": [
    "#Mask files\n",
    "#rename_and_move_files(\"D:/mammography/\", origin_dir = \"origin/Calc-Test_ROI-mask_and_crpped_images/CBIS-DDSM\", dest_dir = \"new/Calc-Test_ROI-mask_and_crpped_images\")\n",
    "#rename_and_move_files(\"D:/mammography/\", origin_dir = \"origin/Mass-Test_ROI-mask_and_crpped_images/CBIS-DDSM\", dest_dir = \"new/Mass-Test_ROI-mask_and_crpped_images\")\n",
    "#rename_and_move_files(\"D:/mammography/\", origin_dir = \"origin/Mass-Test_full_mammogram_images/CBIS-DDSM\", dest_dir = \"new/Mass-Test_full_mammogram_images\")\n",
    "#rename_and_move_files(\"D:/mammography/\", origin_dir = \"origin/Calc-Test_full_mammogram_images/CBIS-DDSM\", dest_dir = \"new/Calc-Test_full_mammogram_images\")\n",
    "#rename_and_move_files(\"D:/mammography/\", origin_dir = \"origin/Calc-Training_full_mammogram_images/CBIS-DDSM\", dest_dir = \"new/Calc-Training_full_mammogram_images\")\n",
    "#rename_and_move_files(\"D:/mammography/\", origin_dir = \"origin/Calc-Training_ROI-mask_and_crpped_images/CBIS-DDSM\", dest_dir = \"new/Calc-Training_ROI-mask_and_crpped_images\")\n",
    "#rename_and_move_files(\"D:/mammography/\", origin_dir = \"origin/Calc-Test_ROI-mask_and_crpped_images/CBIS-DDSM\", dest_dir = \"new/Calc-Test_ROI-mask_and_crpped_images\")\n",
    "#rename_and_move_files(\"D:/mammography/\", origin_dir = \"origin/Mass-Test_ROI-mask_and_crpped_images/CBIS-DDSM\", dest_dir = \"new/Mass-Test_ROI-mask_and_crpped_images\")\n",
    "#rename_and_move_files(\"D:/mammography/\", origin_dir = \"origin/Mass-Training_full_mammogram_images/CBIS-DDSM\", dest_dir = \"new/Mass-Training_full_mammogram_images\")\n",
    "rename_and_move_files(\"D:/mammography/\", origin_dir = \"origin/Mass-Training_ROI-mask_and_crpped_images/CBIS-DDSM\", dest_dir = \"new/Mass-Training_ROI-mask_and_crpped_images\")\n"
   ]
  },
  {
   "cell_type": "code",
   "execution_count": 89,
   "metadata": {},
   "outputs": [],
   "source": [
    "#Rename train Calc/Mass ROI DICOM files and move them to a single directory\n",
    "def move_files (path, origin_dir, dest_dir):\n",
    "    files = os.listdir(path + origin_dir)\n",
    "    \n",
    "    for file in files:\n",
    "        if(file[-5]=='1'):\n",
    "            #print(os.path.join(path, dest_dir, file))\n",
    "            os.rename(os.path.join(path, origin_dir, file),os.path.join(path, dest_dir, file))"
   ]
  },
  {
   "cell_type": "code",
   "execution_count": 93,
   "metadata": {},
   "outputs": [],
   "source": [
    "#move_files(\"D:/mammography/\", origin_dir = \"ROI/Calc-Test_ROI-mask_and_crpped_images\", dest_dir = \"ROI/Calc-Test_crpped_images\")\n",
    "#move_files(\"D:/mammography/\", origin_dir = \"ROI/Calc-Training_ROI-mask_and_crpped_images\", dest_dir = \"ROI/Calc-Training_ROI-mask\")\n",
    "#move_files(\"D:/mammography/\", origin_dir = \"ROI/Mass-Test_ROI-mask_and_crpped_images\", dest_dir = \"ROI/Mass-Test_ROI_crpped_images\")\n",
    "move_files(\"D:/mammography/\", origin_dir = \"ROI/Mass-Training_ROI-mask_and_crpped_images\", dest_dir = \"ROI/Mass-Training_crpped_images\")\n",
    "#Mass Training 데이터셋의 경우 roi가 1, crop이 2인 경우도 많고,\n",
    "#폴더 두개에 따로 떨어트려 놓은 것도 많아서 파일 크기가 큰 순으로 정렬하여 하나하나 확인하여 분류하는 작업 거침"
   ]
  },
  {
   "cell_type": "code",
   "execution_count": 142,
   "metadata": {},
   "outputs": [],
   "source": [
    "def move_files (path, origin_dir):\n",
    "    files = os.listdir(path + origin_dir)\n",
    "    \n",
    "    for file in files:\n",
    "        new_name = file[:-52] + \".dcm\"\n",
    "        #print(new_name)\n",
    "        os.rename(os.path.join(path, origin_dir, file),os.path.join(path, origin_dir, new_name))"
   ]
  },
  {
   "cell_type": "code",
   "execution_count": 144,
   "metadata": {},
   "outputs": [],
   "source": [
    "#cropped images 와 ROI mask images의 차이. 1글자 차이나서 나중에 숫자 붙여줌.\n",
    "\n",
    "#move_files(\"D:/mammography/\", origin_dir = \"ROI_copy/Calc-Test_ROI-mask_and_crpped_images/Calc-Test_crpped_images\")\n",
    "#move_files(\"D:/mammography/\", origin_dir = \"ROI_copy/Calc-Test_ROI-mask_and_crpped_images/Calc-Test_ROI-mask\")\n",
    "#move_files(\"D:/mammography/\", origin_dir = \"ROI_copy/Calc-Training_ROI-mask_and_crpped_images/Calc-Training_crpped_images\")\n",
    "#move_files(\"D:/mammography/\", origin_dir = \"ROI_copy/Calc-Training_ROI-mask_and_crpped_images/Calc-Training_ROI-mask\")\n",
    "#ove_files(\"D:/mammography/\", origin_dir = \"ROI_copy/Mass-Test_ROI-mask_and_crpped_images/Mass-Test_ROI_crpped_images\")\n",
    "#ove_files(\"D:/mammography/\", origin_dir = \"ROI_copy/Mass-Test_ROI-mask_and_crpped_images/Mass-Test_ROI-mask\")\n",
    "move_files(\"D:/mammography/\", origin_dir = \"ROI_copy/Mass-Training_ROI-mask_and_crpped_images/Mass-Training_crpped_images\")\n",
    "move_files(\"D:/mammography/\", origin_dir = \"ROI_copy/Mass-Training_ROI-mask_and_crpped_images/Mass-Training_ROI-mask\")\n",
    "\n"
   ]
  },
  {
   "cell_type": "code",
   "execution_count": null,
   "metadata": {},
   "outputs": [],
   "source": []
  },
  {
   "cell_type": "code",
   "execution_count": null,
   "metadata": {},
   "outputs": [],
   "source": []
  }
 ],
 "metadata": {
  "kernelspec": {
   "display_name": "Python 3",
   "language": "python",
   "name": "python3"
  },
  "language_info": {
   "codemirror_mode": {
    "name": "ipython",
    "version": 3
   },
   "file_extension": ".py",
   "mimetype": "text/x-python",
   "name": "python",
   "nbconvert_exporter": "python",
   "pygments_lexer": "ipython3",
   "version": "3.6.10"
  }
 },
 "nbformat": 4,
 "nbformat_minor": 4
}
