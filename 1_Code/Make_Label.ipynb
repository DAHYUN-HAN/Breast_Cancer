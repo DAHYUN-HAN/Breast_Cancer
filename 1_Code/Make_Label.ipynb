{
 "cells": [
  {
   "cell_type": "code",
   "execution_count": 77,
   "metadata": {},
   "outputs": [],
   "source": [
    "import numpy as np\n",
    "import pandas as pd"
   ]
  },
  {
   "cell_type": "markdown",
   "metadata": {},
   "source": [
    "#### calcification test_set"
   ]
  },
  {
   "cell_type": "code",
   "execution_count": 78,
   "metadata": {},
   "outputs": [
    {
     "name": "stderr",
     "output_type": "stream",
     "text": [
      "C:\\Users\\dahyun\\anaconda3\\envs\\mammo\\lib\\site-packages\\ipykernel_launcher.py:9: SettingWithCopyWarning: \n",
      "A value is trying to be set on a copy of a slice from a DataFrame\n",
      "\n",
      "See the caveats in the documentation: https://pandas.pydata.org/pandas-docs/stable/user_guide/indexing.html#returning-a-view-versus-a-copy\n",
      "  if __name__ == '__main__':\n"
     ]
    }
   ],
   "source": [
    "calc_test = pd.read_csv(\"calc_case_description_test_set.csv\")\n",
    "new_calc_test = calc_test\n",
    "new_calc_test.drop([\"image file path\",\"cropped image file path\",\"ROI mask file path\"], axis=1, inplace=True)\n",
    "new_calc_test['image_name'] = ''\n",
    "\n",
    "i = 0\n",
    "for id in new_calc_test['abnormality id']:\n",
    "    #print(id)\n",
    "    new_calc_test['image_name'][i] = 'Calc-Test_' + calc_test.patient_id[i] + '_' + calc_test['left or right breast'][i] + '_' + calc_test['image view'][i] + '_' + str(id) + '.dcm'\n",
    "    i+=1\n",
    "    \n",
    "new_calc_test.columns = [\"patient_id\",\"breast_density\",\"left_or_right_breast\",\"image_view\",\"abnormality_id\",\"abnormality_type\",\"calc_type\",\"calc_distribution\",\"assessment\",\"pathology\", \"subtlety\",\"image_name\"]"
   ]
  },
  {
   "cell_type": "markdown",
   "metadata": {},
   "source": [
    "#### calcification train_set"
   ]
  },
  {
   "cell_type": "code",
   "execution_count": 79,
   "metadata": {
    "scrolled": true
   },
   "outputs": [
    {
     "name": "stderr",
     "output_type": "stream",
     "text": [
      "C:\\Users\\dahyun\\anaconda3\\envs\\mammo\\lib\\site-packages\\ipykernel_launcher.py:9: SettingWithCopyWarning: \n",
      "A value is trying to be set on a copy of a slice from a DataFrame\n",
      "\n",
      "See the caveats in the documentation: https://pandas.pydata.org/pandas-docs/stable/user_guide/indexing.html#returning-a-view-versus-a-copy\n",
      "  if __name__ == '__main__':\n"
     ]
    }
   ],
   "source": [
    "calc_train = pd.read_csv(\"calc_case_description_train_set.csv\")\n",
    "new_calc_train = calc_train\n",
    "new_calc_train.drop([\"image file path\",\"cropped image file path\",\"ROI mask file path\"], axis=1, inplace=True)\n",
    "new_calc_train['image_name'] = ''\n",
    "\n",
    "i = 0\n",
    "for id in new_calc_train['abnormality id']:\n",
    "    #print(id)\n",
    "    new_calc_train['image_name'][i] = 'Calc-Training_' + calc_train.patient_id[i] + '_' + calc_train['left or right breast'][i] + '_' + calc_train['image view'][i] + '_' + str(id) + '.dcm'\n",
    "    i+=1\n",
    "new_calc_train.columns = [\"patient_id\",\"breast_density\",\"left_or_right_breast\",\"image_view\",\"abnormality_id\",\"abnormality_type\",\"calc_type\",\"calc_distribution\",\"assessment\",\"pathology\", \"subtlety\",\"image_name\"]"
   ]
  },
  {
   "cell_type": "markdown",
   "metadata": {},
   "source": [
    "#### mass test_set"
   ]
  },
  {
   "cell_type": "code",
   "execution_count": 80,
   "metadata": {
    "scrolled": true
   },
   "outputs": [
    {
     "name": "stderr",
     "output_type": "stream",
     "text": [
      "C:\\Users\\dahyun\\anaconda3\\envs\\mammo\\lib\\site-packages\\ipykernel_launcher.py:9: SettingWithCopyWarning: \n",
      "A value is trying to be set on a copy of a slice from a DataFrame\n",
      "\n",
      "See the caveats in the documentation: https://pandas.pydata.org/pandas-docs/stable/user_guide/indexing.html#returning-a-view-versus-a-copy\n",
      "  if __name__ == '__main__':\n"
     ]
    }
   ],
   "source": [
    "mass_test = pd.read_csv(\"mass_case_description_test_set.csv\")\n",
    "new_mass_test = mass_test\n",
    "new_mass_test.drop([\"image file path\",\"cropped image file path\",\"ROI mask file path\"], axis=1, inplace=True)\n",
    "new_mass_test['image_name'] = ''\n",
    "\n",
    "i = 0\n",
    "for id in new_mass_test['abnormality id']:\n",
    "    #print(id)\n",
    "    new_mass_test['image_name'][i] = 'Mass-Test_' + mass_test.patient_id[i] + '_' + mass_test['left or right breast'][i] + '_' + mass_test['image view'][i] + '_' + str(id) + '.dcm'\n",
    "    i+=1\n",
    "new_mass_test.columns = [\"patient_id\",\"breast_density\",\"left_or_right_breast\",\"image_view\",\"abnormality_id\",\"abnormality_type\",\"mass_shape\",\"mass_margins\",\"assessment\",\"pathology\", \"subtlety\",\"image_name\"]"
   ]
  },
  {
   "cell_type": "markdown",
   "metadata": {},
   "source": [
    "#### mass train_set"
   ]
  },
  {
   "cell_type": "code",
   "execution_count": 81,
   "metadata": {},
   "outputs": [
    {
     "name": "stderr",
     "output_type": "stream",
     "text": [
      "C:\\Users\\dahyun\\anaconda3\\envs\\mammo\\lib\\site-packages\\ipykernel_launcher.py:9: SettingWithCopyWarning: \n",
      "A value is trying to be set on a copy of a slice from a DataFrame\n",
      "\n",
      "See the caveats in the documentation: https://pandas.pydata.org/pandas-docs/stable/user_guide/indexing.html#returning-a-view-versus-a-copy\n",
      "  if __name__ == '__main__':\n"
     ]
    }
   ],
   "source": [
    "mass_train = pd.read_csv(\"mass_case_description_train_set.csv\")\n",
    "new_mass_train = mass_train\n",
    "new_mass_train.drop([\"image file path\",\"cropped image file path\",\"ROI mask file path\"], axis=1, inplace=True)\n",
    "new_mass_train['image_name'] = ''\n",
    "\n",
    "i = 0\n",
    "for id in new_mass_train['abnormality id']:\n",
    "    #print(id)\n",
    "    new_mass_train['image_name'][i] = 'Mass-Training_' + mass_train.patient_id[i] + '_' + mass_train['left or right breast'][i] + '_' + mass_train['image view'][i] + '_' + str(id) + '.dcm'\n",
    "    i+=1\n",
    "new_mass_train.columns = [\"patient_id\",\"breast_density\",\"left_or_right_breast\",\"image_view\",\"abnormality_id\",\"abnormality_type\",\"mass_shape\",\"mass_margins\",\"assessment\",\"pathology\", \"subtlety\",\"image_name\"]"
   ]
  },
  {
   "cell_type": "markdown",
   "metadata": {},
   "source": [
    "#### train label과 test label 만들기"
   ]
  },
  {
   "cell_type": "code",
   "execution_count": 82,
   "metadata": {},
   "outputs": [
    {
     "name": "stderr",
     "output_type": "stream",
     "text": [
      "C:\\Users\\dahyun\\anaconda3\\envs\\mammo\\lib\\site-packages\\ipykernel_launcher.py:2: SettingWithCopyWarning: \n",
      "A value is trying to be set on a copy of a slice from a DataFrame\n",
      "\n",
      "See the caveats in the documentation: https://pandas.pydata.org/pandas-docs/stable/user_guide/indexing.html#returning-a-view-versus-a-copy\n",
      "  \n",
      "C:\\Users\\dahyun\\anaconda3\\envs\\mammo\\lib\\site-packages\\ipykernel_launcher.py:6: SettingWithCopyWarning: \n",
      "A value is trying to be set on a copy of a slice from a DataFrame\n",
      "\n",
      "See the caveats in the documentation: https://pandas.pydata.org/pandas-docs/stable/user_guide/indexing.html#returning-a-view-versus-a-copy\n",
      "  \n"
     ]
    }
   ],
   "source": [
    "train_label = pd.concat([new_calc_train, new_mass_train], axis = 0)\n",
    "train_label['pathology'][train_label['pathology'] == 'BENIGN_WITHOUT_CALLBACK'] = 'BENIGN'\n",
    "train_label['class'] = train_label['pathology'] + '_' + train_label['abnormality_type']\n",
    "\n",
    "test_label = pd.concat([new_calc_test, new_mass_test], axis = 0)\n",
    "test_label['pathology'][test_label['pathology'] == 'BENIGN_WITHOUT_CALLBACK'] = 'BENIGN'\n",
    "test_label['class'] = test_label['pathology'] + '_' + test_label['abnormality_type']"
   ]
  },
  {
   "cell_type": "markdown",
   "metadata": {},
   "source": [
    "#### datset 만들때 필요한 비교 열 만들기\n",
    "(P_00038_LEFT_CC.png 형식)"
   ]
  },
  {
   "cell_type": "code",
   "execution_count": 83,
   "metadata": {},
   "outputs": [],
   "source": [
    "train_label['name'] = train_label['patient_id'] + '_' + train_label['left_or_right_breast'] + '_' + train_label['image_view'] + '.png'\n",
    "test_label['name'] = test_label['patient_id'] + '_' + test_label['left_or_right_breast'] + '_' + test_label['image_view'] + '.png'"
   ]
  },
  {
   "cell_type": "code",
   "execution_count": 84,
   "metadata": {},
   "outputs": [],
   "source": [
    "train_label.set_index(\"name\", inplace = True)\n",
    "test_label.set_index(\"name\", inplace = True)"
   ]
  },
  {
   "cell_type": "markdown",
   "metadata": {},
   "source": [
    "#### label 저장"
   ]
  },
  {
   "cell_type": "code",
   "execution_count": 88,
   "metadata": {},
   "outputs": [],
   "source": [
    "train_label.to_pickle(\"train_label.pkl\")\n",
    "test_label.to_pickle(\"test_label.pkl\")"
   ]
  },
  {
   "cell_type": "code",
   "execution_count": 87,
   "metadata": {},
   "outputs": [
    {
     "data": {
      "text/html": [
       "<div>\n",
       "<style scoped>\n",
       "    .dataframe tbody tr th:only-of-type {\n",
       "        vertical-align: middle;\n",
       "    }\n",
       "\n",
       "    .dataframe tbody tr th {\n",
       "        vertical-align: top;\n",
       "    }\n",
       "\n",
       "    .dataframe thead th {\n",
       "        text-align: right;\n",
       "    }\n",
       "</style>\n",
       "<table border=\"1\" class=\"dataframe\">\n",
       "  <thead>\n",
       "    <tr style=\"text-align: right;\">\n",
       "      <th></th>\n",
       "      <th>patient_id</th>\n",
       "      <th>breast_density</th>\n",
       "      <th>left_or_right_breast</th>\n",
       "      <th>image_view</th>\n",
       "      <th>abnormality_id</th>\n",
       "      <th>abnormality_type</th>\n",
       "      <th>calc_type</th>\n",
       "      <th>calc_distribution</th>\n",
       "      <th>assessment</th>\n",
       "      <th>pathology</th>\n",
       "      <th>subtlety</th>\n",
       "      <th>image_name</th>\n",
       "      <th>mass_shape</th>\n",
       "      <th>mass_margins</th>\n",
       "      <th>class</th>\n",
       "    </tr>\n",
       "    <tr>\n",
       "      <th>name</th>\n",
       "      <th></th>\n",
       "      <th></th>\n",
       "      <th></th>\n",
       "      <th></th>\n",
       "      <th></th>\n",
       "      <th></th>\n",
       "      <th></th>\n",
       "      <th></th>\n",
       "      <th></th>\n",
       "      <th></th>\n",
       "      <th></th>\n",
       "      <th></th>\n",
       "      <th></th>\n",
       "      <th></th>\n",
       "      <th></th>\n",
       "    </tr>\n",
       "  </thead>\n",
       "  <tbody>\n",
       "    <tr>\n",
       "      <th>P_00038_LEFT_CC.png</th>\n",
       "      <td>P_00038</td>\n",
       "      <td>2</td>\n",
       "      <td>LEFT</td>\n",
       "      <td>CC</td>\n",
       "      <td>1</td>\n",
       "      <td>calcification</td>\n",
       "      <td>PUNCTATE-PLEOMORPHIC</td>\n",
       "      <td>CLUSTERED</td>\n",
       "      <td>4</td>\n",
       "      <td>BENIGN</td>\n",
       "      <td>2</td>\n",
       "      <td>Calc-Test_P_00038_LEFT_CC_1.dcm</td>\n",
       "      <td>NaN</td>\n",
       "      <td>NaN</td>\n",
       "      <td>BENIGN_calcification</td>\n",
       "    </tr>\n",
       "    <tr>\n",
       "      <th>P_00038_LEFT_MLO.png</th>\n",
       "      <td>P_00038</td>\n",
       "      <td>2</td>\n",
       "      <td>LEFT</td>\n",
       "      <td>MLO</td>\n",
       "      <td>1</td>\n",
       "      <td>calcification</td>\n",
       "      <td>PUNCTATE-PLEOMORPHIC</td>\n",
       "      <td>CLUSTERED</td>\n",
       "      <td>4</td>\n",
       "      <td>BENIGN</td>\n",
       "      <td>2</td>\n",
       "      <td>Calc-Test_P_00038_LEFT_MLO_1.dcm</td>\n",
       "      <td>NaN</td>\n",
       "      <td>NaN</td>\n",
       "      <td>BENIGN_calcification</td>\n",
       "    </tr>\n",
       "    <tr>\n",
       "      <th>P_00038_RIGHT_CC.png</th>\n",
       "      <td>P_00038</td>\n",
       "      <td>2</td>\n",
       "      <td>RIGHT</td>\n",
       "      <td>CC</td>\n",
       "      <td>1</td>\n",
       "      <td>calcification</td>\n",
       "      <td>VASCULAR</td>\n",
       "      <td>NaN</td>\n",
       "      <td>2</td>\n",
       "      <td>BENIGN</td>\n",
       "      <td>5</td>\n",
       "      <td>Calc-Test_P_00038_RIGHT_CC_1.dcm</td>\n",
       "      <td>NaN</td>\n",
       "      <td>NaN</td>\n",
       "      <td>BENIGN_calcification</td>\n",
       "    </tr>\n",
       "    <tr>\n",
       "      <th>P_00038_RIGHT_CC.png</th>\n",
       "      <td>P_00038</td>\n",
       "      <td>2</td>\n",
       "      <td>RIGHT</td>\n",
       "      <td>CC</td>\n",
       "      <td>2</td>\n",
       "      <td>calcification</td>\n",
       "      <td>VASCULAR</td>\n",
       "      <td>NaN</td>\n",
       "      <td>2</td>\n",
       "      <td>BENIGN</td>\n",
       "      <td>5</td>\n",
       "      <td>Calc-Test_P_00038_RIGHT_CC_2.dcm</td>\n",
       "      <td>NaN</td>\n",
       "      <td>NaN</td>\n",
       "      <td>BENIGN_calcification</td>\n",
       "    </tr>\n",
       "    <tr>\n",
       "      <th>P_00038_RIGHT_MLO.png</th>\n",
       "      <td>P_00038</td>\n",
       "      <td>2</td>\n",
       "      <td>RIGHT</td>\n",
       "      <td>MLO</td>\n",
       "      <td>1</td>\n",
       "      <td>calcification</td>\n",
       "      <td>VASCULAR</td>\n",
       "      <td>NaN</td>\n",
       "      <td>2</td>\n",
       "      <td>BENIGN</td>\n",
       "      <td>5</td>\n",
       "      <td>Calc-Test_P_00038_RIGHT_MLO_1.dcm</td>\n",
       "      <td>NaN</td>\n",
       "      <td>NaN</td>\n",
       "      <td>BENIGN_calcification</td>\n",
       "    </tr>\n",
       "    <tr>\n",
       "      <th>...</th>\n",
       "      <td>...</td>\n",
       "      <td>...</td>\n",
       "      <td>...</td>\n",
       "      <td>...</td>\n",
       "      <td>...</td>\n",
       "      <td>...</td>\n",
       "      <td>...</td>\n",
       "      <td>...</td>\n",
       "      <td>...</td>\n",
       "      <td>...</td>\n",
       "      <td>...</td>\n",
       "      <td>...</td>\n",
       "      <td>...</td>\n",
       "      <td>...</td>\n",
       "      <td>...</td>\n",
       "    </tr>\n",
       "    <tr>\n",
       "      <th>P_01825_RIGHT_MLO.png</th>\n",
       "      <td>P_01825</td>\n",
       "      <td>2</td>\n",
       "      <td>RIGHT</td>\n",
       "      <td>MLO</td>\n",
       "      <td>1</td>\n",
       "      <td>mass</td>\n",
       "      <td>NaN</td>\n",
       "      <td>NaN</td>\n",
       "      <td>3</td>\n",
       "      <td>BENIGN</td>\n",
       "      <td>3</td>\n",
       "      <td>Mass-Test_P_01825_RIGHT_MLO_1.dcm</td>\n",
       "      <td>LOBULATED</td>\n",
       "      <td>MICROLOBULATED</td>\n",
       "      <td>BENIGN_mass</td>\n",
       "    </tr>\n",
       "    <tr>\n",
       "      <th>P_01833_RIGHT_MLO.png</th>\n",
       "      <td>P_01833</td>\n",
       "      <td>2</td>\n",
       "      <td>RIGHT</td>\n",
       "      <td>MLO</td>\n",
       "      <td>1</td>\n",
       "      <td>mass</td>\n",
       "      <td>NaN</td>\n",
       "      <td>NaN</td>\n",
       "      <td>5</td>\n",
       "      <td>MALIGNANT</td>\n",
       "      <td>5</td>\n",
       "      <td>Mass-Test_P_01833_RIGHT_MLO_1.dcm</td>\n",
       "      <td>IRREGULAR</td>\n",
       "      <td>ILL_DEFINED</td>\n",
       "      <td>MALIGNANT_mass</td>\n",
       "    </tr>\n",
       "    <tr>\n",
       "      <th>P_01865_LEFT_MLO.png</th>\n",
       "      <td>P_01865</td>\n",
       "      <td>2</td>\n",
       "      <td>LEFT</td>\n",
       "      <td>MLO</td>\n",
       "      <td>1</td>\n",
       "      <td>mass</td>\n",
       "      <td>NaN</td>\n",
       "      <td>NaN</td>\n",
       "      <td>4</td>\n",
       "      <td>MALIGNANT</td>\n",
       "      <td>2</td>\n",
       "      <td>Mass-Test_P_01865_LEFT_MLO_1.dcm</td>\n",
       "      <td>IRREGULAR</td>\n",
       "      <td>ILL_DEFINED</td>\n",
       "      <td>MALIGNANT_mass</td>\n",
       "    </tr>\n",
       "    <tr>\n",
       "      <th>P_01912_RIGHT_CC.png</th>\n",
       "      <td>P_01912</td>\n",
       "      <td>3</td>\n",
       "      <td>RIGHT</td>\n",
       "      <td>CC</td>\n",
       "      <td>1</td>\n",
       "      <td>mass</td>\n",
       "      <td>NaN</td>\n",
       "      <td>NaN</td>\n",
       "      <td>5</td>\n",
       "      <td>MALIGNANT</td>\n",
       "      <td>4</td>\n",
       "      <td>Mass-Test_P_01912_RIGHT_CC_1.dcm</td>\n",
       "      <td>IRREGULAR</td>\n",
       "      <td>SPICULATED</td>\n",
       "      <td>MALIGNANT_mass</td>\n",
       "    </tr>\n",
       "    <tr>\n",
       "      <th>P_01912_RIGHT_MLO.png</th>\n",
       "      <td>P_01912</td>\n",
       "      <td>3</td>\n",
       "      <td>RIGHT</td>\n",
       "      <td>MLO</td>\n",
       "      <td>1</td>\n",
       "      <td>mass</td>\n",
       "      <td>NaN</td>\n",
       "      <td>NaN</td>\n",
       "      <td>5</td>\n",
       "      <td>MALIGNANT</td>\n",
       "      <td>4</td>\n",
       "      <td>Mass-Test_P_01912_RIGHT_MLO_1.dcm</td>\n",
       "      <td>IRREGULAR</td>\n",
       "      <td>SPICULATED</td>\n",
       "      <td>MALIGNANT_mass</td>\n",
       "    </tr>\n",
       "  </tbody>\n",
       "</table>\n",
       "<p>704 rows × 15 columns</p>\n",
       "</div>"
      ],
      "text/plain": [
       "                      patient_id  breast_density left_or_right_breast  \\\n",
       "name                                                                    \n",
       "P_00038_LEFT_CC.png      P_00038               2                 LEFT   \n",
       "P_00038_LEFT_MLO.png     P_00038               2                 LEFT   \n",
       "P_00038_RIGHT_CC.png     P_00038               2                RIGHT   \n",
       "P_00038_RIGHT_CC.png     P_00038               2                RIGHT   \n",
       "P_00038_RIGHT_MLO.png    P_00038               2                RIGHT   \n",
       "...                          ...             ...                  ...   \n",
       "P_01825_RIGHT_MLO.png    P_01825               2                RIGHT   \n",
       "P_01833_RIGHT_MLO.png    P_01833               2                RIGHT   \n",
       "P_01865_LEFT_MLO.png     P_01865               2                 LEFT   \n",
       "P_01912_RIGHT_CC.png     P_01912               3                RIGHT   \n",
       "P_01912_RIGHT_MLO.png    P_01912               3                RIGHT   \n",
       "\n",
       "                      image_view  abnormality_id abnormality_type  \\\n",
       "name                                                                \n",
       "P_00038_LEFT_CC.png           CC               1    calcification   \n",
       "P_00038_LEFT_MLO.png         MLO               1    calcification   \n",
       "P_00038_RIGHT_CC.png          CC               1    calcification   \n",
       "P_00038_RIGHT_CC.png          CC               2    calcification   \n",
       "P_00038_RIGHT_MLO.png        MLO               1    calcification   \n",
       "...                          ...             ...              ...   \n",
       "P_01825_RIGHT_MLO.png        MLO               1             mass   \n",
       "P_01833_RIGHT_MLO.png        MLO               1             mass   \n",
       "P_01865_LEFT_MLO.png         MLO               1             mass   \n",
       "P_01912_RIGHT_CC.png          CC               1             mass   \n",
       "P_01912_RIGHT_MLO.png        MLO               1             mass   \n",
       "\n",
       "                                  calc_type calc_distribution  assessment  \\\n",
       "name                                                                        \n",
       "P_00038_LEFT_CC.png    PUNCTATE-PLEOMORPHIC         CLUSTERED           4   \n",
       "P_00038_LEFT_MLO.png   PUNCTATE-PLEOMORPHIC         CLUSTERED           4   \n",
       "P_00038_RIGHT_CC.png               VASCULAR               NaN           2   \n",
       "P_00038_RIGHT_CC.png               VASCULAR               NaN           2   \n",
       "P_00038_RIGHT_MLO.png              VASCULAR               NaN           2   \n",
       "...                                     ...               ...         ...   \n",
       "P_01825_RIGHT_MLO.png                   NaN               NaN           3   \n",
       "P_01833_RIGHT_MLO.png                   NaN               NaN           5   \n",
       "P_01865_LEFT_MLO.png                    NaN               NaN           4   \n",
       "P_01912_RIGHT_CC.png                    NaN               NaN           5   \n",
       "P_01912_RIGHT_MLO.png                   NaN               NaN           5   \n",
       "\n",
       "                       pathology  subtlety                         image_name  \\\n",
       "name                                                                            \n",
       "P_00038_LEFT_CC.png       BENIGN         2    Calc-Test_P_00038_LEFT_CC_1.dcm   \n",
       "P_00038_LEFT_MLO.png      BENIGN         2   Calc-Test_P_00038_LEFT_MLO_1.dcm   \n",
       "P_00038_RIGHT_CC.png      BENIGN         5   Calc-Test_P_00038_RIGHT_CC_1.dcm   \n",
       "P_00038_RIGHT_CC.png      BENIGN         5   Calc-Test_P_00038_RIGHT_CC_2.dcm   \n",
       "P_00038_RIGHT_MLO.png     BENIGN         5  Calc-Test_P_00038_RIGHT_MLO_1.dcm   \n",
       "...                          ...       ...                                ...   \n",
       "P_01825_RIGHT_MLO.png     BENIGN         3  Mass-Test_P_01825_RIGHT_MLO_1.dcm   \n",
       "P_01833_RIGHT_MLO.png  MALIGNANT         5  Mass-Test_P_01833_RIGHT_MLO_1.dcm   \n",
       "P_01865_LEFT_MLO.png   MALIGNANT         2   Mass-Test_P_01865_LEFT_MLO_1.dcm   \n",
       "P_01912_RIGHT_CC.png   MALIGNANT         4   Mass-Test_P_01912_RIGHT_CC_1.dcm   \n",
       "P_01912_RIGHT_MLO.png  MALIGNANT         4  Mass-Test_P_01912_RIGHT_MLO_1.dcm   \n",
       "\n",
       "                      mass_shape    mass_margins                 class  \n",
       "name                                                                    \n",
       "P_00038_LEFT_CC.png          NaN             NaN  BENIGN_calcification  \n",
       "P_00038_LEFT_MLO.png         NaN             NaN  BENIGN_calcification  \n",
       "P_00038_RIGHT_CC.png         NaN             NaN  BENIGN_calcification  \n",
       "P_00038_RIGHT_CC.png         NaN             NaN  BENIGN_calcification  \n",
       "P_00038_RIGHT_MLO.png        NaN             NaN  BENIGN_calcification  \n",
       "...                          ...             ...                   ...  \n",
       "P_01825_RIGHT_MLO.png  LOBULATED  MICROLOBULATED           BENIGN_mass  \n",
       "P_01833_RIGHT_MLO.png  IRREGULAR     ILL_DEFINED        MALIGNANT_mass  \n",
       "P_01865_LEFT_MLO.png   IRREGULAR     ILL_DEFINED        MALIGNANT_mass  \n",
       "P_01912_RIGHT_CC.png   IRREGULAR      SPICULATED        MALIGNANT_mass  \n",
       "P_01912_RIGHT_MLO.png  IRREGULAR      SPICULATED        MALIGNANT_mass  \n",
       "\n",
       "[704 rows x 15 columns]"
      ]
     },
     "execution_count": 87,
     "metadata": {},
     "output_type": "execute_result"
    }
   ],
   "source": [
    "test_label"
   ]
  },
  {
   "cell_type": "code",
   "execution_count": null,
   "metadata": {},
   "outputs": [],
   "source": []
  },
  {
   "cell_type": "code",
   "execution_count": null,
   "metadata": {},
   "outputs": [],
   "source": []
  },
  {
   "cell_type": "code",
   "execution_count": null,
   "metadata": {},
   "outputs": [],
   "source": []
  },
  {
   "cell_type": "code",
   "execution_count": null,
   "metadata": {},
   "outputs": [],
   "source": []
  }
 ],
 "metadata": {
  "kernelspec": {
   "display_name": "Python 3",
   "language": "python",
   "name": "python3"
  },
  "language_info": {
   "codemirror_mode": {
    "name": "ipython",
    "version": 3
   },
   "file_extension": ".py",
   "mimetype": "text/x-python",
   "name": "python",
   "nbconvert_exporter": "python",
   "pygments_lexer": "ipython3",
   "version": "3.6.10"
  }
 },
 "nbformat": 4,
 "nbformat_minor": 4
}
