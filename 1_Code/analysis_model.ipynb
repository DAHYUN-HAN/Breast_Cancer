{
 "cells": [
  {
   "cell_type": "code",
   "execution_count": 1,
   "metadata": {},
   "outputs": [],
   "source": [
    "import numpy as np\n",
    "import os\n",
    "from tensorflow.keras.utils import to_categorical\n",
    "from tensorflow.keras import models\n",
    "from sklearn.metrics import confusion_matrix\n",
    "from tensorflow.keras.applications.vgg16 import preprocess_input\n",
    "from sklearn.metrics import roc_curve,roc_auc_score\n",
    "import matplotlib.pyplot as plt\n",
    "import pandas as pd\n",
    "from sklearn import metrics\n",
    "import seaborn as sns"
   ]
  },
  {
   "cell_type": "code",
   "execution_count": 2,
   "metadata": {},
   "outputs": [],
   "source": [
    "def Sensitivity(tn, fp, fn, tp) :\n",
    "    return tp / (tp + fn)\n",
    "\n",
    "def Specificity(tn, fp, fn, tp) :\n",
    "    return tn / (fp + tn)\n",
    "\n",
    "def Precision(tn, fp, fn, tp) :\n",
    "    return tp / (tp + fp)\n",
    "\n",
    "def Recall(tn, fp, fn, tp) :\n",
    "    return tp / (tp + fn)\n",
    "\n",
    "def accuracy(tn, fp, fn, tp) :\n",
    "    return (tp + tn) / (tp + fn + fp + tn)\n",
    "\n",
    "def f1(tn, fp, fn, tp):\n",
    "    return (2 * Precision(tn, fp, fn, tp) * Recall(tn, fp, fn, tp))/(Precision(tn, fp, fn, tp)+Recall(tn, fp, fn, tp))"
   ]
  },
  {
   "cell_type": "code",
   "execution_count": 6,
   "metadata": {},
   "outputs": [],
   "source": [
    "def load_testing():\n",
    "    images = np.load(os.path.join('../Data_final_calcver', 'X_test.npy'))\n",
    "    labels = np.load(os.path.join('../Data_final_calcver', 'test_calc_labels2_num.npy'))\n",
    "    return images, labels"
   ]
  },
  {
   "cell_type": "code",
   "execution_count": 7,
   "metadata": {},
   "outputs": [],
   "source": [
    "test_images, test_labels = load_testing()\n",
    "n_test_img = test_images.shape[0]\n",
    "\n",
    "test_labels_raw = test_labels.copy()\n",
    "test_labels = to_categorical(test_labels)\n",
    "\n",
    "#test_images = test_images.reshape((n_test_img, 256, 256, 1))\n",
    "\n",
    "test_images = test_images.astype('uint16')/256\n",
    "test_images = np.repeat(test_images, 3, axis=3)\n"
   ]
  },
  {
   "cell_type": "markdown",
   "metadata": {},
   "source": [
    "preprocess_input():  \n",
    "The preprocess_input function is meant to adequate your image to the format the model requires.\n",
    "Some models use images with values ranging from 0 to 1. Others from -1 to +1. Others use the \"caffe\" style, that is not normalized, but is centered."
   ]
  },
  {
   "cell_type": "code",
   "execution_count": 8,
   "metadata": {},
   "outputs": [],
   "source": [
    "preprocess_input(test_images);"
   ]
  },
  {
   "cell_type": "code",
   "execution_count": 48,
   "metadata": {},
   "outputs": [],
   "source": [
    "model = models.load_model('../model/vgg16_calc_benign_or_malignant_best_RMSprop.h5')"
   ]
  },
  {
   "cell_type": "code",
   "execution_count": 49,
   "metadata": {},
   "outputs": [
    {
     "name": "stdout",
     "output_type": "stream",
     "text": [
      "Model: \"model\"\n",
      "_________________________________________________________________\n",
      "Layer (type)                 Output Shape              Param #   \n",
      "=================================================================\n",
      "input_1 (InputLayer)         [(None, 256, 256, 3)]     0         \n",
      "_________________________________________________________________\n",
      "block1_conv1 (Conv2D)        (None, 256, 256, 64)      1792      \n",
      "_________________________________________________________________\n",
      "block1_conv2 (Conv2D)        (None, 256, 256, 64)      36928     \n",
      "_________________________________________________________________\n",
      "block1_pool (MaxPooling2D)   (None, 128, 128, 64)      0         \n",
      "_________________________________________________________________\n",
      "block2_conv1 (Conv2D)        (None, 128, 128, 128)     73856     \n",
      "_________________________________________________________________\n",
      "block2_conv2 (Conv2D)        (None, 128, 128, 128)     147584    \n",
      "_________________________________________________________________\n",
      "block2_pool (MaxPooling2D)   (None, 64, 64, 128)       0         \n",
      "_________________________________________________________________\n",
      "block3_conv1 (Conv2D)        (None, 64, 64, 256)       295168    \n",
      "_________________________________________________________________\n",
      "block3_conv2 (Conv2D)        (None, 64, 64, 256)       590080    \n",
      "_________________________________________________________________\n",
      "block3_conv3 (Conv2D)        (None, 64, 64, 256)       590080    \n",
      "_________________________________________________________________\n",
      "block3_pool (MaxPooling2D)   (None, 32, 32, 256)       0         \n",
      "_________________________________________________________________\n",
      "block4_conv1 (Conv2D)        (None, 32, 32, 512)       1180160   \n",
      "_________________________________________________________________\n",
      "block4_conv2 (Conv2D)        (None, 32, 32, 512)       2359808   \n",
      "_________________________________________________________________\n",
      "block4_conv3 (Conv2D)        (None, 32, 32, 512)       2359808   \n",
      "_________________________________________________________________\n",
      "block4_pool (MaxPooling2D)   (None, 16, 16, 512)       0         \n",
      "_________________________________________________________________\n",
      "block5_conv1 (Conv2D)        (None, 16, 16, 512)       2359808   \n",
      "_________________________________________________________________\n",
      "block5_conv2 (Conv2D)        (None, 16, 16, 512)       2359808   \n",
      "_________________________________________________________________\n",
      "block5_conv3 (Conv2D)        (None, 16, 16, 512)       2359808   \n",
      "_________________________________________________________________\n",
      "block5_pool (MaxPooling2D)   (None, 8, 8, 512)         0         \n",
      "_________________________________________________________________\n",
      "flatten (Flatten)            (None, 32768)             0         \n",
      "_________________________________________________________________\n",
      "dense1 (Dense)               (None, 1024)              33555456  \n",
      "_________________________________________________________________\n",
      "dense2 (Dense)               (None, 128)               131200    \n",
      "_________________________________________________________________\n",
      "predictions (Dense)          (None, 2)                 258       \n",
      "=================================================================\n",
      "Total params: 48,401,602\n",
      "Trainable params: 33,686,914\n",
      "Non-trainable params: 14,714,688\n",
      "_________________________________________________________________\n"
     ]
    }
   ],
   "source": [
    "model.summary()"
   ]
  },
  {
   "cell_type": "markdown",
   "metadata": {},
   "source": [
    "model = models.load_model('../model/vgg16_mass_benign_or_malignant_fine_Adam_best3.h5')"
   ]
  },
  {
   "cell_type": "code",
   "execution_count": 50,
   "metadata": {},
   "outputs": [
    {
     "data": {
      "text/plain": [
       "array([[3.47595334e-01, 6.52404726e-01],\n",
       "       [7.28871346e-01, 2.71128654e-01],\n",
       "       [5.91511071e-01, 4.08488959e-01],\n",
       "       [1.00000000e+00, 1.99726964e-28],\n",
       "       [4.47304457e-01, 5.52695572e-01],\n",
       "       [6.65842146e-02, 9.33415830e-01],\n",
       "       [9.40937042e-01, 5.90629764e-02],\n",
       "       [8.04321468e-01, 1.95678577e-01],\n",
       "       [6.72927141e-01, 3.27072889e-01],\n",
       "       [8.83171618e-01, 1.16828322e-01],\n",
       "       [6.65064037e-01, 3.34935933e-01],\n",
       "       [7.86974788e-01, 2.13025227e-01],\n",
       "       [9.54235852e-01, 4.57641855e-02],\n",
       "       [5.56593180e-01, 4.43406820e-01],\n",
       "       [5.49964130e-01, 4.50035900e-01],\n",
       "       [7.07962394e-01, 2.92037666e-01],\n",
       "       [3.48163843e-01, 6.51836157e-01],\n",
       "       [6.04533374e-01, 3.95466655e-01],\n",
       "       [6.74435556e-01, 3.25564444e-01],\n",
       "       [9.43922460e-01, 5.60775511e-02],\n",
       "       [8.41938257e-01, 1.58061787e-01],\n",
       "       [5.26163578e-01, 4.73836452e-01],\n",
       "       [7.16241121e-01, 2.83758879e-01],\n",
       "       [3.24308544e-01, 6.75691426e-01],\n",
       "       [2.70442575e-01, 7.29557455e-01],\n",
       "       [1.00000000e+00, 1.62964734e-18],\n",
       "       [5.78997731e-01, 4.21002269e-01],\n",
       "       [9.99627471e-01, 3.72533454e-04],\n",
       "       [1.00000000e+00, 9.92111637e-09],\n",
       "       [3.39023411e-01, 6.60976529e-01],\n",
       "       [5.60727894e-01, 4.39272076e-01],\n",
       "       [8.31303775e-01, 1.68696210e-01],\n",
       "       [4.41801906e-01, 5.58198094e-01],\n",
       "       [4.88554209e-01, 5.11445761e-01],\n",
       "       [1.00000000e+00, 1.13632138e-15],\n",
       "       [6.13541067e-01, 3.86458993e-01],\n",
       "       [3.46740574e-01, 6.53259397e-01],\n",
       "       [8.53369474e-01, 1.46630496e-01],\n",
       "       [5.88490248e-01, 4.11509812e-01],\n",
       "       [1.00000000e+00, 8.39168610e-18],\n",
       "       [9.79983270e-01, 2.00167391e-02],\n",
       "       [7.85169125e-01, 2.14830846e-01],\n",
       "       [4.78302062e-01, 5.21697938e-01],\n",
       "       [6.40652895e-01, 3.59347135e-01],\n",
       "       [3.53803426e-01, 6.46196544e-01],\n",
       "       [1.00000000e+00, 3.12421844e-09],\n",
       "       [3.07383746e-01, 6.92616284e-01],\n",
       "       [8.84494066e-01, 1.15505964e-01],\n",
       "       [5.65285861e-01, 4.34714109e-01],\n",
       "       [5.99270582e-01, 4.00729418e-01],\n",
       "       [1.92024693e-01, 8.07975292e-01],\n",
       "       [7.87257195e-01, 2.12742791e-01],\n",
       "       [2.87523270e-01, 7.12476730e-01],\n",
       "       [8.10624659e-01, 1.89375386e-01],\n",
       "       [4.14307564e-01, 5.85692406e-01],\n",
       "       [9.99999404e-01, 5.80908988e-07],\n",
       "       [2.47009933e-01, 7.52990127e-01],\n",
       "       [8.01454425e-01, 1.98545545e-01],\n",
       "       [9.99995828e-01, 4.18130912e-06],\n",
       "       [4.77569133e-01, 5.22430837e-01],\n",
       "       [4.15037155e-01, 5.84962845e-01],\n",
       "       [3.38886797e-01, 6.61113262e-01],\n",
       "       [7.29220450e-01, 2.70779550e-01],\n",
       "       [9.30237055e-01, 6.97629824e-02],\n",
       "       [5.57932377e-01, 4.42067593e-01],\n",
       "       [3.46098751e-01, 6.53901279e-01],\n",
       "       [7.61287034e-01, 2.38712937e-01],\n",
       "       [9.76826727e-01, 2.31732167e-02],\n",
       "       [1.00000000e+00, 2.55530305e-16],\n",
       "       [1.95980519e-01, 8.04019511e-01],\n",
       "       [7.55552232e-01, 2.44447768e-01],\n",
       "       [1.92030579e-01, 8.07969451e-01],\n",
       "       [6.20850503e-01, 3.79149497e-01],\n",
       "       [1.48469850e-01, 8.51530194e-01],\n",
       "       [1.00000000e+00, 1.21494195e-19],\n",
       "       [1.00000000e+00, 3.29981518e-08],\n",
       "       [8.51514757e-01, 1.48485303e-01],\n",
       "       [4.78446215e-01, 5.21553755e-01],\n",
       "       [1.00000000e+00, 1.32398311e-20],\n",
       "       [6.13877475e-01, 3.86122525e-01],\n",
       "       [6.11493886e-01, 3.88506114e-01],\n",
       "       [6.85205758e-01, 3.14794272e-01],\n",
       "       [2.95386404e-01, 7.04613566e-01],\n",
       "       [9.74477828e-01, 2.55221557e-02],\n",
       "       [4.08615470e-01, 5.91384530e-01],\n",
       "       [1.00000000e+00, 1.57264441e-08],\n",
       "       [6.06033921e-01, 3.93966079e-01],\n",
       "       [1.55986801e-01, 8.44013155e-01],\n",
       "       [6.68384254e-01, 3.31615776e-01],\n",
       "       [4.29673880e-01, 5.70326090e-01],\n",
       "       [3.64152312e-01, 6.35847688e-01],\n",
       "       [4.75790262e-01, 5.24209738e-01],\n",
       "       [4.36995894e-01, 5.63004076e-01],\n",
       "       [1.00000000e+00, 5.27852073e-09],\n",
       "       [3.68777692e-01, 6.31222248e-01],\n",
       "       [7.90635347e-01, 2.09364653e-01],\n",
       "       [4.24270451e-01, 5.75729489e-01],\n",
       "       [9.77735996e-01, 2.22639814e-02],\n",
       "       [1.00000000e+00, 1.35998907e-10],\n",
       "       [9.91828322e-01, 8.17167759e-03],\n",
       "       [6.20996833e-01, 3.79003197e-01],\n",
       "       [1.00000000e+00, 9.38053189e-29],\n",
       "       [6.50773048e-01, 3.49226922e-01],\n",
       "       [1.08139738e-01, 8.91860306e-01],\n",
       "       [6.41347349e-01, 3.58652651e-01],\n",
       "       [3.51158172e-01, 6.48841798e-01],\n",
       "       [7.00566351e-01, 2.99433708e-01],\n",
       "       [2.35340908e-01, 7.64659047e-01],\n",
       "       [9.99996662e-01, 3.34490983e-06],\n",
       "       [4.62312251e-01, 5.37687778e-01],\n",
       "       [7.29193330e-01, 2.70806670e-01],\n",
       "       [5.22449017e-01, 4.77550983e-01],\n",
       "       [5.28800368e-01, 4.71199602e-01],\n",
       "       [4.39615935e-01, 5.60384095e-01],\n",
       "       [7.99773335e-01, 2.00226665e-01],\n",
       "       [6.32252753e-01, 3.67747217e-01],\n",
       "       [9.28066373e-01, 7.19336718e-02],\n",
       "       [6.48615241e-01, 3.51384729e-01],\n",
       "       [5.76258779e-01, 4.23741251e-01],\n",
       "       [9.99080658e-01, 9.19300073e-04],\n",
       "       [2.25399494e-01, 7.74600506e-01],\n",
       "       [3.13299119e-01, 6.86700881e-01],\n",
       "       [4.54301924e-01, 5.45698106e-01],\n",
       "       [6.45737231e-01, 3.54262769e-01],\n",
       "       [8.15927684e-01, 1.84072316e-01],\n",
       "       [1.00000000e+00, 6.58428548e-22],\n",
       "       [9.96425569e-01, 3.57439090e-03],\n",
       "       [9.99779046e-01, 2.20936199e-04],\n",
       "       [1.00000000e+00, 2.25471108e-09],\n",
       "       [5.65042257e-01, 4.34957802e-01],\n",
       "       [7.72127330e-01, 2.27872714e-01],\n",
       "       [3.85427028e-02, 9.61457253e-01],\n",
       "       [7.10836172e-01, 2.89163858e-01],\n",
       "       [5.35437882e-01, 4.64562088e-01],\n",
       "       [9.95271981e-01, 4.72798524e-03],\n",
       "       [1.00000000e+00, 5.33176758e-12],\n",
       "       [9.99996543e-01, 3.44190789e-06],\n",
       "       [4.52303201e-01, 5.47696829e-01],\n",
       "       [9.85996902e-01, 1.40031194e-02],\n",
       "       [2.15074256e-01, 7.84925699e-01],\n",
       "       [1.00000000e+00, 3.00276876e-19],\n",
       "       [5.17689705e-01, 4.82310265e-01],\n",
       "       [6.20957494e-01, 3.79042536e-01],\n",
       "       [9.35466111e-01, 6.45338744e-02],\n",
       "       [4.68437880e-01, 5.31562150e-01],\n",
       "       [5.04789948e-01, 4.95210111e-01],\n",
       "       [5.26823878e-01, 4.73176152e-01],\n",
       "       [1.67779863e-01, 8.32220197e-01],\n",
       "       [7.60847628e-02, 9.23915207e-01],\n",
       "       [5.53723454e-01, 4.46276516e-01],\n",
       "       [8.36200237e-01, 1.63799733e-01],\n",
       "       [9.85563278e-01, 1.44367283e-02],\n",
       "       [9.99497533e-01, 5.02427923e-04],\n",
       "       [6.70166194e-01, 3.29833776e-01],\n",
       "       [4.66942817e-01, 5.33057213e-01],\n",
       "       [3.56186539e-01, 6.43813491e-01],\n",
       "       [8.69983077e-01, 1.30016968e-01],\n",
       "       [5.68310857e-01, 4.31689113e-01],\n",
       "       [7.47906685e-01, 2.52093375e-01],\n",
       "       [1.00000000e+00, 2.40509262e-11],\n",
       "       [1.00000000e+00, 3.69256622e-12],\n",
       "       [9.99777615e-01, 2.22384551e-04],\n",
       "       [1.00000000e+00, 1.23672990e-23],\n",
       "       [1.67115256e-01, 8.32884789e-01],\n",
       "       [1.00000000e+00, 4.95158277e-25],\n",
       "       [2.16767848e-01, 7.83232152e-01],\n",
       "       [5.97883105e-01, 4.02116895e-01],\n",
       "       [8.80911648e-02, 9.11908805e-01],\n",
       "       [7.74618626e-01, 2.25381330e-01],\n",
       "       [4.33259666e-01, 5.66740334e-01],\n",
       "       [5.44143200e-01, 4.55856830e-01],\n",
       "       [7.20304549e-01, 2.79695392e-01],\n",
       "       [5.97206652e-01, 4.02793378e-01],\n",
       "       [5.76612592e-01, 4.23387408e-01],\n",
       "       [7.84047067e-01, 2.15952918e-01],\n",
       "       [2.03028142e-01, 7.96971798e-01],\n",
       "       [1.83231145e-01, 8.16768825e-01],\n",
       "       [2.54279286e-01, 7.45720744e-01],\n",
       "       [6.02325976e-01, 3.97673994e-01],\n",
       "       [7.51093268e-01, 2.48906702e-01],\n",
       "       [6.85224771e-01, 3.14775229e-01],\n",
       "       [8.69500279e-01, 1.30499780e-01],\n",
       "       [7.13039815e-01, 2.86960185e-01],\n",
       "       [8.39611068e-02, 9.16038930e-01],\n",
       "       [2.23988861e-01, 7.76011169e-01],\n",
       "       [4.30936068e-01, 5.69063962e-01],\n",
       "       [6.71351194e-01, 3.28648865e-01],\n",
       "       [9.98816013e-01, 1.18398829e-03],\n",
       "       [4.95947242e-01, 5.04052758e-01],\n",
       "       [7.44961202e-01, 2.55038828e-01],\n",
       "       [4.98429537e-01, 5.01570523e-01],\n",
       "       [5.55216610e-01, 4.44783360e-01],\n",
       "       [7.65677094e-01, 2.34322950e-01],\n",
       "       [4.80821967e-01, 5.19178033e-01],\n",
       "       [4.70746845e-01, 5.29253185e-01],\n",
       "       [4.70391124e-01, 5.29608905e-01],\n",
       "       [2.86450654e-01, 7.13549376e-01],\n",
       "       [9.55372691e-01, 4.46272492e-02],\n",
       "       [9.99993801e-01, 6.21558002e-06],\n",
       "       [9.99999762e-01, 2.05079857e-07],\n",
       "       [9.74717379e-01, 2.52826344e-02],\n",
       "       [9.99813735e-01, 1.86281701e-04],\n",
       "       [5.71657002e-01, 4.28342998e-01],\n",
       "       [9.86751437e-01, 1.32485731e-02],\n",
       "       [3.94041508e-01, 6.05958462e-01],\n",
       "       [4.07967716e-01, 5.92032313e-01],\n",
       "       [9.94579554e-01, 5.42049250e-03],\n",
       "       [1.00000000e+00, 9.69063713e-15],\n",
       "       [9.93547738e-01, 6.45230105e-03],\n",
       "       [4.65064406e-01, 5.34935594e-01],\n",
       "       [9.64371085e-01, 3.56289223e-02],\n",
       "       [7.37265348e-01, 2.62734681e-01],\n",
       "       [2.73076534e-01, 7.26923466e-01],\n",
       "       [7.17109859e-01, 2.82890111e-01],\n",
       "       [5.68330824e-01, 4.31669235e-01],\n",
       "       [6.14039481e-01, 3.85960490e-01],\n",
       "       [1.00000000e+00, 0.00000000e+00],\n",
       "       [5.16034007e-01, 4.83965963e-01],\n",
       "       [4.28263158e-01, 5.71736813e-01],\n",
       "       [7.43879318e-01, 2.56120741e-01],\n",
       "       [6.35409057e-01, 3.64590913e-01],\n",
       "       [6.16253138e-01, 3.83746833e-01],\n",
       "       [6.27766550e-01, 3.72233421e-01],\n",
       "       [3.71722072e-01, 6.28277957e-01],\n",
       "       [7.94679105e-01, 2.05320925e-01],\n",
       "       [9.80784297e-01, 1.92156658e-02],\n",
       "       [5.36302030e-01, 4.63698000e-01],\n",
       "       [5.40421486e-01, 4.59578484e-01],\n",
       "       [7.41318762e-02, 9.25868154e-01],\n",
       "       [8.31426203e-01, 1.68573782e-01],\n",
       "       [9.99992609e-01, 7.39710094e-06],\n",
       "       [9.99727905e-01, 2.72025674e-04],\n",
       "       [7.94039071e-01, 2.05960974e-01],\n",
       "       [1.00000000e+00, 7.29628463e-16],\n",
       "       [6.83011055e-01, 3.16988945e-01],\n",
       "       [1.00000000e+00, 4.70064911e-08],\n",
       "       [4.64502335e-01, 5.35497665e-01],\n",
       "       [9.99992967e-01, 7.03414025e-06],\n",
       "       [3.87298077e-01, 6.12701893e-01],\n",
       "       [9.99999523e-01, 4.61895411e-07],\n",
       "       [6.14303887e-01, 3.85696143e-01],\n",
       "       [1.00000000e+00, 2.09848998e-16],\n",
       "       [5.32046914e-01, 4.67953056e-01],\n",
       "       [4.57617968e-01, 5.42382002e-01],\n",
       "       [3.65301579e-01, 6.34698451e-01],\n",
       "       [8.53374064e-01, 1.46625966e-01],\n",
       "       [9.99983788e-01, 1.61884309e-05],\n",
       "       [9.80258822e-01, 1.97412260e-02],\n",
       "       [5.21252036e-01, 4.78747994e-01],\n",
       "       [5.90761244e-01, 4.09238726e-01],\n",
       "       [5.11736929e-01, 4.88263071e-01],\n",
       "       [9.62422550e-01, 3.75774279e-02],\n",
       "       [9.97410953e-01, 2.58903275e-03],\n",
       "       [6.23963714e-01, 3.76036257e-01],\n",
       "       [8.83423686e-01, 1.16576321e-01],\n",
       "       [9.99995828e-01, 4.19466096e-06],\n",
       "       [5.48443317e-01, 4.51556683e-01],\n",
       "       [1.00000000e+00, 1.02074233e-16],\n",
       "       [7.11725652e-01, 2.88274318e-01],\n",
       "       [4.72555697e-01, 5.27444303e-01],\n",
       "       [1.00000000e+00, 3.86313377e-11],\n",
       "       [9.99999285e-01, 7.54229461e-07],\n",
       "       [6.34082258e-01, 3.65917772e-01],\n",
       "       [6.85723424e-01, 3.14276636e-01],\n",
       "       [1.75932243e-01, 8.24067712e-01],\n",
       "       [6.99893951e-01, 3.00105989e-01],\n",
       "       [6.96993232e-01, 3.03006738e-01],\n",
       "       [4.62931693e-01, 5.37068367e-01],\n",
       "       [6.56722307e-01, 3.43277663e-01],\n",
       "       [9.68304098e-01, 3.16959508e-02],\n",
       "       [3.99307221e-01, 6.00692809e-01],\n",
       "       [8.50860476e-01, 1.49139509e-01],\n",
       "       [6.95088267e-01, 3.04911762e-01],\n",
       "       [7.47595549e-01, 2.52404481e-01],\n",
       "       [8.78739297e-01, 1.21260665e-01],\n",
       "       [1.90695688e-01, 8.09304297e-01],\n",
       "       [1.00000000e+00, 4.65845929e-15],\n",
       "       [8.79819453e-01, 1.20180510e-01],\n",
       "       [8.30076039e-01, 1.69923976e-01],\n",
       "       [6.11775339e-01, 3.88224632e-01],\n",
       "       [4.03599441e-01, 5.96400559e-01],\n",
       "       [5.58119655e-01, 4.41880286e-01],\n",
       "       [1.00000000e+00, 2.38934250e-21],\n",
       "       [7.14583635e-01, 2.85416394e-01],\n",
       "       [6.60111487e-01, 3.39888543e-01],\n",
       "       [7.76593864e-01, 2.23406091e-01],\n",
       "       [5.45921564e-01, 4.54078406e-01],\n",
       "       [6.30864322e-01, 3.69135648e-01],\n",
       "       [1.00000000e+00, 5.32327427e-15],\n",
       "       [6.66826665e-01, 3.33173364e-01],\n",
       "       [7.45356262e-01, 2.54643738e-01],\n",
       "       [8.58686328e-01, 1.41313702e-01],\n",
       "       [5.55547535e-01, 4.44452494e-01],\n",
       "       [1.00000000e+00, 1.88817122e-11],\n",
       "       [3.40642810e-01, 6.59357190e-01],\n",
       "       [7.27161229e-01, 2.72838801e-01],\n",
       "       [4.89352375e-01, 5.10647595e-01],\n",
       "       [3.53007823e-01, 6.46992147e-01],\n",
       "       [4.12322491e-01, 5.87677479e-01],\n",
       "       [8.87399137e-01, 1.12600878e-01],\n",
       "       [6.19580925e-01, 3.80419105e-01],\n",
       "       [5.78226864e-01, 4.21773165e-01],\n",
       "       [4.69057053e-01, 5.30942917e-01],\n",
       "       [9.37887669e-01, 6.21122867e-02],\n",
       "       [3.44092935e-01, 6.55907094e-01],\n",
       "       [9.86971796e-01, 1.30281579e-02],\n",
       "       [9.99992728e-01, 7.30466445e-06],\n",
       "       [7.44396389e-01, 2.55603641e-01],\n",
       "       [7.00274348e-01, 2.99725682e-01],\n",
       "       [6.17757738e-01, 3.82242203e-01],\n",
       "       [3.24576199e-01, 6.75423861e-01],\n",
       "       [6.38356030e-01, 3.61643970e-01],\n",
       "       [7.61118472e-01, 2.38881543e-01],\n",
       "       [5.29874682e-01, 4.70125347e-01],\n",
       "       [6.90061271e-01, 3.09938669e-01],\n",
       "       [9.99684930e-01, 3.15072946e-04],\n",
       "       [3.66739899e-01, 6.33260131e-01],\n",
       "       [1.00000000e+00, 8.21455123e-23],\n",
       "       [7.68702745e-01, 2.31297240e-01],\n",
       "       [9.67049301e-01, 3.29507031e-02],\n",
       "       [4.31871325e-01, 5.68128705e-01],\n",
       "       [9.99992251e-01, 7.77022615e-06],\n",
       "       [1.57043055e-01, 8.42956901e-01],\n",
       "       [1.00000000e+00, 8.20815954e-16],\n",
       "       [1.00000000e+00, 1.06731346e-09],\n",
       "       [1.00000000e+00, 1.83026527e-09],\n",
       "       [4.83785361e-01, 5.16214609e-01],\n",
       "       [4.75676119e-01, 5.24323940e-01],\n",
       "       [9.98252571e-01, 1.74743216e-03],\n",
       "       [6.43799961e-01, 3.56200039e-01],\n",
       "       [4.82925117e-01, 5.17074883e-01],\n",
       "       [7.73989499e-01, 2.26010561e-01],\n",
       "       [3.41644228e-01, 6.58355772e-01],\n",
       "       [3.65896583e-01, 6.34103477e-01],\n",
       "       [4.72527921e-01, 5.27472079e-01],\n",
       "       [1.00000000e+00, 2.50931457e-15],\n",
       "       [1.00000000e+00, 2.01649183e-29]], dtype=float32)"
      ]
     },
     "execution_count": 50,
     "metadata": {},
     "output_type": "execute_result"
    }
   ],
   "source": [
    "y_pred = model.predict(test_images)\n",
    "y_pred"
   ]
  },
  {
   "cell_type": "code",
   "execution_count": 51,
   "metadata": {},
   "outputs": [],
   "source": [
    "predict=np.argmax(y_pred,axis=1)"
   ]
  },
  {
   "cell_type": "code",
   "execution_count": 52,
   "metadata": {},
   "outputs": [
    {
     "data": {
      "text/plain": [
       "array([1, 0, 0, 0, 1, 1, 0, 0, 0, 0, 0, 0, 0, 0, 0, 0, 1, 0, 0, 0, 0, 0,\n",
       "       0, 1, 1, 0, 0, 0, 0, 1, 0, 0, 1, 1, 0, 0, 1, 0, 0, 0, 0, 0, 1, 0,\n",
       "       1, 0, 1, 0, 0, 0, 1, 0, 1, 0, 1, 0, 1, 0, 0, 1, 1, 1, 0, 0, 0, 1,\n",
       "       0, 0, 0, 1, 0, 1, 0, 1, 0, 0, 0, 1, 0, 0, 0, 0, 1, 0, 1, 0, 0, 1,\n",
       "       0, 1, 1, 1, 1, 0, 1, 0, 1, 0, 0, 0, 0, 0, 0, 1, 0, 1, 0, 1, 0, 1,\n",
       "       0, 0, 0, 1, 0, 0, 0, 0, 0, 0, 1, 1, 1, 0, 0, 0, 0, 0, 0, 0, 0, 1,\n",
       "       0, 0, 0, 0, 0, 1, 0, 1, 0, 0, 0, 0, 1, 0, 0, 1, 1, 0, 0, 0, 0, 0,\n",
       "       1, 1, 0, 0, 0, 0, 0, 0, 0, 1, 0, 1, 0, 1, 0, 1, 0, 0, 0, 0, 0, 1,\n",
       "       1, 1, 0, 0, 0, 0, 0, 1, 1, 1, 0, 0, 1, 0, 1, 0, 0, 1, 1, 1, 1, 0,\n",
       "       0, 0, 0, 0, 0, 0, 1, 1, 0, 0, 0, 1, 0, 0, 1, 0, 0, 0, 0, 0, 1, 0,\n",
       "       0, 0, 0, 1, 0, 0, 0, 0, 1, 0, 0, 0, 0, 0, 0, 0, 1, 0, 1, 0, 0, 0,\n",
       "       0, 1, 1, 0, 0, 0, 0, 0, 0, 0, 0, 0, 0, 0, 0, 0, 0, 1, 0, 0, 0, 0,\n",
       "       1, 0, 0, 1, 0, 0, 1, 0, 0, 0, 0, 1, 0, 0, 0, 0, 1, 0, 0, 0, 0, 0,\n",
       "       0, 0, 0, 0, 0, 0, 0, 0, 1, 0, 1, 1, 1, 0, 0, 0, 1, 0, 1, 0, 0, 0,\n",
       "       0, 0, 1, 0, 0, 0, 0, 0, 1, 0, 0, 0, 1, 0, 1, 0, 0, 0, 1, 1, 0, 0,\n",
       "       1, 0, 1, 1, 1, 0, 0], dtype=int64)"
      ]
     },
     "execution_count": 52,
     "metadata": {},
     "output_type": "execute_result"
    }
   ],
   "source": [
    "predict"
   ]
  },
  {
   "cell_type": "code",
   "execution_count": 53,
   "metadata": {},
   "outputs": [
    {
     "data": {
      "text/plain": [
       "array([1, 0, 1, 0, 0, 1, 0, 1, 1, 1, 0, 0, 1, 0, 1, 0, 0, 0, 0, 0, 0, 1,\n",
       "       0, 1, 1, 0, 0, 0, 0, 1, 0, 0, 0, 0, 0, 0, 1, 0, 1, 0, 0, 1, 0, 0,\n",
       "       1, 0, 1, 1, 0, 1, 1, 0, 1, 1, 1, 0, 0, 1, 0, 1, 0, 0, 0, 0, 1, 1,\n",
       "       0, 1, 0, 1, 0, 1, 1, 1, 0, 0, 0, 1, 0, 0, 1, 0, 1, 0, 1, 0, 0, 0,\n",
       "       1, 1, 0, 1, 0, 0, 1, 0, 1, 1, 0, 0, 1, 0, 1, 1, 0, 1, 0, 1, 0, 1,\n",
       "       0, 1, 0, 1, 1, 0, 0, 0, 0, 0, 1, 0, 1, 1, 0, 0, 0, 0, 0, 1, 0, 1,\n",
       "       0, 1, 0, 0, 0, 0, 0, 1, 0, 0, 1, 0, 1, 0, 1, 0, 1, 0, 0, 0, 0, 0,\n",
       "       0, 0, 0, 0, 0, 0, 0, 0, 0, 0, 0, 1, 1, 1, 1, 1, 0, 0, 0, 1, 0, 1,\n",
       "       1, 0, 0, 0, 0, 0, 0, 1, 0, 0, 0, 1, 0, 0, 1, 0, 0, 0, 0, 0, 1, 0,\n",
       "       0, 0, 0, 0, 1, 0, 1, 1, 0, 0, 0, 0, 1, 0, 0, 1, 0, 1, 0, 0, 1, 1,\n",
       "       1, 1, 0, 1, 1, 0, 1, 0, 0, 1, 0, 0, 0, 0, 0, 0, 1, 0, 1, 0, 1, 0,\n",
       "       0, 0, 1, 0, 0, 1, 0, 0, 0, 0, 0, 1, 0, 0, 1, 0, 0, 1, 0, 0, 0, 0,\n",
       "       1, 0, 1, 0, 1, 0, 1, 0, 0, 1, 0, 1, 0, 0, 0, 1, 1, 0, 0, 0, 1, 0,\n",
       "       0, 0, 0, 1, 0, 0, 0, 0, 1, 0, 1, 0, 0, 1, 1, 0, 1, 1, 1, 0, 0, 1,\n",
       "       0, 0, 1, 1, 0, 0, 0, 0, 1, 0, 0, 1, 0, 0, 1, 0, 0, 0, 1, 0, 0, 0,\n",
       "       1, 0, 1, 0, 0, 0, 0], dtype=int64)"
      ]
     },
     "execution_count": 53,
     "metadata": {},
     "output_type": "execute_result"
    }
   ],
   "source": [
    "test_labels_raw"
   ]
  },
  {
   "cell_type": "code",
   "execution_count": 54,
   "metadata": {},
   "outputs": [
    {
     "data": {
      "text/plain": [
       "array([[180,  35],\n",
       "       [ 58,  64]], dtype=int64)"
      ]
     },
     "execution_count": 54,
     "metadata": {},
     "output_type": "execute_result"
    }
   ],
   "source": [
    "confusion_matrix(test_labels_raw, predict, labels=[0, 1])"
   ]
  },
  {
   "cell_type": "code",
   "execution_count": 55,
   "metadata": {},
   "outputs": [
    {
     "data": {
      "image/png": "[encoded data removed]",
      "text/plain": [
       "<Figure size 432x288 with 2 Axes>"
      ]
     },
     "metadata": {
      "needs_background": "light"
     },
     "output_type": "display_data"
    }
   ],
   "source": [
    "matrix = confusion_matrix(test_labels_raw, predict)\n",
    "sns.heatmap(pd.DataFrame(matrix), annot=True, cmap=\"bone\" ,fmt='g')\n",
    "plt.title('Confusion matrix', y=1.1)\n",
    "plt.ylabel('Actual label')\n",
    "plt.xlabel('Predicted label')\n",
    "plt.show()"
   ]
  },
  {
   "cell_type": "markdown",
   "metadata": {},
   "source": [
    "TN : 예측값을 Negative 값으로 0으로 예측했고 실제값 역시 Negative 값 0  \n",
    "FP : 예측값을 Positivie 값 1로 예측했는데 실제값은 Negative 값 0  \n",
    "FN : 예측값을 Negative 값 0으로 예측했는데 실제값은 Positive 값 1  \n",
    "TP : 예측값을 Positive 값 1로 예측했는데 실제 값 역시 Positive 값 1   "
   ]
  },
  {
   "cell_type": "code",
   "execution_count": 56,
   "metadata": {},
   "outputs": [
    {
     "data": {
      "text/plain": [
       "(180, 35, 58, 64)"
      ]
     },
     "execution_count": 56,
     "metadata": {},
     "output_type": "execute_result"
    }
   ],
   "source": [
    "tn, fp, fn, tp = confusion_matrix(test_labels_raw, predict).ravel()\n",
    "tn, fp, fn, tp"
   ]
  },
  {
   "cell_type": "code",
   "execution_count": 57,
   "metadata": {},
   "outputs": [
    {
     "name": "stdout",
     "output_type": "stream",
     "text": [
      "Sensitivity : 0.5245901639344263\n",
      "Specificity : 0.8372093023255814\n",
      "Precision : 0.6464646464646465\n",
      "Recall : 0.5245901639344263\n",
      "accuracy : 0.7240356083086054\n",
      "f1 : 0.579185520361991\n"
     ]
    }
   ],
   "source": [
    "print('Sensitivity : '+ str(Sensitivity(tn, fp, fn, tp)))\n",
    "print('Specificity : '+ str(Specificity(tn, fp, fn, tp)))\n",
    "print('Precision : '+ str(Precision(tn, fp, fn, tp)))\n",
    "print('Recall : '+ str(Recall(tn, fp, fn, tp)))\n",
    "print('accuracy : '+ str(accuracy(tn, fp, fn, tp)))\n",
    "print('f1 : ' + str(f1(tn, fp, fn, tp)))"
   ]
  },
  {
   "cell_type": "code",
   "execution_count": 58,
   "metadata": {},
   "outputs": [],
   "source": [
    "y_pred_prob=model.predict(test_images)\n",
    "fpr, tpr, thresholds = roc_curve(test_labels_raw, y_pred_prob[:,1])"
   ]
  },
  {
   "cell_type": "code",
   "execution_count": 59,
   "metadata": {},
   "outputs": [
    {
     "data": {
      "image/png": "[encoded data removed]",
      "text/plain": [
       "<Figure size 432x288 with 1 Axes>"
      ]
     },
     "metadata": {
      "needs_background": "light"
     },
     "output_type": "display_data"
    }
   ],
   "source": [
    "def plot_roc_curve(fpr,tpr):\n",
    "    plt.axis([0,1,0,1])\n",
    "    plt.xlabel('False Positive Rate') \n",
    "    plt.ylabel('True Positive Rate')\n",
    "    plt.plot(fpr,tpr,color='red')\n",
    "    plt.show()\n",
    "plot_roc_curve(fpr,tpr)"
   ]
  },
  {
   "cell_type": "code",
   "execution_count": 60,
   "metadata": {},
   "outputs": [
    {
     "data": {
      "text/plain": [
       "0.7782310331681281"
      ]
     },
     "execution_count": 60,
     "metadata": {},
     "output_type": "execute_result"
    }
   ],
   "source": [
    "auc_score=roc_auc_score(test_labels_raw, y_pred_prob[:,1])\n",
    "auc_score"
   ]
  },
  {
   "cell_type": "code",
   "execution_count": null,
   "metadata": {},
   "outputs": [],
   "source": []
  },
  {
   "cell_type": "code",
   "execution_count": null,
   "metadata": {},
   "outputs": [],
   "source": []
  }
 ],
 "metadata": {
  "kernelspec": {
   "display_name": "Python 3",
   "language": "python",
   "name": "python3"
  },
  "language_info": {
   "codemirror_mode": {
    "name": "ipython",
    "version": 3
   },
   "file_extension": ".py",
   "mimetype": "text/x-python",
   "name": "python",
   "nbconvert_exporter": "python",
   "pygments_lexer": "ipython3",
   "version": "3.6.10"
  }
 },
 "nbformat": 4,
 "nbformat_minor": 4
}
