{
 "cells": [
  {
   "cell_type": "code",
   "execution_count": 1,
   "metadata": {},
   "outputs": [
    {
     "name": "stderr",
     "output_type": "stream",
     "text": [
      "Using TensorFlow backend.\n"
     ]
    }
   ],
   "source": [
    "import numpy as np\n",
    "import matplotlib.pyplot as plt\n",
    "from keras.models import Sequential\n",
    "from keras.layers import Dense, Flatten\n",
    "from keras.layers.convolutional import Conv2D, MaxPooling2D\n",
    "from keras.preprocessing.image import ImageDataGenerator\n",
    "from PIL import Image\n",
    "import os\n",
    "import glob\n",
    "import os.path"
   ]
  },
  {
   "cell_type": "code",
   "execution_count": 2,
   "metadata": {},
   "outputs": [
    {
     "data": {
      "text/plain": [
       "['IRENE', 'IU', 'JENNY', 'LISA', 'NAYEON', 'ROSE', 'TAEYEON', 'YEJI', 'YOONA']"
      ]
     },
     "execution_count": 2,
     "metadata": {},
     "output_type": "execute_result"
    }
   ],
   "source": [
    "train_dir = os.path.join('train')\n",
    "test_dir = os.path.join('test')\n",
    "\n",
    "imsidir = os.path.join('train')\n",
    "folder_list = os.listdir(imsidir)\n",
    "categories = folder_list\n",
    "folder_list"
   ]
  },
  {
   "cell_type": "code",
   "execution_count": 3,
   "metadata": {},
   "outputs": [
    {
     "name": "stdout",
     "output_type": "stream",
     "text": [
      "Found 2700 images belonging to 9 classes.\n",
      "Found 720 images belonging to 9 classes.\n",
      "배치 데이터 크기: (720, 64, 64, 3)\n",
      "배치 레이블 크기: (720, 9)\n"
     ]
    }
   ],
   "source": [
    "train_datagen = ImageDataGenerator(rescale=1./255, rotation_range=20, fill_mode='nearest')\n",
    "train_generator = train_datagen.flow_from_directory(train_dir,\n",
    "                                                   target_size=(64,64),\n",
    "                                                   batch_size=720,\n",
    "                                                   class_mode='categorical')\n",
    "\n",
    "test_datagen = ImageDataGenerator(rescale=1./255)\n",
    "test_generator = test_datagen.flow_from_directory(test_dir,\n",
    "                                                 target_size=(64,64),\n",
    "                                                 batch_size=1,\n",
    "                                                 class_mode='categorical')\n",
    "\n",
    "for data_batch, labels_batch in train_generator:\n",
    "    print('배치 데이터 크기:', data_batch.shape)\n",
    "    print('배치 레이블 크기:', labels_batch.shape)\n",
    "    break"
   ]
  },
  {
   "cell_type": "code",
   "execution_count": 13,
   "metadata": {},
   "outputs": [
    {
     "name": "stdout",
     "output_type": "stream",
     "text": [
      "Model: \"sequential_4\"\n",
      "_________________________________________________________________\n",
      "Layer (type)                 Output Shape              Param #   \n",
      "=================================================================\n",
      "conv2d_10 (Conv2D)           (None, 62, 62, 16)        448       \n",
      "_________________________________________________________________\n",
      "max_pooling2d_7 (MaxPooling2 (None, 31, 31, 16)        0         \n",
      "_________________________________________________________________\n",
      "conv2d_11 (Conv2D)           (None, 29, 29, 64)        9280      \n",
      "_________________________________________________________________\n",
      "max_pooling2d_8 (MaxPooling2 (None, 14, 14, 64)        0         \n",
      "_________________________________________________________________\n",
      "conv2d_12 (Conv2D)           (None, 12, 12, 64)        36928     \n",
      "_________________________________________________________________\n",
      "flatten_4 (Flatten)          (None, 9216)              0         \n",
      "_________________________________________________________________\n",
      "dense_13 (Dense)             (None, 128)               1179776   \n",
      "_________________________________________________________________\n",
      "dense_14 (Dense)             (None, 64)                8256      \n",
      "_________________________________________________________________\n",
      "dense_15 (Dense)             (None, 64)                4160      \n",
      "_________________________________________________________________\n",
      "dense_16 (Dense)             (None, 9)                 585       \n",
      "=================================================================\n",
      "Total params: 1,239,433\n",
      "Trainable params: 1,239,433\n",
      "Non-trainable params: 0\n",
      "_________________________________________________________________\n"
     ]
    }
   ],
   "source": [
    "model = Sequential()\n",
    "model.add(Conv2D(16, kernel_size=(3,3), activation='relu', input_shape=(64,64,3)))\n",
    "model.add(MaxPooling2D(pool_size=(2,2)))\n",
    "model.add(Conv2D(64, (3,3), activation='relu'))\n",
    "model.add(MaxPooling2D(pool_size=(2,2)))\n",
    "model.add(Conv2D(64, (3,3), activation='relu'))\n",
    "\n",
    "model.add(Flatten())\n",
    "model.add(Dense(128, activation='relu'))\n",
    "model.add(Dense(64, activation='relu'))\n",
    "model.add(Dense(64, activation='relu'))\n",
    "model.add(Dense(9, activation='softmax'))\n",
    "\n",
    "model.summary()"
   ]
  },
  {
   "cell_type": "code",
   "execution_count": 11,
   "metadata": {},
   "outputs": [],
   "source": [
    "from keras import backend as K\n",
    "\n",
    "def precision(y_target, y_pred):\n",
    "    y_pred_yn = K.round(K.clip(y_pred, 0, 1))\n",
    "    y_target_yn = K.round(K.clip(y_target, 0, 1)) \n",
    "\n",
    "    count_true_positive = K.sum(y_target_yn * y_pred_yn) \n",
    "    count_true_positive_false_positive = K.sum(y_pred_yn)\n",
    "\n",
    "    precision = count_true_positive / (count_true_positive_false_positive + K.epsilon())\n",
    "\n",
    "    return precision\n",
    "\n",
    "\n",
    "def recall(y_target, y_pred):\n",
    "    y_target_yn = K.round(K.clip(y_target, 0, 1))\n",
    "    y_pred_yn = K.round(K.clip(y_pred, 0, 1)) \n",
    "\n",
    "    count_true_positive = K.sum(y_target_yn * y_pred_yn) \n",
    "    count_true_positive_false_negative = K.sum(y_target_yn)\n",
    "\n",
    "    recall = count_true_positive / (count_true_positive_false_negative + K.epsilon())\n",
    "\n",
    "    return recall\n",
    "\n",
    "\n",
    "def f1score(y_target, y_pred):\n",
    "    _recall = recall(y_target, y_pred)\n",
    "    _precision = precision(y_target, y_pred)\n",
    "    _f1score = ( 2 * _recall * _precision) / (_recall + _precision+ K.epsilon())\n",
    "    \n",
    "    return _f1score"
   ]
  },
  {
   "cell_type": "code",
   "execution_count": 14,
   "metadata": {},
   "outputs": [
    {
     "name": "stdout",
     "output_type": "stream",
     "text": [
      "Epoch 1/25\n",
      "10/10 [==============================] - 10s 1s/step - loss: 2.2006 - acc: 0.1288 - val_loss: 2.1708 - val_acc: 0.2400\n",
      "Epoch 2/25\n",
      "10/10 [==============================] - 10s 972ms/step - loss: 2.1325 - acc: 0.2236 - val_loss: 1.1680 - val_acc: 0.2300\n",
      "Epoch 3/25\n",
      "10/10 [==============================] - 10s 1000ms/step - loss: 1.9282 - acc: 0.2861 - val_loss: 0.3721 - val_acc: 0.3600\n",
      "Epoch 4/25\n",
      "10/10 [==============================] - 10s 975ms/step - loss: 1.7911 - acc: 0.3461 - val_loss: 1.2648 - val_acc: 0.4600\n",
      "Epoch 5/25\n",
      "10/10 [==============================] - 10s 1s/step - loss: 1.6674 - acc: 0.4104 - val_loss: 0.5249 - val_acc: 0.4100\n",
      "Epoch 6/25\n",
      "10/10 [==============================] - 10s 978ms/step - loss: 1.5281 - acc: 0.4704 - val_loss: 0.7296 - val_acc: 0.4800\n",
      "Epoch 7/25\n",
      "10/10 [==============================] - 10s 1000ms/step - loss: 1.4342 - acc: 0.5041 - val_loss: 1.4919 - val_acc: 0.5500\n",
      "Epoch 8/25\n",
      "10/10 [==============================] - 10s 964ms/step - loss: 1.3423 - acc: 0.5453 - val_loss: 0.7628 - val_acc: 0.4700\n",
      "Epoch 9/25\n",
      "10/10 [==============================] - 10s 984ms/step - loss: 1.2615 - acc: 0.5811 - val_loss: 0.3749 - val_acc: 0.6300\n",
      "Epoch 10/25\n",
      "10/10 [==============================] - 10s 994ms/step - loss: 1.1637 - acc: 0.6075 - val_loss: 0.0231 - val_acc: 0.6100\n",
      "Epoch 11/25\n",
      "10/10 [==============================] - 10s 987ms/step - loss: 1.0764 - acc: 0.6432 - val_loss: 3.5964 - val_acc: 0.6200\n",
      "Epoch 12/25\n",
      "10/10 [==============================] - 10s 1s/step - loss: 1.0450 - acc: 0.6570 - val_loss: 2.3469 - val_acc: 0.6700\n",
      "Epoch 13/25\n",
      "10/10 [==============================] - 10s 981ms/step - loss: 0.9752 - acc: 0.6844 - val_loss: 2.0495 - val_acc: 0.6300\n",
      "Epoch 14/25\n",
      "10/10 [==============================] - 10s 1s/step - loss: 0.9138 - acc: 0.7016 - val_loss: 5.3016 - val_acc: 0.6800\n",
      "Epoch 15/25\n",
      "10/10 [==============================] - 10s 1s/step - loss: 0.8409 - acc: 0.7281 - val_loss: 0.0493 - val_acc: 0.6900\n",
      "Epoch 16/25\n",
      "10/10 [==============================] - 10s 965ms/step - loss: 0.8031 - acc: 0.7408 - val_loss: 7.9815e-04 - val_acc: 0.7600\n",
      "Epoch 17/25\n",
      "10/10 [==============================] - 10s 981ms/step - loss: 0.7596 - acc: 0.7590 - val_loss: 2.3655 - val_acc: 0.7200\n",
      "Epoch 18/25\n",
      "10/10 [==============================] - 10s 1s/step - loss: 0.7241 - acc: 0.7651 - val_loss: 0.1658 - val_acc: 0.7300\n",
      "Epoch 19/25\n",
      "10/10 [==============================] - 10s 980ms/step - loss: 0.6736 - acc: 0.7820 - val_loss: 0.0088 - val_acc: 0.6700\n",
      "Epoch 20/25\n",
      "10/10 [==============================] - 10s 1s/step - loss: 0.6159 - acc: 0.8010 - val_loss: 2.1901 - val_acc: 0.6700\n",
      "Epoch 21/25\n",
      "10/10 [==============================] - 10s 979ms/step - loss: 0.5944 - acc: 0.8120 - val_loss: 0.1128 - val_acc: 0.7900\n",
      "Epoch 22/25\n",
      "10/10 [==============================] - 10s 1s/step - loss: 0.5663 - acc: 0.8215 - val_loss: 0.0682 - val_acc: 0.7500\n",
      "Epoch 23/25\n",
      "10/10 [==============================] - 10s 972ms/step - loss: 0.5922 - acc: 0.8080 - val_loss: 0.0035 - val_acc: 0.7800\n",
      "Epoch 24/25\n",
      "10/10 [==============================] - 10s 1s/step - loss: 0.5134 - acc: 0.8346 - val_loss: 0.1491 - val_acc: 0.7200\n",
      "Epoch 25/25\n",
      "10/10 [==============================] - 10s 976ms/step - loss: 0.4772 - acc: 0.8468 - val_loss: 0.3893 - val_acc: 0.7200\n"
     ]
    }
   ],
   "source": [
    "model.compile(loss='categorical_crossentropy',\n",
    "              optimizer='adam',\n",
    "              metrics=['acc'])\n",
    "\n",
    "history = model.fit_generator(train_generator,\n",
    "                              steps_per_epoch=10,\n",
    "                              epochs=25,\n",
    "                              validation_data=test_generator,\n",
    "                              validation_steps=100)"
   ]
  },
  {
   "cell_type": "code",
   "execution_count": 15,
   "metadata": {},
   "outputs": [
    {
     "name": "stdout",
     "output_type": "stream",
     "text": [
      "loss: 0.012, accuracy: 0.771\n"
     ]
    }
   ],
   "source": [
    "_loss, _acc = model.evaluate_generator(test_generator, steps=800)\n",
    "print('loss: {:.3f}, accuracy: {:.3f}'.format(_loss, _acc))"
   ]
  },
  {
   "cell_type": "code",
   "execution_count": 18,
   "metadata": {},
   "outputs": [
    {
     "name": "stdout",
     "output_type": "stream",
     "text": [
      "[1 5 7 1 3 4 8 6 5 5 2 5 6 1 4 8 5 5 3 4 4 3 6 1 1 4 3 8 6 5 4 6 3 8 8 3 2\n",
      " 1 1 0 2 1 2 0 4 3 5 4 4 0 2 7 3 4 2 1 7 1 1 6 1 5 6 1 3 8 4 8 3 1 0 5 1 7\n",
      " 2 0 5 1 5 1 3 8 8 8 4 3 4 1 0 6 3 5 5 8 5 2 0 6 0 3 3 0 1 6 4 8 3 4 1 3 3\n",
      " 7 4 6 6 5 7 2 5 7 8 8 1 1 1 5 3 3 2 1 5 4 2 1 8 4 8 8 1 5 2 5 1 3 4 6 7 2\n",
      " 4 1 6 8 2 7 3 7 4 7 6 8 6 2 5 1 0 8 4 7 8 7 8 2 6 4 5 8 6 7 4 4 5 5 1 1 2\n",
      " 2 6 6 7 1 7 5 7 1 0 4 5 3 0 7 1 5 4 2 4 0 7 2 8 3 8 7 1 6 1 6 3 1 3 4 0 4\n",
      " 1 6 2 4 7 3 6 0 6 4 0 1 6 0 6 7 5 6 6 8 1 7 8 7 3 8 1 8 6 6 1 0 0 5 8 3 6\n",
      " 7 4 8 4 1 5 7 7 0 2 3 5 5 8 5 6 0 6 4 3 7 7 5 5 4 7 2 3 2 4 8 1 6 4 4 5 8\n",
      " 3 3 3 7 7 3 0 4 5 1 3 6 1 7 1 3 6 6 5 7 7 4 1 4 6 1 4 0 7 5 7 3 8 1 6 6 7\n",
      " 0 4 3 3 0 2 1 6 1 7 6 4 4 5 8 0 1 4 2 0 5 0 6 6 4 4 6 7 1 1 2 3 0 5 4 5 4\n",
      " 3 6 7 0 6 1 7 5 7 1 1 7 1 8 0 5 1 6 1 4 6 0 4 1 3 5 1 6 5 8 1 1 1 4 4 5 5\n",
      " 4 4 0 5 3 8 2 6 8 8 0 4 8 3 0 7 1 3 3 1 4 3 8 8 3 7 4 7 6 5 1 4 5 4 6 4 3\n",
      " 5 4 1 8 8 2 6 3 4 2 2 0 0 8 0 3 4 1 5 3 6 1 6 3 6 6 7 0 4 5 7 8 5 3 5 8 0\n",
      " 6 1 7 7 0 6 5 1 3 5 0 1 4 1 4 7 3 5 5 5 6 7 2 7 4 7 1 4 0 6 7 8 8 8 2 2 0\n",
      " 3 2 5 2 2 4 0 2 0 2 2 2 6 4 6 4 1 2 4 1 2 4 1 2 1 0 7 5 3 4 4 5 4 5 3 2 0\n",
      " 3 4 5 8 6 1 7 0 8 7 4 8 6 7 6 8 5 2 4 2 2 2 7 1 3 1 1 8 0 4 7 1 5 0 0 2 1\n",
      " 0 4 3 6 2 5 8 4 4 1 5 3 3 1 5 6 5 7 3 4 0 0 1 8 6 0 6 4 1 8 2 5 7 1 5 2 1\n",
      " 2 5 3 0 7 7 4 6 6 6 8 8 5 5 0 4 5 0 8 2 1 2 7 2 5 7 2 0 0 6 6 5 8 3 8 4 8\n",
      " 1 1 6 0 7 7 8 8 1 5 6 0 7 3 5 6 5 6 7 3 8 8 7 1 2 5 6 1 8 1 4 4 4 5 1 7 8\n",
      " 8 5 2 8 5 3 1 4 7 1 6 6 5 0 1 1 5]\n"
     ]
    }
   ],
   "source": [
    "class_idx = list(np.arange(9))\n",
    "class_label = {}\n",
    "\n",
    "for i in range(9):\n",
    "    class_label[class_idx[i]] = categories[i]\n",
    "\n",
    "y_predict = model.predict_generator(test_generator, steps=720)\n",
    "predicted_class = np.argmax(y_predict, axis=1)\n",
    "print(predicted_class)"
   ]
  },
  {
   "cell_type": "code",
   "execution_count": null,
   "metadata": {},
   "outputs": [],
   "source": []
  },
  {
   "cell_type": "code",
   "execution_count": null,
   "metadata": {},
   "outputs": [],
   "source": []
  }
 ],
 "metadata": {
  "kernelspec": {
   "display_name": "Python 3",
   "language": "python",
   "name": "python3"
  },
  "language_info": {
   "codemirror_mode": {
    "name": "ipython",
    "version": 3
   },
   "file_extension": ".py",
   "mimetype": "text/x-python",
   "name": "python",
   "nbconvert_exporter": "python",
   "pygments_lexer": "ipython3",
   "version": "3.6.10"
  }
 },
 "nbformat": 4,
 "nbformat_minor": 4
}
