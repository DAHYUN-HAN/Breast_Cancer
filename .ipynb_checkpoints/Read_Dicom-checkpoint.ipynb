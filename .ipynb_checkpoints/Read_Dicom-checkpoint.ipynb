{
 "cells": [
  {
   "cell_type": "code",
   "execution_count": 2,
   "metadata": {},
   "outputs": [],
   "source": [
    "import dicom\n",
    "ds = dicom.read_file(\"000000.dcm\")"
   ]
  },
  {
   "cell_type": "code",
   "execution_count": 6,
   "metadata": {},
   "outputs": [
    {
     "data": {
      "text/plain": [
       "(0008, 0005) Specific Character Set              CS: 'ISO_IR 100'\n",
       "(0008, 0016) SOP Class UID                       UI: Secondary Capture Image Storage\n",
       "(0008, 0018) SOP Instance UID                    UI: 1.3.6.1.4.1.9590.100.1.2.289923739312470966435676008311959891294\n",
       "(0008, 0020) Study Date                          DA: ''\n",
       "(0008, 0023) Content Date                        DA: '20160503'\n",
       "(0008, 0030) Study Time                          TM: ''\n",
       "(0008, 0033) Content Time                        TM: '105946.779000'\n",
       "(0008, 0050) Accession Number                    SH: ''\n",
       "(0008, 0060) Modality                            CS: 'MG'\n",
       "(0008, 0064) Conversion Type                     CS: 'WSD'\n",
       "(0008, 0090) Referring Physician's Name          PN: ''\n",
       "(0010, 0010) Patient's Name                      PN: 'P_00038^P_00038'\n",
       "(0010, 0020) Patient ID                          LO: 'P_00038_LEFT_CC.dcm'\n",
       "(0010, 0030) Patient's Birth Date                DA: ''\n",
       "(0010, 0040) Patient's Sex                       CS: ''\n",
       "(0018, 0015) Body Part Examined                  CS: 'Left Breast'\n",
       "(0018, 1016) Secondary Capture Device Manufactur LO: 'MathWorks'\n",
       "(0018, 1018) Secondary Capture Device Manufactur LO: 'MATLAB'\n",
       "(0020, 000d) Study Instance UID                  UI: 1.3.6.1.4.1.9590.100.1.2.85935434310203356712688695661986996009\n",
       "(0020, 000e) Series Instance UID                 UI: 1.3.6.1.4.1.9590.100.1.2.374115997511889073021386151921807063992\n",
       "(0020, 0010) Study ID                            SH: 'DDSM'\n",
       "(0020, 0011) Series Number                       IS: '1'\n",
       "(0020, 0013) Instance Number                     IS: '1'\n",
       "(0020, 0020) Patient Orientation                 CS: 'CC'\n",
       "(0028, 0002) Samples per Pixel                   US: 1\n",
       "(0028, 0004) Photometric Interpretation          CS: 'MONOCHROME2'\n",
       "(0028, 0010) Rows                                US: 4616\n",
       "(0028, 0011) Columns                             US: 3016\n",
       "(0028, 0100) Bits Allocated                      US: 16\n",
       "(0028, 0101) Bits Stored                         US: 16\n",
       "(0028, 0102) High Bit                            US: 15\n",
       "(0028, 0103) Pixel Representation                US: 0\n",
       "(0028, 0106) Smallest Image Pixel Value          US or SS: b'\\x00\\x00'\n",
       "(0028, 0107) Largest Image Pixel Value           US or SS: b'T\\xf1'\n",
       "(7fe0, 0010) Pixel Data                          OB or OW: Array of 27843712 bytes"
      ]
     },
     "execution_count": 6,
     "metadata": {},
     "output_type": "execute_result"
    }
   ],
   "source": [
    "ds"
   ]
  },
  {
   "cell_type": "code",
   "execution_count": null,
   "metadata": {},
   "outputs": [],
   "source": []
  }
 ],
 "metadata": {
  "kernelspec": {
   "display_name": "Python 3",
   "language": "python",
   "name": "python3"
  },
  "language_info": {
   "codemirror_mode": {
    "name": "ipython",
    "version": 3
   },
   "file_extension": ".py",
   "mimetype": "text/x-python",
   "name": "python",
   "nbconvert_exporter": "python",
   "pygments_lexer": "ipython3",
   "version": "3.6.10"
  }
 },
 "nbformat": 4,
 "nbformat_minor": 4
}
