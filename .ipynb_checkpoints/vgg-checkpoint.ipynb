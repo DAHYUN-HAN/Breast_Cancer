{
 "cells": [
  {
   "cell_type": "code",
   "execution_count": 48,
   "metadata": {},
   "outputs": [],
   "source": [
    "import os\n",
    "import numpy as np\n",
    "import matplotlib.pyplot as plt\n",
    "import seaborn as sns\n",
    "import itertools\n",
    "from sklearn.metrics import confusion_matrix\n",
    "from sklearn.metrics import roc_curve\n",
    "from sklearn.metrics import auc\n",
    "from tensorflow import keras\n",
    "from tensorflow.keras import layers\n",
    "from tensorflow.keras import models\n",
    "from tensorflow.keras import optimizers\n",
    "from tensorflow.keras.applications.vgg16 import VGG16, preprocess_input\n",
    "from tensorflow.keras.callbacks import EarlyStopping, ModelCheckpoint, LearningRateScheduler, Callback\n",
    "from tensorflow.keras.preprocessing.image import ImageDataGenerator\n",
    "from tensorflow.keras.optimizers import RMSprop, SGD, Adam, Adadelta, Adagrad, Adamax, Nadam\n",
    "from tensorflow.keras.regularizers import l2\n",
    "from tensorflow.keras.utils import plot_model\n",
    "from tensorflow.keras.utils import to_categorical\n",
    "\n",
    "import time\n",
    "import numpy as np\n",
    "import pandas as pd\n",
    "import os\n",
    "import sys\n",
    "import sklearn\n",
    "import datetime\n",
    "import random\n",
    "import matplotlib.pyplot as plt\n",
    "import math\n",
    "import tensorflow as tf\n",
    "from tensorflow.keras import Model\n",
    "from tensorflow.keras.preprocessing.image import ImageDataGenerator\n",
    "from tensorflow.keras.models import Sequential\n",
    "from tensorflow.keras.layers import Conv2D, MaxPooling2D, Dense, Dropout, Activation, Flatten, BatchNormalization, GlobalAveragePooling2D  \n",
    "from tensorflow.keras.backend import batch_normalization\n",
    "from tensorflow.keras.optimizers import SGD, Adam\n",
    "from tensorflow.keras.regularizers import l2\n",
    "from tensorflow.keras.callbacks import TensorBoard\n",
    "from tensorflow.keras.utils import to_categorical\n",
    "from sklearn.model_selection import train_test_split\n",
    "from sklearn import preprocessing\n",
    "from sklearn import metrics\n",
    "from packaging import version\n",
    "%matplotlib inline"
   ]
  },
  {
   "cell_type": "code",
   "execution_count": 49,
   "metadata": {},
   "outputs": [
    {
     "name": "stdout",
     "output_type": "stream",
     "text": [
      "Found GPU at: /device:GPU:0\n"
     ]
    }
   ],
   "source": [
    "#identify GPU\n",
    "device_name = tf.test.gpu_device_name()\n",
    "if not tf.test.is_gpu_available():\n",
    "    raise SystemError('GPU device not found')\n",
    "print('Found GPU at: {}'.format(device_name))"
   ]
  },
  {
   "cell_type": "code",
   "execution_count": 50,
   "metadata": {},
   "outputs": [],
   "source": [
    "def load_training():\n",
    "    \"\"\"\n",
    "    Load the training set (excluding baseline patches)\n",
    "    \"\"\"\n",
    "    images = np.load(os.path.join('Data/256', 'X_train.npy'))\n",
    "    labels = np.load(os.path.join('Data/256', 'train_labels_multi.npy'))\n",
    "    return images, labels\n",
    "\n",
    "\n",
    "def load_testing():\n",
    "    \"\"\"\n",
    "    Load the test set (abnormalities patches and labels, no baseline)\n",
    "    \"\"\"\n",
    "    images = np.load(os.path.join('Data/256', 'X_test.npy'))\n",
    "    labels = np.load(os.path.join('Data/256', 'y_test_labels_multi.npy'))\n",
    "    return images, labels\n",
    "\n",
    "\n",
    "def remap_label(l):\n",
    "    \"\"\"\n",
    "    Remap the labels to:\n",
    "        0 -> mass benign \n",
    "        1 -> mass malignant\n",
    "        2 -> calcification benign\n",
    "        3 -> calcification malignant\n",
    "    \"\"\"\n",
    "    if 1 <= l <= 4:\n",
    "        return l-1\n",
    "    else:\n",
    "        print(\"[WARN] Unrecognized label (%d)\" % l)\n",
    "        return None"
   ]
  },
  {
   "cell_type": "code",
   "execution_count": 52,
   "metadata": {},
   "outputs": [
    {
     "name": "stdout",
     "output_type": "stream",
     "text": [
      "Train size: 8599 \t Test size: 1934\n",
      "Image size: 256x256\n"
     ]
    }
   ],
   "source": [
    "# Load training and test images (abnormalities only, no baseline)\n",
    "train_images, train_labels= load_training()\n",
    "test_images, test_labels= load_testing()\n",
    "\n",
    "# Number of images\n",
    "n_train_img = train_images.shape[0]\n",
    "n_test_img = test_images.shape[0]\n",
    "print(\"Train size: %d \\t Test size: %d\" % (n_train_img, n_test_img))\n",
    "\n",
    "# Compute width and height of images\n",
    "img_w = train_images.shape[1]\n",
    "img_h = train_images.shape[2]\n",
    "print(\"Image size: %dx%d\" % (img_w, img_h))"
   ]
  },
  {
   "cell_type": "code",
   "execution_count": 53,
   "metadata": {},
   "outputs": [
    {
     "data": {
      "text/plain": [
       "array([2, 3, 3, 3, 0, 2, 0, 0, 3, 1, 2, 0, 0, 3, 3, 0, 2, 1, 1, 0, 2, 1,\n",
       "       0, 0, 3, 0, 0, 2, 1, 0, 0, 0, 0, 3, 3, 0, 3, 0, 0, 1, 3, 0, 1, 3,\n",
       "       0, 3, 2, 3, 1, 3, 1, 2, 1, 0, 2, 3, 3, 0, 0, 3, 3, 1, 0, 3, 0, 2,\n",
       "       0, 0, 2, 0, 3, 1, 0, 1, 1, 0, 3, 0, 2, 3, 1, 0, 0, 0, 0, 1, 0, 2,\n",
       "       1, 1, 0, 0, 1, 1, 3, 2, 0, 2, 3, 2, 3, 0, 1, 2, 0, 0, 1, 3, 2, 0,\n",
       "       3, 2, 2, 3, 0, 2, 0, 0, 3, 3, 0, 0, 0, 0, 2, 0, 1, 1, 2, 3, 3, 0,\n",
       "       2, 1, 0, 3, 0, 0, 0, 1, 2, 0, 0, 1, 3, 1, 0, 3, 0, 3, 0, 1, 2, 1,\n",
       "       3, 1, 0, 1, 2, 2, 3, 3, 2, 2, 1, 1, 1, 3, 0, 1, 0, 2, 0, 2, 1, 2,\n",
       "       1, 2, 3, 3, 3, 3, 0, 0, 2, 3, 3, 2, 3, 2, 2, 0, 0, 1, 2, 0, 1, 3,\n",
       "       0, 1, 1, 0, 1, 0, 0, 0, 1, 0, 0, 2, 2, 3, 0, 0, 1, 0, 0, 1, 2, 0,\n",
       "       3, 0, 2, 0, 2, 3, 2, 3, 0, 0, 0, 3, 0, 2, 1, 0, 3, 0, 2, 1, 0, 2,\n",
       "       1, 1, 0, 0, 1, 3, 2, 1, 0, 2, 0, 0, 1, 0, 1, 0, 0, 0, 3, 3, 1, 2,\n",
       "       0, 3, 2, 3, 2, 1, 3, 1, 1, 3, 0, 2, 0, 1, 3, 1, 3, 0, 0, 0, 0, 2,\n",
       "       3, 0, 2, 0, 2, 2, 3, 1, 0, 2, 0, 2, 2, 0, 0, 0, 1, 0, 2, 1, 3, 1,\n",
       "       3, 2, 2, 0, 3, 1, 1, 0, 0, 0, 0, 2, 2, 1, 1, 3, 0, 1, 2, 0, 2, 0,\n",
       "       0, 0, 1, 0, 2, 1, 3, 1, 0, 2, 1, 2, 0, 3, 3, 1, 2, 1, 2, 0, 0, 2,\n",
       "       3, 0, 2, 1, 3, 0, 0, 3, 0, 3, 3, 0, 0, 0, 2, 1, 1, 0, 1, 2, 3, 2,\n",
       "       2, 2, 2, 1, 1, 0, 2, 0, 0, 3, 1, 0, 2, 0, 3, 2, 1, 3, 0, 1, 0, 2,\n",
       "       3, 0, 2, 2, 0, 0, 3, 0, 1, 0, 2, 1, 0, 1, 0, 2, 2, 1, 1, 2, 1, 0,\n",
       "       0, 0, 0, 3, 2, 1, 1, 2, 1, 3, 0, 2, 3, 0, 0, 2, 3, 0, 1, 2, 0, 2,\n",
       "       2, 2, 3, 0, 0, 2, 1, 3, 1, 3, 0, 3, 1, 3, 3, 0, 0, 1, 3, 0, 2, 1,\n",
       "       3, 1, 2, 2, 1, 1, 0, 3, 1, 3, 0, 1, 3, 1, 1, 3, 3, 0, 2, 0, 3, 0,\n",
       "       3, 0, 3, 0, 2, 2, 3, 3, 0, 3, 0, 2, 2, 1, 1, 1, 1, 1, 2, 2, 3, 3,\n",
       "       3, 0, 1, 3, 3, 0, 1, 0, 0, 2, 1, 2, 0, 1, 1, 1, 1, 3, 0, 0, 1, 3,\n",
       "       1, 0, 3, 1, 1, 2, 2, 2, 1, 0, 0, 3, 0, 0, 0, 3, 2, 0, 0, 0, 1, 1,\n",
       "       0, 0, 0, 0, 0, 0, 2, 0, 3, 3, 1, 2, 0, 0, 1, 3, 0, 2, 3, 1, 0, 0,\n",
       "       0, 0, 1, 0, 0, 2, 3, 0, 0, 1, 3, 0, 0, 1, 0, 2, 1, 0, 1, 0, 1, 3,\n",
       "       0, 1, 0, 2, 3, 1, 1, 0, 0, 0, 0, 1, 1, 3, 1, 3, 0, 0, 0, 3, 1, 2,\n",
       "       0, 1, 3, 0, 2, 0, 0, 3, 0, 3, 2, 0, 3, 0, 0, 0, 1, 1, 0, 1, 3, 1,\n",
       "       2, 1, 1, 2, 1, 0, 0, 1, 0, 3, 3, 0, 0, 1, 0, 3, 0, 0, 1, 0, 3, 0,\n",
       "       1, 1, 1, 3, 0, 1, 1, 3, 3, 2, 0, 2, 0, 0, 2, 3, 0, 3, 2, 1, 1, 2,\n",
       "       2, 0, 0, 3, 2, 1, 2, 3, 2, 2, 1, 1, 0, 3, 2, 1, 0, 3, 2, 0, 2, 3,\n",
       "       2, 1, 3, 1, 1, 2, 1, 0, 1, 1, 0, 3, 3, 1, 0, 0, 1, 3, 3, 0, 3, 3,\n",
       "       0, 0, 1, 1, 0, 3, 3, 0, 0, 3, 1, 3, 2, 0, 1, 3, 0, 0, 3, 0, 2, 2,\n",
       "       3, 2, 2, 1, 2, 0, 1, 3, 0, 1, 0, 1, 3, 0, 3, 1, 0, 1, 3, 2, 3, 0,\n",
       "       2, 1, 3, 2, 0, 3, 1, 3, 2, 1, 0, 3, 3, 0, 0, 3, 3, 0, 3, 1, 1, 2,\n",
       "       1, 0, 1, 3, 3, 1, 3, 0, 1, 3, 0, 1, 3, 1, 2, 0, 2, 0, 1, 0, 2, 2,\n",
       "       2, 0, 0, 3, 1, 0, 0, 0, 3, 2, 2, 3, 1, 0, 1, 0, 3, 1, 2, 3, 0, 3,\n",
       "       1, 2, 0, 1, 2, 1, 0, 0, 0, 1, 1, 0, 3, 3, 1, 0, 3, 0, 0, 1, 3, 3,\n",
       "       3, 1, 0, 1, 1, 3, 0, 2, 3, 3, 1, 3, 2, 2, 0, 0, 1, 2, 1, 2, 3, 0,\n",
       "       3, 0, 0, 0, 0, 0, 2, 2, 3, 0, 2, 1, 2, 2, 2, 1, 0, 3, 0, 2, 1, 0,\n",
       "       1, 1, 1, 2, 1, 0, 3, 0, 0, 1, 1, 3, 3, 0, 2, 2, 1, 0, 0, 1, 0, 1,\n",
       "       1, 1, 3, 0, 0, 0, 0, 3, 3, 0, 0, 0, 3, 0, 0, 0, 3, 3, 3, 1, 3, 3,\n",
       "       0, 0, 0, 1, 1, 0, 3, 2, 3, 2, 0, 1, 0, 0, 2, 0, 0, 0, 1, 3, 0],\n",
       "      dtype=int64)"
      ]
     },
     "execution_count": 53,
     "metadata": {},
     "output_type": "execute_result"
    }
   ],
   "source": [
    "test_labels"
   ]
  },
  {
   "cell_type": "code",
   "execution_count": 54,
   "metadata": {},
   "outputs": [],
   "source": [
    "# Convert the labels to categorical format\n",
    "train_labels = to_categorical(train_labels)\n",
    "test_labels_raw = test_labels.copy()\n",
    "test_labels = to_categorical(test_labels)"
   ]
  },
  {
   "cell_type": "code",
   "execution_count": 55,
   "metadata": {},
   "outputs": [
    {
     "data": {
      "text/plain": [
       "(8599, 256, 256, 1)"
      ]
     },
     "execution_count": 55,
     "metadata": {},
     "output_type": "execute_result"
    }
   ],
   "source": [
    "train_images.shape"
   ]
  },
  {
   "cell_type": "code",
   "execution_count": 56,
   "metadata": {},
   "outputs": [],
   "source": [
    "# Create a new dimension for color in the images arrays\n",
    "train_images = train_images.reshape((n_train_img, img_w, img_h, 1))\n",
    "test_images = test_images.reshape((n_test_img, img_w, img_h, 1))"
   ]
  },
  {
   "cell_type": "code",
   "execution_count": 57,
   "metadata": {},
   "outputs": [],
   "source": [
    "# Convert from 16-bit (0-65535) to to 8-bit (0-255)\n",
    "train_images = train_images.astype('uint16') / 256\n",
    "test_images = test_images.astype('uint16') / 256\n",
    "\n",
    "# Replicate the only color channel (gray) 3 times, for VGGNet compatibility\n",
    "train_images = np.repeat(train_images, 3, axis=3)\n",
    "test_images = np.repeat(test_images, 3, axis=3)"
   ]
  },
  {
   "cell_type": "code",
   "execution_count": 58,
   "metadata": {},
   "outputs": [],
   "source": [
    "# Shuffle the training set (originally sorted by label)\n",
    "perm = np.random.permutation(n_train_img)\n",
    "train_images = train_images[perm]\n",
    "train_labels = train_labels[perm]\n",
    "\n",
    "# Create a generator for training images\n",
    "train_datagen = ImageDataGenerator(\n",
    "    preprocessing_function=preprocess_input,\n",
    "    validation_split=0.2,\n",
    "    rotation_range=180,\n",
    "    shear_range=15,\n",
    "    width_shift_range=0.2,\n",
    "    height_shift_range=0.2,\n",
    "    zoom_range=0.2,\n",
    "    horizontal_flip=True,\n",
    "    vertical_flip=True,\n",
    "    fill_mode='reflect'\n",
    ")"
   ]
  },
  {
   "cell_type": "code",
   "execution_count": 59,
   "metadata": {},
   "outputs": [],
   "source": [
    "# Fit the generator with some images\n",
    "train_datagen.fit(train_images)\n",
    "\n",
    "# Split train images into actual training and validation\n",
    "train_generator = train_datagen.flow(train_images, train_labels, batch_size=128, subset='training')\n",
    "validation_generator = train_datagen.flow(train_images, train_labels, batch_size=128, subset='validation')\n",
    "\n",
    "# Preprocess the test images as well\n",
    "preprocess_input(test_images);"
   ]
  },
  {
   "cell_type": "code",
   "execution_count": 62,
   "metadata": {},
   "outputs": [
    {
     "data": {
      "image/png": "[encoded data removed]",
      "text/plain": [
       "<Figure size 432x288 with 1 Axes>"
      ]
     },
     "metadata": {
      "needs_background": "light"
     },
     "output_type": "display_data"
    },
    {
     "name": "stdout",
     "output_type": "stream",
     "text": [
      "Label: [0. 0. 0. 1.]\n",
      "[[[135.7109375  135.7109375  135.7109375 ]\n",
      "  [134.0625     134.0625     134.0625    ]\n",
      "  [135.0390625  135.0390625  135.0390625 ]\n",
      "  ...\n",
      "  [133.06640625 133.06640625 133.06640625]\n",
      "  [131.78515625 131.78515625 131.78515625]\n",
      "  [134.0390625  134.0390625  134.0390625 ]]\n",
      "\n",
      " [[135.37890625 135.37890625 135.37890625]\n",
      "  [132.58984375 132.58984375 132.58984375]\n",
      "  [132.75       132.75       132.75      ]\n",
      "  ...\n",
      "  [132.828125   132.828125   132.828125  ]\n",
      "  [131.73046875 131.73046875 131.73046875]\n",
      "  [132.72265625 132.72265625 132.72265625]]\n",
      "\n",
      " [[135.68359375 135.68359375 135.68359375]\n",
      "  [131.89453125 131.89453125 131.89453125]\n",
      "  [131.6328125  131.6328125  131.6328125 ]\n",
      "  ...\n",
      "  [133.4921875  133.4921875  133.4921875 ]\n",
      "  [131.87890625 131.87890625 131.87890625]\n",
      "  [132.49609375 132.49609375 132.49609375]]\n",
      "\n",
      " ...\n",
      "\n",
      " [[147.09765625 147.09765625 147.09765625]\n",
      "  [147.7421875  147.7421875  147.7421875 ]\n",
      "  [149.55859375 149.55859375 149.55859375]\n",
      "  ...\n",
      "  [163.23828125 163.23828125 163.23828125]\n",
      "  [166.04296875 166.04296875 166.04296875]\n",
      "  [162.875      162.875      162.875     ]]\n",
      "\n",
      " [[150.9453125  150.9453125  150.9453125 ]\n",
      "  [147.23046875 147.23046875 147.23046875]\n",
      "  [149.12109375 149.12109375 149.12109375]\n",
      "  ...\n",
      "  [162.51953125 162.51953125 162.51953125]\n",
      "  [165.1796875  165.1796875  165.1796875 ]\n",
      "  [164.40234375 164.40234375 164.40234375]]\n",
      "\n",
      " [[149.76171875 149.76171875 149.76171875]\n",
      "  [152.9140625  152.9140625  152.9140625 ]\n",
      "  [153.0078125  153.0078125  153.0078125 ]\n",
      "  ...\n",
      "  [162.3125     162.3125     162.3125    ]\n",
      "  [163.4375     163.4375     163.4375    ]\n",
      "  [164.13671875 164.13671875 164.13671875]]]\n"
     ]
    }
   ],
   "source": [
    "# Visualize one image from the dataset and its label, just to make sure the data format is correct\n",
    "\n",
    "idx = 123\n",
    "\n",
    "plt.imshow(train_images[idx][:,:,0], cmap='gray')\n",
    "plt.show()\n",
    "\n",
    "print(\"Label: \" + str(train_labels[idx]))\n",
    "\n",
    "print(train_images[0])"
   ]
  },
  {
   "cell_type": "code",
   "execution_count": 63,
   "metadata": {},
   "outputs": [],
   "source": [
    "# Build a model using VGG16 convolutional base and new FC final layer\n",
    "\n",
    "def create_vgg16(verbose=False, fc_size=256, dropout=None):\n",
    "\n",
    "    vgg16_base = VGG16(weights='imagenet',\n",
    "                       include_top=False,\n",
    "                       input_shape=(256, 256, 3))\n",
    "    vgg16 = models.Sequential()\n",
    "    vgg16.add(vgg16_base)\n",
    "\n",
    "    vgg16.add(layers.Flatten())\n",
    "    if dropout is not None:\n",
    "        vgg16.add(layers.Dropout(dropout))\n",
    "    vgg16.add(layers.Dense(fc_size, activation='relu'))\n",
    "    vgg16.add(layers.Dense(4, activation='softmax'))\n",
    "\n",
    "    # Freeze the convolutional base\n",
    "    vgg16_base.trainable = False\n",
    "    \n",
    "    if verbose:\n",
    "        vgg16_base.summary()\n",
    "        vgg16.summary()\n",
    "\n",
    "    return vgg16"
   ]
  },
  {
   "cell_type": "code",
   "execution_count": 64,
   "metadata": {},
   "outputs": [
    {
     "name": "stdout",
     "output_type": "stream",
     "text": [
      "Model: \"vgg16\"\n",
      "_________________________________________________________________\n",
      "Layer (type)                 Output Shape              Param #   \n",
      "=================================================================\n",
      "input_4 (InputLayer)         [(None, 256, 256, 3)]     0         \n",
      "_________________________________________________________________\n",
      "block1_conv1 (Conv2D)        (None, 256, 256, 64)      1792      \n",
      "_________________________________________________________________\n",
      "block1_conv2 (Conv2D)        (None, 256, 256, 64)      36928     \n",
      "_________________________________________________________________\n",
      "block1_pool (MaxPooling2D)   (None, 128, 128, 64)      0         \n",
      "_________________________________________________________________\n",
      "block2_conv1 (Conv2D)        (None, 128, 128, 128)     73856     \n",
      "_________________________________________________________________\n",
      "block2_conv2 (Conv2D)        (None, 128, 128, 128)     147584    \n",
      "_________________________________________________________________\n",
      "block2_pool (MaxPooling2D)   (None, 64, 64, 128)       0         \n",
      "_________________________________________________________________\n",
      "block3_conv1 (Conv2D)        (None, 64, 64, 256)       295168    \n",
      "_________________________________________________________________\n",
      "block3_conv2 (Conv2D)        (None, 64, 64, 256)       590080    \n",
      "_________________________________________________________________\n",
      "block3_conv3 (Conv2D)        (None, 64, 64, 256)       590080    \n",
      "_________________________________________________________________\n",
      "block3_pool (MaxPooling2D)   (None, 32, 32, 256)       0         \n",
      "_________________________________________________________________\n",
      "block4_conv1 (Conv2D)        (None, 32, 32, 512)       1180160   \n",
      "_________________________________________________________________\n",
      "block4_conv2 (Conv2D)        (None, 32, 32, 512)       2359808   \n",
      "_________________________________________________________________\n",
      "block4_conv3 (Conv2D)        (None, 32, 32, 512)       2359808   \n",
      "_________________________________________________________________\n",
      "block4_pool (MaxPooling2D)   (None, 16, 16, 512)       0         \n",
      "_________________________________________________________________\n",
      "block5_conv1 (Conv2D)        (None, 16, 16, 512)       2359808   \n",
      "_________________________________________________________________\n",
      "block5_conv2 (Conv2D)        (None, 16, 16, 512)       2359808   \n",
      "_________________________________________________________________\n",
      "block5_conv3 (Conv2D)        (None, 16, 16, 512)       2359808   \n",
      "_________________________________________________________________\n",
      "block5_pool (MaxPooling2D)   (None, 8, 8, 512)         0         \n",
      "=================================================================\n",
      "Total params: 14,714,688\n",
      "Trainable params: 0\n",
      "Non-trainable params: 14,714,688\n",
      "_________________________________________________________________\n",
      "Model: \"sequential_3\"\n",
      "_________________________________________________________________\n",
      "Layer (type)                 Output Shape              Param #   \n",
      "=================================================================\n",
      "vgg16 (Model)                (None, 8, 8, 512)         14714688  \n",
      "_________________________________________________________________\n",
      "flatten_3 (Flatten)          (None, 32768)             0         \n",
      "_________________________________________________________________\n",
      "dropout_3 (Dropout)          (None, 32768)             0         \n",
      "_________________________________________________________________\n",
      "dense_6 (Dense)              (None, 256)               8388864   \n",
      "_________________________________________________________________\n",
      "dense_7 (Dense)              (None, 4)                 1028      \n",
      "=================================================================\n",
      "Total params: 23,104,580\n",
      "Trainable params: 8,389,892\n",
      "Non-trainable params: 14,714,688\n",
      "_________________________________________________________________\n"
     ]
    }
   ],
   "source": [
    "vgg16_fe_drop_temp = create_vgg16(verbose=True, dropout=0.5, fc_size=256)"
   ]
  },
  {
   "cell_type": "code",
   "execution_count": 65,
   "metadata": {},
   "outputs": [
    {
     "name": "stdout",
     "output_type": "stream",
     "text": [
      "Model: \"sequential_3\"\n",
      "_________________________________________________________________\n",
      "Layer (type)                 Output Shape              Param #   \n",
      "=================================================================\n",
      "vgg16 (Model)                (None, 8, 8, 512)         14714688  \n",
      "_________________________________________________________________\n",
      "flatten_3 (Flatten)          (None, 32768)             0         \n",
      "_________________________________________________________________\n",
      "dropout_3 (Dropout)          (None, 32768)             0         \n",
      "_________________________________________________________________\n",
      "dense_6 (Dense)              (None, 256)               8388864   \n",
      "_________________________________________________________________\n",
      "dense_7 (Dense)              (None, 4)                 1028      \n",
      "=================================================================\n",
      "Total params: 23,104,580\n",
      "Trainable params: 8,389,892\n",
      "Non-trainable params: 14,714,688\n",
      "_________________________________________________________________\n"
     ]
    }
   ],
   "source": [
    "vgg16_fe_drop_temp.summary()"
   ]
  },
  {
   "cell_type": "code",
   "execution_count": 66,
   "metadata": {},
   "outputs": [],
   "source": [
    "# Instantiate a VGG16 network with custom final layer\n",
    "vgg16_fe_drop_128 = create_vgg16(dropout=0.5, fc_size=128)"
   ]
  },
  {
   "cell_type": "code",
   "execution_count": 67,
   "metadata": {},
   "outputs": [
    {
     "name": "stdout",
     "output_type": "stream",
     "text": [
      "Model: \"sequential_4\"\n",
      "_________________________________________________________________\n",
      "Layer (type)                 Output Shape              Param #   \n",
      "=================================================================\n",
      "vgg16 (Model)                (None, 8, 8, 512)         14714688  \n",
      "_________________________________________________________________\n",
      "flatten_4 (Flatten)          (None, 32768)             0         \n",
      "_________________________________________________________________\n",
      "dropout_4 (Dropout)          (None, 32768)             0         \n",
      "_________________________________________________________________\n",
      "dense_8 (Dense)              (None, 128)               4194432   \n",
      "_________________________________________________________________\n",
      "dense_9 (Dense)              (None, 4)                 516       \n",
      "=================================================================\n",
      "Total params: 18,909,636\n",
      "Trainable params: 4,194,948\n",
      "Non-trainable params: 14,714,688\n",
      "_________________________________________________________________\n"
     ]
    }
   ],
   "source": [
    "vgg16_fe_drop_128.summary()"
   ]
  },
  {
   "cell_type": "code",
   "execution_count": 68,
   "metadata": {},
   "outputs": [],
   "source": [
    "# Early stopping (stop training after the validation loss reaches the minimum)\n",
    "earlystopping = EarlyStopping(monitor='val_loss', mode='min', patience=30, verbose=1)\n",
    "\n",
    "# Callback for checkpointing\n",
    "checkpoint = ModelCheckpoint('vgg16_fe_drop_128_4cl_best.h5', \n",
    "        monitor='val_loss', mode='min', verbose=1, \n",
    "        save_best_only=True, save_freq='epoch'\n",
    ")\n",
    "\n",
    "# Compile the model\n",
    "vgg16_fe_drop_128.compile(optimizer='rmsprop', loss='categorical_crossentropy', metrics=['accuracy'])"
   ]
  },
  {
   "cell_type": "markdown",
   "metadata": {},
   "source": [
    "?EarlyStopping"
   ]
  },
  {
   "cell_type": "markdown",
   "metadata": {},
   "source": [
    "?ModelCheckpoint"
   ]
  },
  {
   "cell_type": "code",
   "execution_count": 69,
   "metadata": {},
   "outputs": [
    {
     "name": "stdout",
     "output_type": "stream",
     "text": [
      "WARNING:tensorflow:sample_weight modes were coerced from\n",
      "  ...\n",
      "    to  \n",
      "  ['...']\n",
      "WARNING:tensorflow:sample_weight modes were coerced from\n",
      "  ...\n",
      "    to  \n",
      "  ['...']\n",
      "Train for 54 steps, validate for 14 steps\n",
      "Epoch 1/200\n",
      "53/54 [============================>.] - ETA: 1s - loss: 3.6481 - accuracy: 0.3239\n",
      "Epoch 00001: val_loss improved from inf to 1.38207, saving model to vgg16_fe_drop_128_4cl_best.h5\n",
      "54/54 [==============================] - 87s 2s/step - loss: 3.6098 - accuracy: 0.3215 - val_loss: 1.3821 - val_accuracy: 0.3467\n",
      "Epoch 2/200\n",
      "53/54 [============================>.] - ETA: 1s - loss: 1.3953 - accuracy: 0.3452\n",
      "Epoch 00002: val_loss improved from 1.38207 to 1.37698, saving model to vgg16_fe_drop_128_4cl_best.h5\n",
      "54/54 [==============================] - 85s 2s/step - loss: 1.3952 - accuracy: 0.3445 - val_loss: 1.3770 - val_accuracy: 0.3479\n",
      "Epoch 3/200\n",
      "53/54 [============================>.] - ETA: 1s - loss: 1.3752 - accuracy: 0.3479\n",
      "Epoch 00003: val_loss improved from 1.37698 to 1.36449, saving model to vgg16_fe_drop_128_4cl_best.h5\n",
      "54/54 [==============================] - 85s 2s/step - loss: 1.3747 - accuracy: 0.3478 - val_loss: 1.3645 - val_accuracy: 0.3479\n",
      "Epoch 4/200\n",
      "53/54 [============================>.] - ETA: 1s - loss: 1.3730 - accuracy: 0.3472\n",
      "Epoch 00004: val_loss improved from 1.36449 to 1.36337, saving model to vgg16_fe_drop_128_4cl_best.h5\n",
      "54/54 [==============================] - 85s 2s/step - loss: 1.3729 - accuracy: 0.3472 - val_loss: 1.3634 - val_accuracy: 0.3479\n",
      "Epoch 5/200\n",
      "53/54 [============================>.] - ETA: 1s - loss: 1.3730 - accuracy: 0.3464\n",
      "Epoch 00005: val_loss did not improve from 1.36337\n",
      "54/54 [==============================] - 84s 2s/step - loss: 1.3725 - accuracy: 0.3471 - val_loss: 1.3725 - val_accuracy: 0.3479\n",
      "Epoch 6/200\n",
      "53/54 [============================>.] - ETA: 1s - loss: 1.3654 - accuracy: 0.3469\n",
      "Epoch 00006: val_loss did not improve from 1.36337\n",
      "54/54 [==============================] - 84s 2s/step - loss: 1.3645 - accuracy: 0.3480 - val_loss: 1.3830 - val_accuracy: 0.3479\n",
      "Epoch 7/200\n",
      "53/54 [============================>.] - ETA: 1s - loss: 1.3706 - accuracy: 0.3477\n",
      "Epoch 00007: val_loss did not improve from 1.36337\n",
      "54/54 [==============================] - 85s 2s/step - loss: 1.3706 - accuracy: 0.3477 - val_loss: 1.3847 - val_accuracy: 0.3485\n",
      "Epoch 8/200\n",
      "53/54 [============================>.] - ETA: 1s - loss: 1.3684 - accuracy: 0.3473\n",
      "Epoch 00008: val_loss did not improve from 1.36337\n",
      "54/54 [==============================] - 85s 2s/step - loss: 1.3697 - accuracy: 0.3481 - val_loss: 1.3823 - val_accuracy: 0.3479\n",
      "Epoch 9/200\n",
      "53/54 [============================>.] - ETA: 1s - loss: 1.3660 - accuracy: 0.3469\n",
      "Epoch 00009: val_loss did not improve from 1.36337\n",
      "54/54 [==============================] - 84s 2s/step - loss: 1.3653 - accuracy: 0.3481 - val_loss: 1.3881 - val_accuracy: 0.3479\n",
      "Epoch 10/200\n",
      "53/54 [============================>.] - ETA: 1s - loss: 1.3655 - accuracy: 0.3473\n",
      "Epoch 00010: val_loss did not improve from 1.36337\n",
      "54/54 [==============================] - 84s 2s/step - loss: 1.3652 - accuracy: 0.3475 - val_loss: 1.3923 - val_accuracy: 0.3479\n",
      "Epoch 11/200\n",
      "53/54 [============================>.] - ETA: 1s - loss: 1.3738 - accuracy: 0.3476\n",
      "Epoch 00011: val_loss did not improve from 1.36337\n",
      "54/54 [==============================] - 84s 2s/step - loss: 1.3751 - accuracy: 0.3464 - val_loss: 1.3921 - val_accuracy: 0.3473\n",
      "Epoch 12/200\n",
      "53/54 [============================>.] - ETA: 1s - loss: 1.3683 - accuracy: 0.3491\n",
      "Epoch 00012: val_loss did not improve from 1.36337\n",
      "54/54 [==============================] - 84s 2s/step - loss: 1.3686 - accuracy: 0.3484 - val_loss: 1.3822 - val_accuracy: 0.3485\n",
      "Epoch 13/200\n",
      "53/54 [============================>.] - ETA: 1s - loss: 1.3675 - accuracy: 0.3489\n",
      "Epoch 00013: val_loss did not improve from 1.36337\n",
      "54/54 [==============================] - 84s 2s/step - loss: 1.3677 - accuracy: 0.3483 - val_loss: 1.3784 - val_accuracy: 0.3479\n",
      "Epoch 14/200\n",
      "53/54 [============================>.] - ETA: 1s - loss: 1.3663 - accuracy: 0.3498\n",
      "Epoch 00014: val_loss did not improve from 1.36337\n",
      "54/54 [==============================] - 84s 2s/step - loss: 1.3671 - accuracy: 0.3481 - val_loss: 1.4082 - val_accuracy: 0.3490\n",
      "Epoch 15/200\n",
      "53/54 [============================>.] - ETA: 1s - loss: 1.3657 - accuracy: 0.3489\n",
      "Epoch 00015: val_loss did not improve from 1.36337\n",
      "54/54 [==============================] - 84s 2s/step - loss: 1.3655 - accuracy: 0.3481 - val_loss: 1.3826 - val_accuracy: 0.3421\n",
      "Epoch 16/200\n",
      "53/54 [============================>.] - ETA: 1s - loss: 1.3628 - accuracy: 0.3469\n",
      "Epoch 00016: val_loss did not improve from 1.36337\n",
      "54/54 [==============================] - 84s 2s/step - loss: 1.3622 - accuracy: 0.3478 - val_loss: 1.3887 - val_accuracy: 0.3479\n",
      "Epoch 17/200\n",
      "53/54 [============================>.] - ETA: 1s - loss: 1.3646 - accuracy: 0.3479\n",
      "Epoch 00017: val_loss did not improve from 1.36337\n",
      "54/54 [==============================] - 84s 2s/step - loss: 1.3643 - accuracy: 0.3480 - val_loss: 1.3846 - val_accuracy: 0.3479\n",
      "Epoch 18/200\n",
      "53/54 [============================>.] - ETA: 1s - loss: 1.3641 - accuracy: 0.3472\n",
      "Epoch 00018: val_loss did not improve from 1.36337\n",
      "54/54 [==============================] - 84s 2s/step - loss: 1.3649 - accuracy: 0.3481 - val_loss: 1.3909 - val_accuracy: 0.3485\n",
      "Epoch 19/200\n",
      "53/54 [============================>.] - ETA: 1s - loss: 1.3616 - accuracy: 0.3480\n",
      "Epoch 00019: val_loss did not improve from 1.36337\n",
      "54/54 [==============================] - 83s 2s/step - loss: 1.3616 - accuracy: 0.3480 - val_loss: 1.3999 - val_accuracy: 0.3479\n",
      "Epoch 20/200\n",
      "53/54 [============================>.] - ETA: 1s - loss: 1.3664 - accuracy: 0.3483\n",
      "Epoch 00020: val_loss did not improve from 1.36337\n",
      "54/54 [==============================] - 84s 2s/step - loss: 1.3663 - accuracy: 0.3477 - val_loss: 1.3783 - val_accuracy: 0.3485\n",
      "Epoch 21/200\n",
      "53/54 [============================>.] - ETA: 1s - loss: 1.3628 - accuracy: 0.3488\n",
      "Epoch 00021: val_loss did not improve from 1.36337\n",
      "54/54 [==============================] - 84s 2s/step - loss: 1.3633 - accuracy: 0.3481 - val_loss: 1.3926 - val_accuracy: 0.3485\n",
      "Epoch 22/200\n",
      "53/54 [============================>.] - ETA: 1s - loss: 1.3638 - accuracy: 0.3491\n",
      "Epoch 00022: val_loss did not improve from 1.36337\n",
      "54/54 [==============================] - 84s 2s/step - loss: 1.3642 - accuracy: 0.3480 - val_loss: 1.3851 - val_accuracy: 0.3473\n",
      "Epoch 23/200\n",
      "53/54 [============================>.] - ETA: 1s - loss: 1.3630 - accuracy: 0.3470\n",
      "Epoch 00023: val_loss did not improve from 1.36337\n",
      "54/54 [==============================] - 84s 2s/step - loss: 1.3620 - accuracy: 0.3481 - val_loss: 1.3963 - val_accuracy: 0.3479\n",
      "Epoch 24/200\n",
      "53/54 [============================>.] - ETA: 1s - loss: 1.3680 - accuracy: 0.3480\n",
      "Epoch 00024: val_loss did not improve from 1.36337\n",
      "54/54 [==============================] - 84s 2s/step - loss: 1.3679 - accuracy: 0.3480 - val_loss: 1.3780 - val_accuracy: 0.3485\n",
      "Epoch 25/200\n",
      "53/54 [============================>.] - ETA: 1s - loss: 1.3658 - accuracy: 0.3469\n",
      "Epoch 00025: val_loss did not improve from 1.36337\n",
      "54/54 [==============================] - 84s 2s/step - loss: 1.3652 - accuracy: 0.3481 - val_loss: 1.3884 - val_accuracy: 0.3479\n",
      "Epoch 26/200\n",
      "53/54 [============================>.] - ETA: 1s - loss: 1.3667 - accuracy: 0.3479\n",
      "Epoch 00026: val_loss did not improve from 1.36337\n",
      "54/54 [==============================] - 84s 2s/step - loss: 1.3662 - accuracy: 0.3483 - val_loss: 1.3744 - val_accuracy: 0.3485\n",
      "Epoch 27/200\n",
      "53/54 [============================>.] - ETA: 1s - loss: 1.3645 - accuracy: 0.3470\n",
      "Epoch 00027: val_loss did not improve from 1.36337\n",
      "54/54 [==============================] - 84s 2s/step - loss: 1.3652 - accuracy: 0.3480 - val_loss: 1.3774 - val_accuracy: 0.3490\n",
      "Epoch 28/200\n",
      "53/54 [============================>.] - ETA: 1s - loss: 1.3644 - accuracy: 0.3483\n",
      "Epoch 00028: val_loss did not improve from 1.36337\n",
      "54/54 [==============================] - 84s 2s/step - loss: 1.3647 - accuracy: 0.3475 - val_loss: 1.3790 - val_accuracy: 0.3479\n",
      "Epoch 29/200\n"
     ]
    },
    {
     "name": "stdout",
     "output_type": "stream",
     "text": [
      "53/54 [============================>.] - ETA: 1s - loss: 1.3628 - accuracy: 0.3486\n",
      "Epoch 00029: val_loss did not improve from 1.36337\n",
      "54/54 [==============================] - 84s 2s/step - loss: 1.3633 - accuracy: 0.3483 - val_loss: 1.3763 - val_accuracy: 0.3455\n",
      "Epoch 30/200\n",
      "53/54 [============================>.] - ETA: 1s - loss: 1.3690 - accuracy: 0.3480\n",
      "Epoch 00030: val_loss did not improve from 1.36337\n",
      "54/54 [==============================] - 83s 2s/step - loss: 1.3696 - accuracy: 0.3477 - val_loss: 1.3796 - val_accuracy: 0.3473\n",
      "Epoch 31/200\n",
      "53/54 [============================>.] - ETA: 1s - loss: 1.3646 - accuracy: 0.3472\n",
      "Epoch 00031: val_loss did not improve from 1.36337\n",
      "54/54 [==============================] - 83s 2s/step - loss: 1.3638 - accuracy: 0.3481 - val_loss: 1.3847 - val_accuracy: 0.3455\n",
      "Epoch 32/200\n",
      "53/54 [============================>.] - ETA: 1s - loss: 1.3648 - accuracy: 0.3482\n",
      "Epoch 00032: val_loss did not improve from 1.36337\n",
      "54/54 [==============================] - 84s 2s/step - loss: 1.3649 - accuracy: 0.3485 - val_loss: 1.3868 - val_accuracy: 0.3479\n",
      "Epoch 33/200\n",
      "53/54 [============================>.] - ETA: 1s - loss: 1.3636 - accuracy: 0.3485\n",
      "Epoch 00033: val_loss did not improve from 1.36337\n",
      "54/54 [==============================] - 84s 2s/step - loss: 1.3639 - accuracy: 0.3478 - val_loss: 1.3746 - val_accuracy: 0.3467\n",
      "Epoch 34/200\n",
      "53/54 [============================>.] - ETA: 1s - loss: 1.3612 - accuracy: 0.3475\n",
      "Epoch 00034: val_loss did not improve from 1.36337\n",
      "54/54 [==============================] - 84s 2s/step - loss: 1.3611 - accuracy: 0.3478 - val_loss: 1.4010 - val_accuracy: 0.3479\n",
      "Epoch 00034: early stopping\n"
     ]
    }
   ],
   "source": [
    "# Train\n",
    "history_vgg16_fe_drop_128 = vgg16_fe_drop_128.fit_generator(\n",
    "        train_generator,\n",
    "        epochs=200,\n",
    "        validation_data=validation_generator,\n",
    "        callbacks=[checkpoint, earlystopping],\n",
    "        shuffle=True,\n",
    "        verbose=1,\n",
    "        initial_epoch=0\n",
    ")"
   ]
  },
  {
   "cell_type": "code",
   "execution_count": 70,
   "metadata": {},
   "outputs": [],
   "source": [
    "# Save\n",
    "models.save_model(vgg16_fe_drop_128, 'vgg16_fe_drop_128_4cl_end.h5')"
   ]
  },
  {
   "cell_type": "code",
   "execution_count": 71,
   "metadata": {},
   "outputs": [],
   "source": [
    "# History of accuracy and loss\n",
    "tra_loss_fe = history_vgg16_fe_drop_128.history['loss']\n",
    "tra_acc_fe = history_vgg16_fe_drop_128.history['accuracy']\n",
    "val_loss_fe = history_vgg16_fe_drop_128.history['val_loss']\n",
    "val_acc_fe = history_vgg16_fe_drop_128.history['val_accuracy']"
   ]
  },
  {
   "cell_type": "code",
   "execution_count": 72,
   "metadata": {},
   "outputs": [
    {
     "ename": "ValueError",
     "evalue": "Input arrays should have the same number of samples as target arrays. Found 1934 input samples and 967 target samples.",
     "output_type": "error",
     "traceback": [
      "\u001b[1;31m---------------------------------------------------------------------------\u001b[0m",
      "\u001b[1;31mValueError\u001b[0m                                Traceback (most recent call last)",
      "\u001b[1;32m<ipython-input-72-a90265cbbe69>\u001b[0m in \u001b[0;36m<module>\u001b[1;34m\u001b[0m\n\u001b[0;32m     14\u001b[0m \u001b[1;31m# Loss and accuracy on the test set\u001b[0m\u001b[1;33m\u001b[0m\u001b[1;33m\u001b[0m\u001b[1;33m\u001b[0m\u001b[0m\n\u001b[0;32m     15\u001b[0m \u001b[0mopt_vgg16_fe_drop_128\u001b[0m \u001b[1;33m=\u001b[0m \u001b[0mmodels\u001b[0m\u001b[1;33m.\u001b[0m\u001b[0mload_model\u001b[0m\u001b[1;33m(\u001b[0m\u001b[1;34m'vgg16_fe_drop_128_4cl_best.h5'\u001b[0m\u001b[1;33m)\u001b[0m\u001b[1;33m\u001b[0m\u001b[1;33m\u001b[0m\u001b[0m\n\u001b[1;32m---> 16\u001b[1;33m \u001b[0mtest_loss_fe\u001b[0m\u001b[1;33m,\u001b[0m \u001b[0mtest_acc_fe\u001b[0m \u001b[1;33m=\u001b[0m \u001b[0mvgg16_fe_drop_128\u001b[0m\u001b[1;33m.\u001b[0m\u001b[0mevaluate\u001b[0m\u001b[1;33m(\u001b[0m\u001b[0mtest_images\u001b[0m\u001b[1;33m,\u001b[0m \u001b[0mtest_labels\u001b[0m\u001b[1;33m,\u001b[0m \u001b[0mverbose\u001b[0m\u001b[1;33m=\u001b[0m\u001b[1;32mFalse\u001b[0m\u001b[1;33m)\u001b[0m\u001b[1;33m\u001b[0m\u001b[1;33m\u001b[0m\u001b[0m\n\u001b[0m\u001b[0;32m     17\u001b[0m \u001b[0mopt_test_loss_fe\u001b[0m\u001b[1;33m,\u001b[0m \u001b[0mopt_test_acc_fe\u001b[0m \u001b[1;33m=\u001b[0m \u001b[0mopt_vgg16_fe_drop_128\u001b[0m\u001b[1;33m.\u001b[0m\u001b[0mevaluate\u001b[0m\u001b[1;33m(\u001b[0m\u001b[0mtest_images\u001b[0m\u001b[1;33m,\u001b[0m \u001b[0mtest_labels\u001b[0m\u001b[1;33m,\u001b[0m \u001b[0mverbose\u001b[0m\u001b[1;33m=\u001b[0m\u001b[1;32mFalse\u001b[0m\u001b[1;33m)\u001b[0m\u001b[1;33m\u001b[0m\u001b[1;33m\u001b[0m\u001b[0m\n",
      "\u001b[1;32m~\\anaconda3\\envs\\mammo\\lib\\site-packages\\tensorflow_core\\python\\keras\\engine\\training.py\u001b[0m in \u001b[0;36mevaluate\u001b[1;34m(self, x, y, batch_size, verbose, sample_weight, steps, callbacks, max_queue_size, workers, use_multiprocessing)\u001b[0m\n\u001b[0;32m    928\u001b[0m         \u001b[0mmax_queue_size\u001b[0m\u001b[1;33m=\u001b[0m\u001b[0mmax_queue_size\u001b[0m\u001b[1;33m,\u001b[0m\u001b[1;33m\u001b[0m\u001b[1;33m\u001b[0m\u001b[0m\n\u001b[0;32m    929\u001b[0m         \u001b[0mworkers\u001b[0m\u001b[1;33m=\u001b[0m\u001b[0mworkers\u001b[0m\u001b[1;33m,\u001b[0m\u001b[1;33m\u001b[0m\u001b[1;33m\u001b[0m\u001b[0m\n\u001b[1;32m--> 930\u001b[1;33m         use_multiprocessing=use_multiprocessing)\n\u001b[0m\u001b[0;32m    931\u001b[0m \u001b[1;33m\u001b[0m\u001b[0m\n\u001b[0;32m    932\u001b[0m   def predict(self,\n",
      "\u001b[1;32m~\\anaconda3\\envs\\mammo\\lib\\site-packages\\tensorflow_core\\python\\keras\\engine\\training_v2.py\u001b[0m in \u001b[0;36mevaluate\u001b[1;34m(self, model, x, y, batch_size, verbose, sample_weight, steps, callbacks, max_queue_size, workers, use_multiprocessing, **kwargs)\u001b[0m\n\u001b[0;32m    488\u001b[0m         \u001b[0msample_weight\u001b[0m\u001b[1;33m=\u001b[0m\u001b[0msample_weight\u001b[0m\u001b[1;33m,\u001b[0m \u001b[0msteps\u001b[0m\u001b[1;33m=\u001b[0m\u001b[0msteps\u001b[0m\u001b[1;33m,\u001b[0m \u001b[0mcallbacks\u001b[0m\u001b[1;33m=\u001b[0m\u001b[0mcallbacks\u001b[0m\u001b[1;33m,\u001b[0m\u001b[1;33m\u001b[0m\u001b[1;33m\u001b[0m\u001b[0m\n\u001b[0;32m    489\u001b[0m         \u001b[0mmax_queue_size\u001b[0m\u001b[1;33m=\u001b[0m\u001b[0mmax_queue_size\u001b[0m\u001b[1;33m,\u001b[0m \u001b[0mworkers\u001b[0m\u001b[1;33m=\u001b[0m\u001b[0mworkers\u001b[0m\u001b[1;33m,\u001b[0m\u001b[1;33m\u001b[0m\u001b[1;33m\u001b[0m\u001b[0m\n\u001b[1;32m--> 490\u001b[1;33m         use_multiprocessing=use_multiprocessing, **kwargs)\n\u001b[0m\u001b[0;32m    491\u001b[0m \u001b[1;33m\u001b[0m\u001b[0m\n\u001b[0;32m    492\u001b[0m   def predict(self, model, x, batch_size=None, verbose=0, steps=None,\n",
      "\u001b[1;32m~\\anaconda3\\envs\\mammo\\lib\\site-packages\\tensorflow_core\\python\\keras\\engine\\training_v2.py\u001b[0m in \u001b[0;36m_model_iteration\u001b[1;34m(self, model, mode, x, y, batch_size, verbose, sample_weight, steps, callbacks, max_queue_size, workers, use_multiprocessing, **kwargs)\u001b[0m\n\u001b[0;32m    424\u001b[0m           \u001b[0mmax_queue_size\u001b[0m\u001b[1;33m=\u001b[0m\u001b[0mmax_queue_size\u001b[0m\u001b[1;33m,\u001b[0m\u001b[1;33m\u001b[0m\u001b[1;33m\u001b[0m\u001b[0m\n\u001b[0;32m    425\u001b[0m           \u001b[0mworkers\u001b[0m\u001b[1;33m=\u001b[0m\u001b[0mworkers\u001b[0m\u001b[1;33m,\u001b[0m\u001b[1;33m\u001b[0m\u001b[1;33m\u001b[0m\u001b[0m\n\u001b[1;32m--> 426\u001b[1;33m           use_multiprocessing=use_multiprocessing)\n\u001b[0m\u001b[0;32m    427\u001b[0m       \u001b[0mtotal_samples\u001b[0m \u001b[1;33m=\u001b[0m \u001b[0m_get_total_number_of_samples\u001b[0m\u001b[1;33m(\u001b[0m\u001b[0madapter\u001b[0m\u001b[1;33m)\u001b[0m\u001b[1;33m\u001b[0m\u001b[1;33m\u001b[0m\u001b[0m\n\u001b[0;32m    428\u001b[0m       \u001b[0muse_sample\u001b[0m \u001b[1;33m=\u001b[0m \u001b[0mtotal_samples\u001b[0m \u001b[1;32mis\u001b[0m \u001b[1;32mnot\u001b[0m \u001b[1;32mNone\u001b[0m\u001b[1;33m\u001b[0m\u001b[1;33m\u001b[0m\u001b[0m\n",
      "\u001b[1;32m~\\anaconda3\\envs\\mammo\\lib\\site-packages\\tensorflow_core\\python\\keras\\engine\\training_v2.py\u001b[0m in \u001b[0;36m_process_inputs\u001b[1;34m(model, mode, x, y, batch_size, epochs, sample_weights, class_weights, shuffle, steps, distribution_strategy, max_queue_size, workers, use_multiprocessing)\u001b[0m\n\u001b[0;32m    644\u001b[0m     \u001b[0mstandardize_function\u001b[0m \u001b[1;33m=\u001b[0m \u001b[1;32mNone\u001b[0m\u001b[1;33m\u001b[0m\u001b[1;33m\u001b[0m\u001b[0m\n\u001b[0;32m    645\u001b[0m     x, y, sample_weights = standardize(\n\u001b[1;32m--> 646\u001b[1;33m         x, y, sample_weight=sample_weights)\n\u001b[0m\u001b[0;32m    647\u001b[0m   \u001b[1;32melif\u001b[0m \u001b[0madapter_cls\u001b[0m \u001b[1;32mis\u001b[0m \u001b[0mdata_adapter\u001b[0m\u001b[1;33m.\u001b[0m\u001b[0mListsOfScalarsDataAdapter\u001b[0m\u001b[1;33m:\u001b[0m\u001b[1;33m\u001b[0m\u001b[1;33m\u001b[0m\u001b[0m\n\u001b[0;32m    648\u001b[0m     \u001b[0mstandardize_function\u001b[0m \u001b[1;33m=\u001b[0m \u001b[0mstandardize\u001b[0m\u001b[1;33m\u001b[0m\u001b[1;33m\u001b[0m\u001b[0m\n",
      "\u001b[1;32m~\\anaconda3\\envs\\mammo\\lib\\site-packages\\tensorflow_core\\python\\keras\\engine\\training.py\u001b[0m in \u001b[0;36m_standardize_user_data\u001b[1;34m(self, x, y, sample_weight, class_weight, batch_size, check_steps, steps_name, steps, validation_split, shuffle, extract_tensors_from_dataset)\u001b[0m\n\u001b[0;32m   2381\u001b[0m         \u001b[0mis_dataset\u001b[0m\u001b[1;33m=\u001b[0m\u001b[0mis_dataset\u001b[0m\u001b[1;33m,\u001b[0m\u001b[1;33m\u001b[0m\u001b[1;33m\u001b[0m\u001b[0m\n\u001b[0;32m   2382\u001b[0m         \u001b[0mclass_weight\u001b[0m\u001b[1;33m=\u001b[0m\u001b[0mclass_weight\u001b[0m\u001b[1;33m,\u001b[0m\u001b[1;33m\u001b[0m\u001b[1;33m\u001b[0m\u001b[0m\n\u001b[1;32m-> 2383\u001b[1;33m         batch_size=batch_size)\n\u001b[0m\u001b[0;32m   2384\u001b[0m \u001b[1;33m\u001b[0m\u001b[0m\n\u001b[0;32m   2385\u001b[0m   def _standardize_tensors(self, x, y, sample_weight, run_eagerly, dict_inputs,\n",
      "\u001b[1;32m~\\anaconda3\\envs\\mammo\\lib\\site-packages\\tensorflow_core\\python\\keras\\engine\\training.py\u001b[0m in \u001b[0;36m_standardize_tensors\u001b[1;34m(self, x, y, sample_weight, run_eagerly, dict_inputs, is_dataset, class_weight, batch_size)\u001b[0m\n\u001b[0;32m   2483\u001b[0m       \u001b[1;31m# Check that all arrays have the same length.\u001b[0m\u001b[1;33m\u001b[0m\u001b[1;33m\u001b[0m\u001b[1;33m\u001b[0m\u001b[0m\n\u001b[0;32m   2484\u001b[0m       \u001b[1;32mif\u001b[0m \u001b[1;32mnot\u001b[0m \u001b[0mself\u001b[0m\u001b[1;33m.\u001b[0m\u001b[0m_distribution_strategy\u001b[0m\u001b[1;33m:\u001b[0m\u001b[1;33m\u001b[0m\u001b[1;33m\u001b[0m\u001b[0m\n\u001b[1;32m-> 2485\u001b[1;33m         \u001b[0mtraining_utils\u001b[0m\u001b[1;33m.\u001b[0m\u001b[0mcheck_array_lengths\u001b[0m\u001b[1;33m(\u001b[0m\u001b[0mx\u001b[0m\u001b[1;33m,\u001b[0m \u001b[0my\u001b[0m\u001b[1;33m,\u001b[0m \u001b[0msample_weights\u001b[0m\u001b[1;33m)\u001b[0m\u001b[1;33m\u001b[0m\u001b[1;33m\u001b[0m\u001b[0m\n\u001b[0m\u001b[0;32m   2486\u001b[0m         \u001b[1;32mif\u001b[0m \u001b[0mself\u001b[0m\u001b[1;33m.\u001b[0m\u001b[0m_is_graph_network\u001b[0m \u001b[1;32mand\u001b[0m \u001b[1;32mnot\u001b[0m \u001b[0mrun_eagerly\u001b[0m\u001b[1;33m:\u001b[0m\u001b[1;33m\u001b[0m\u001b[1;33m\u001b[0m\u001b[0m\n\u001b[0;32m   2487\u001b[0m           \u001b[1;31m# Additional checks to avoid users mistakenly using improper loss fns.\u001b[0m\u001b[1;33m\u001b[0m\u001b[1;33m\u001b[0m\u001b[1;33m\u001b[0m\u001b[0m\n",
      "\u001b[1;32m~\\anaconda3\\envs\\mammo\\lib\\site-packages\\tensorflow_core\\python\\keras\\engine\\training_utils.py\u001b[0m in \u001b[0;36mcheck_array_lengths\u001b[1;34m(inputs, targets, weights)\u001b[0m\n\u001b[0;32m    742\u001b[0m                      \u001b[1;34m'the same number of samples as target arrays. '\u001b[0m\u001b[1;33m\u001b[0m\u001b[1;33m\u001b[0m\u001b[0m\n\u001b[0;32m    743\u001b[0m                      \u001b[1;34m'Found '\u001b[0m \u001b[1;33m+\u001b[0m \u001b[0mstr\u001b[0m\u001b[1;33m(\u001b[0m\u001b[0mlist\u001b[0m\u001b[1;33m(\u001b[0m\u001b[0mset_x\u001b[0m\u001b[1;33m)\u001b[0m\u001b[1;33m[\u001b[0m\u001b[1;36m0\u001b[0m\u001b[1;33m]\u001b[0m\u001b[1;33m)\u001b[0m \u001b[1;33m+\u001b[0m \u001b[1;34m' input samples '\u001b[0m\u001b[1;33m\u001b[0m\u001b[1;33m\u001b[0m\u001b[0m\n\u001b[1;32m--> 744\u001b[1;33m                      'and ' + str(list(set_y)[0]) + ' target samples.')\n\u001b[0m\u001b[0;32m    745\u001b[0m   \u001b[1;32mif\u001b[0m \u001b[0mlen\u001b[0m\u001b[1;33m(\u001b[0m\u001b[0mset_w\u001b[0m\u001b[1;33m)\u001b[0m \u001b[1;33m>\u001b[0m \u001b[1;36m1\u001b[0m\u001b[1;33m:\u001b[0m\u001b[1;33m\u001b[0m\u001b[1;33m\u001b[0m\u001b[0m\n\u001b[0;32m    746\u001b[0m     raise ValueError('All sample_weight arrays should have '\n",
      "\u001b[1;31mValueError\u001b[0m: Input arrays should have the same number of samples as target arrays. Found 1934 input samples and 967 target samples."
     ]
    }
   ],
   "source": [
    "# Total number of epochs training\n",
    "epochs_fe = range(1, len(tra_acc_fe)+1)\n",
    "end_epoch_fe = len(tra_acc_fe)\n",
    "\n",
    "# Epoch when reached the validation loss minimum\n",
    "opt_epoch_fe = val_loss_fe.index(min(val_loss_fe)) + 1\n",
    "\n",
    "# Loss and accuracy on the validation set\n",
    "end_val_loss_fe = val_loss_fe[-1]\n",
    "end_val_acc_fe = val_acc_fe[-1]\n",
    "opt_val_loss_fe = val_loss_fe[opt_epoch_fe-1]\n",
    "opt_val_acc_fe = val_acc_fe[opt_epoch_fe-1]\n",
    "\n",
    "# Loss and accuracy on the test set\n",
    "opt_vgg16_fe_drop_128 = models.load_model('vgg16_fe_drop_128_4cl_best.h5')\n",
    "test_loss_fe, test_acc_fe = vgg16_fe_drop_128.evaluate(test_images, test_labels, verbose=False)\n",
    "opt_test_loss_fe, opt_test_acc_fe = opt_vgg16_fe_drop_128.evaluate(test_images, test_labels, verbose=False)"
   ]
  },
  {
   "cell_type": "code",
   "execution_count": null,
   "metadata": {},
   "outputs": [],
   "source": [
    "print(\"VGG16 (w/ dropout, smaller FC) Feature Extraction\\n\")\n",
    "\n",
    "print(\"Epoch [end]: %d\" % end_epoch_fe)\n",
    "print(\"Epoch [opt]: %d\" % opt_epoch_fe)\n",
    "print(\"Valid accuracy [end]: %.4f\" % end_val_acc_fe)\n",
    "print(\"Valid accuracy [opt]: %.4f\" % opt_val_acc_fe)\n",
    "print(\"Test accuracy [end]:  %.4f\" % test_acc_fe)\n",
    "print(\"Test accuracy [opt]:  %.4f\" % opt_test_acc_fe)\n",
    "print(\"Valid loss [end]: %.4f\" % end_val_loss_fe)\n",
    "print(\"Valid loss [opt]: %.4f\" % opt_val_loss_fe)\n",
    "print(\"Test loss [end]:  %.4f\" % test_loss_fe)\n",
    "print(\"Test loss [opt]:  %.4f\" % opt_test_loss_fe)"
   ]
  },
  {
   "cell_type": "code",
   "execution_count": 73,
   "metadata": {},
   "outputs": [
    {
     "data": {
      "image/png": "[encoded data removed]",
      "text/plain": [
       "<Figure size 560x560 with 1 Axes>"
      ]
     },
     "metadata": {},
     "output_type": "display_data"
    },
    {
     "data": {
      "image/png": "[encoded data removed]",
      "text/plain": [
       "<Figure size 560x560 with 1 Axes>"
      ]
     },
     "metadata": {},
     "output_type": "display_data"
    }
   ],
   "source": [
    "# Model accuracy\n",
    "plt.figure(figsize=(7, 7), dpi=80, facecolor='w', edgecolor='k')\n",
    "plt.title('VGG16 w/ dropout FC 128 FE accuracy')\n",
    "plt.ylabel('Accuracy')\n",
    "plt.xlabel('Epoch')\n",
    "plt.plot(epochs_fe, tra_acc_fe, 'r', label='Training set')\n",
    "plt.plot(epochs_fe, val_acc_fe, 'g', label='Validation set')\n",
    "plt.plot(opt_epoch_fe, val_acc_fe[opt_epoch_fe-1], 'go')\n",
    "plt.vlines(opt_epoch_fe, min(val_acc_fe), opt_val_acc_fe, linestyle=\"dashed\", color='g', linewidth=1)\n",
    "plt.hlines(opt_val_acc_fe, 1, opt_epoch_fe, linestyle=\"dashed\", color='g', linewidth=1)\n",
    "plt.legend(loc='lower right')\n",
    "\n",
    "# Model loss\n",
    "plt.figure(figsize=(7, 7), dpi=80, facecolor='w', edgecolor='k')\n",
    "plt.title('VGG16 w/ dropout FC 128 FE loss')\n",
    "plt.ylabel('Loss')\n",
    "plt.xlabel('Epoch')\n",
    "plt.plot(epochs_fe, tra_loss_fe, 'r', label='Training set')\n",
    "plt.plot(epochs_fe, val_loss_fe, 'g', label='Validation set')\n",
    "plt.plot(opt_epoch_fe, val_loss_fe[opt_epoch_fe-1], 'go')\n",
    "plt.vlines(opt_epoch_fe, min(val_loss_fe), opt_val_loss_fe, linestyle=\"dashed\", color='g', linewidth=1)\n",
    "plt.hlines(opt_val_loss_fe, 1, opt_epoch_fe, linestyle=\"dashed\", color='g', linewidth=1)\n",
    "plt.legend();"
   ]
  },
  {
   "cell_type": "code",
   "execution_count": null,
   "metadata": {},
   "outputs": [],
   "source": [
    "# Instantiate a VGG16 network with custom final layer\n",
    "vgg16_fe_drop_256 = create_vgg16(dropout=0.5, fc_size=256)\n",
    "\n",
    "# Early stopping (stop training after the validation loss reaches the minimum)\n",
    "earlystopping = EarlyStopping(monitor='val_loss', mode='min', patience=30, verbose=1)\n",
    "\n",
    "# Callback for checkpointing\n",
    "checkpoint = ModelCheckpoint('vgg16_fe_drop_256_4cl_best.h5', \n",
    "        monitor='val_loss', mode='min', verbose=1, \n",
    "        save_best_only=True, save_freq='epoch'\n",
    ")\n",
    "\n",
    "# Compile the model\n",
    "vgg16_fe_drop_256.compile(optimizer='rmsprop', loss='categorical_crossentropy', metrics=['accuracy'])"
   ]
  },
  {
   "cell_type": "code",
   "execution_count": null,
   "metadata": {},
   "outputs": [],
   "source": [
    "# Train\n",
    "history_vgg16_fe_drop_256 = vgg16_fe_drop_256.fit_generator(\n",
    "        train_generator,\n",
    "        epochs=150,\n",
    "        validation_data=validation_generator,\n",
    "        callbacks=[checkpoint, earlystopping],\n",
    "        shuffle=True,\n",
    "        verbose=1,\n",
    "        initial_epoch=0\n",
    ")"
   ]
  },
  {
   "cell_type": "code",
   "execution_count": null,
   "metadata": {},
   "outputs": [],
   "source": [
    "# Save\n",
    "models.save_model(vgg16_fe_drop_256, 'vgg16_fe_drop_256_4cl_end.h5')"
   ]
  },
  {
   "cell_type": "code",
   "execution_count": null,
   "metadata": {},
   "outputs": [],
   "source": [
    "# History of accuracy and loss\n",
    "tra_loss_fe = history_vgg16_fe_drop_256.history['loss']\n",
    "tra_acc_fe = history_vgg16_fe_drop_256.history['accuracy']\n",
    "val_loss_fe = history_vgg16_fe_drop_256.history['val_loss']\n",
    "val_acc_fe = history_vgg16_fe_drop_256.history['val_accuracy']\n",
    "\n",
    "# Total number of epochs training\n",
    "epochs_fe = range(1, len(tra_acc_fe)+1)\n",
    "end_epoch_fe = len(tra_acc_fe)\n",
    "\n",
    "# Epoch when reached the validation loss minimum\n",
    "opt_epoch_fe = val_loss_fe.index(min(val_loss_fe)) + 1\n",
    "\n",
    "# Loss and accuracy on the validation set\n",
    "end_val_loss_fe = val_loss_fe[-1]\n",
    "end_val_acc_fe = val_acc_fe[-1]\n",
    "opt_val_loss_fe = val_loss_fe[opt_epoch_fe-1]\n",
    "opt_val_acc_fe = val_acc_fe[opt_epoch_fe-1]\n",
    "\n",
    "# Loss and accuracy on the test set\n",
    "opt_vgg16_fe_drop_256 = models.load_model('vgg16_fe_drop_256_4cl_best.h5')\n",
    "test_loss_fe, test_acc_fe = vgg16_fe_drop_256.evaluate(test_images, test_labels, verbose=False)\n",
    "opt_test_loss_fe, opt_test_acc_fe = opt_vgg16_fe_drop_256.evaluate(test_images, test_labels, verbose=False)\n",
    "\n",
    "print(\"VGG16 (w/ dropout) Feature Extraction\\n\")\n",
    "\n",
    "print(\"Epoch [end]: %d\" % end_epoch_fe)\n",
    "print(\"Epoch [opt]: %d\" % opt_epoch_fe)\n",
    "print(\"Valid accuracy [end]: %.4f\" % end_val_acc_fe)\n",
    "print(\"Valid accuracy [opt]: %.4f\" % opt_val_acc_fe)\n",
    "print(\"Test accuracy [end]:  %.4f\" % test_acc_fe)\n",
    "print(\"Test accuracy [opt]:  %.4f\" % opt_test_acc_fe)\n",
    "print(\"Valid loss [end]: %.4f\" % end_val_loss_fe)\n",
    "print(\"Valid loss [opt]: %.4f\" % opt_val_loss_fe)\n",
    "print(\"Test loss [end]:  %.4f\" % test_loss_fe)\n",
    "print(\"Test loss [opt]:  %.4f\" % opt_test_loss_fe)"
   ]
  },
  {
   "cell_type": "code",
   "execution_count": null,
   "metadata": {},
   "outputs": [],
   "source": [
    "models.load_model('vgg16_fe_drop_128_4cl_best.h5').summary()"
   ]
  },
  {
   "cell_type": "code",
   "execution_count": null,
   "metadata": {},
   "outputs": [],
   "source": [
    "vgg16_ft_1layer = models.load_model('vgg16_fe_drop_256_4cl_best.h5')\n",
    "# Fine tuning: unfreeze the last convolutional layer\n",
    "for layer in vgg16_ft_1layer.get_layer('vgg16').layers:\n",
    "    if layer.name.startswith('block5_conv3'):\n",
    "        layer.trainable = True\n",
    "    else:\n",
    "        layer.trainable = False\n",
    "\n",
    "# Recompile the model ()\n",
    "vgg16_ft_1layer.compile(optimizer=RMSprop(learning_rate=0.0001), loss='categorical_crossentropy', metrics=['accuracy'])\n",
    "\n",
    "vgg16_ft_1layer.summary()\n",
    "vgg16_ft_1layer.get_layer('vgg16').summary()"
   ]
  },
  {
   "cell_type": "code",
   "execution_count": null,
   "metadata": {},
   "outputs": [],
   "source": [
    "# Callback for early-stopping\n",
    "early_stop = EarlyStopping(monitor='val_loss', mode='min', patience=30, verbose=1)\n",
    "\n",
    "# Callback for checkpointing\n",
    "checkpoint = ModelCheckpoint(\n",
    "        'vgg16_ft_1layer_4cl_best.h5',\n",
    "        monitor='val_loss',\n",
    "        mode='min',\n",
    "        verbose=1, \n",
    "        save_best_only=True, \n",
    "        save_freq='epoch')"
   ]
  },
  {
   "cell_type": "code",
   "execution_count": null,
   "metadata": {},
   "outputs": [],
   "source": [
    "# Train\n",
    "history_ft = vgg16_ft_1layer.fit_generator(\n",
    "        train_generator,\n",
    "        epochs=200,\n",
    "        validation_data=validation_generator,\n",
    "        callbacks=[early_stop, checkpoint],\n",
    "        shuffle=True,\n",
    "        verbose=1,\n",
    "        initial_epoch=0)\n"
   ]
  },
  {
   "cell_type": "code",
   "execution_count": null,
   "metadata": {},
   "outputs": [],
   "source": [
    "# Save\n",
    "models.save_model(vgg16_ft_1layer, 'vgg16_ft_1layer_4cl_end.h5')"
   ]
  },
  {
   "cell_type": "code",
   "execution_count": null,
   "metadata": {
    "scrolled": true
   },
   "outputs": [],
   "source": [
    "# History of accuracy and loss\n",
    "tra_loss_fe = history_ft.history['loss']\n",
    "tra_acc_fe = history_ft.history['accuracy']\n",
    "val_loss_fe = history_ft.history['val_loss']\n",
    "val_acc_fe = history_ft.history['val_accuracy']\n",
    "\n",
    "# Total number of epochs training\n",
    "epochs_fe = range(1, len(tra_acc_fe)+1)\n",
    "end_epoch_fe = len(tra_acc_fe)\n",
    "\n",
    "# Epoch when reached the validation loss minimum\n",
    "opt_epoch_fe = val_loss_fe.index(min(val_loss_fe)) + 1\n",
    "\n",
    "# Loss and accuracy on the validation set\n",
    "end_val_loss_fe = val_loss_fe[-1]\n",
    "end_val_acc_fe = val_acc_fe[-1]\n",
    "opt_val_loss_fe = val_loss_fe[opt_epoch_fe-1]\n",
    "opt_val_acc_fe = val_acc_fe[opt_epoch_fe-1]\n",
    "\n",
    "# Loss and accuracy on the test set\n",
    "opt_vgg16_ft_1layer = models.load_model('vgg16_ft_1layer_4cl_best.h5')\n",
    "test_loss_fe, test_acc_fe = vgg16_ft_1layer.evaluate(test_images, test_labels, verbose=False)\n",
    "opt_test_loss_fe, opt_test_acc_fe = opt_vgg16_ft_1layer.evaluate(test_images, test_labels, verbose=False)\n",
    "\n",
    "print(\"VGG16 Fine Tuning\\n\")\n",
    "\n",
    "print(\"Epoch [end]: %d\" % end_epoch_fe)\n",
    "print(\"Epoch [opt]: %d\" % opt_epoch_fe)\n",
    "print(\"Valid accuracy [end]: %.4f\" % end_val_acc_fe)\n",
    "print(\"Valid accuracy [opt]: %.4f\" % opt_val_acc_fe)\n",
    "print(\"Test accuracy [end]:  %.4f\" % test_acc_fe)\n",
    "print(\"Test accuracy [opt]:  %.4f\" % opt_test_acc_fe)\n",
    "print(\"Valid loss [end]: %.4f\" % end_val_loss_fe)\n",
    "print(\"Valid loss [opt]: %.4f\" % opt_val_loss_fe)\n",
    "print(\"Test loss [end]:  %.4f\" % test_loss_fe)\n",
    "print(\"Test loss [opt]:  %.4f\" % opt_test_loss_fe)"
   ]
  },
  {
   "cell_type": "code",
   "execution_count": null,
   "metadata": {},
   "outputs": [],
   "source": [
    "# Model accuracy\n",
    "plt.figure(figsize=(7, 7), dpi=80, facecolor='w', edgecolor='k')\n",
    "plt.title('VGG16 FT accuracy')\n",
    "plt.ylabel('Accuracy')\n",
    "plt.xlabel('Epoch')\n",
    "plt.plot(epochs_fe, tra_acc_fe, 'r', label='Training set')\n",
    "plt.plot(epochs_fe, val_acc_fe, 'g', label='Validation set')\n",
    "plt.plot(opt_epoch_fe, val_acc_fe[opt_epoch_fe-1], 'go')\n",
    "plt.vlines(opt_epoch_fe, min(val_acc_fe), opt_val_acc_fe, linestyle=\"dashed\", color='g', linewidth=1)\n",
    "plt.hlines(opt_val_acc_fe, 1, opt_epoch_fe, linestyle=\"dashed\", color='g', linewidth=1)\n",
    "plt.legend(loc='lower right')\n",
    "\n",
    "# Model loss\n",
    "plt.figure(figsize=(7, 7), dpi=80, facecolor='w', edgecolor='k')\n",
    "plt.title('VGG16 FT loss')\n",
    "plt.ylabel('Loss')\n",
    "plt.xlabel('Epoch')\n",
    "plt.plot(epochs_fe, tra_loss_fe, 'r', label='Training set')\n",
    "plt.plot(epochs_fe, val_loss_fe, 'g', label='Validation set')\n",
    "plt.plot(opt_epoch_fe, val_loss_fe[opt_epoch_fe-1], 'go')\n",
    "plt.vlines(opt_epoch_fe, min(val_loss_fe), opt_val_loss_fe, linestyle=\"dashed\", color='g', linewidth=1)\n",
    "plt.hlines(opt_val_loss_fe, 1, opt_epoch_fe, linestyle=\"dashed\", color='g', linewidth=1)\n",
    "plt.legend();"
   ]
  },
  {
   "cell_type": "code",
   "execution_count": null,
   "metadata": {},
   "outputs": [],
   "source": [
    "vgg16_ft_2layer = models.load_model('vgg16_ft_1layer_4cl_best.h5')\n",
    "\n",
    "# Fine tuning: unfreeze the last two convolutional layers\n",
    "for layer in vgg16_ft_2layer.get_layer('vgg16').layers:\n",
    "    if layer.name in ('block5_conv2', 'block5_conv3'):\n",
    "        layer.trainable = True\n",
    "    else:\n",
    "        layer.trainable = False\n",
    "\n",
    "# Recompile the model ()\n",
    "vgg16_ft_2layer.compile(optimizer=RMSprop(learning_rate=0.0001), loss='categorical_crossentropy', metrics=['accuracy'])\n",
    "\n",
    "vgg16_ft_2layer.summary()\n",
    "vgg16_ft_2layer.get_layer('vgg16').summary()"
   ]
  },
  {
   "cell_type": "code",
   "execution_count": null,
   "metadata": {},
   "outputs": [],
   "source": [
    "# Callback for early-stopping\n",
    "early_stop = EarlyStopping(monitor='val_loss', mode='min', patience=30, verbose=1)\n",
    "\n",
    "# Callback for checkpointing\n",
    "checkpoint = ModelCheckpoint(\n",
    "        'vgg16_ft_2layer_4cl_best.h5',\n",
    "        monitor='val_loss',\n",
    "        mode='min',\n",
    "        verbose=1, \n",
    "        save_best_only=True, \n",
    "        save_freq='epoch')"
   ]
  },
  {
   "cell_type": "code",
   "execution_count": null,
   "metadata": {},
   "outputs": [],
   "source": [
    "# Train\n",
    "history_ft_2layer = vgg16_ft_2layer.fit_generator(\n",
    "        train_generator,\n",
    "        epochs=200,\n",
    "        validation_data=validation_generator,\n",
    "        callbacks=[early_stop, checkpoint],\n",
    "        shuffle=True,\n",
    "        verbose=1,\n",
    "        initial_epoch=0)"
   ]
  },
  {
   "cell_type": "code",
   "execution_count": null,
   "metadata": {},
   "outputs": [],
   "source": [
    "# Save\n",
    "models.save_model(vgg16_ft_2layer, 'vgg16_ft_2layer_4cl_end.h5')"
   ]
  },
  {
   "cell_type": "code",
   "execution_count": null,
   "metadata": {},
   "outputs": [],
   "source": [
    "# History of accuracy and loss\n",
    "tra_loss_fe = history_ft_2layer.history['loss']\n",
    "tra_acc_fe = history_ft_2layer.history['accuracy']\n",
    "val_loss_fe = history_ft_2layer.history['val_loss']\n",
    "val_acc_fe = history_ft_2layer.history['val_accuracy']\n",
    "\n",
    "# Total number of epochs training\n",
    "epochs_fe = range(1, len(tra_acc_fe)+1)\n",
    "end_epoch_fe = len(tra_acc_fe)\n",
    "\n",
    "# Epoch when reached the validation loss minimum\n",
    "opt_epoch_fe = val_loss_fe.index(min(val_loss_fe)) + 1\n",
    "\n",
    "# Loss and accuracy on the validation set\n",
    "end_val_loss_fe = val_loss_fe[-1]\n",
    "end_val_acc_fe = val_acc_fe[-1]\n",
    "opt_val_loss_fe = val_loss_fe[opt_epoch_fe-1]\n",
    "opt_val_acc_fe = val_acc_fe[opt_epoch_fe-1]\n",
    "\n",
    "# Loss and accuracy on the test set\n",
    "opt_vgg16_ft_2layer = models.load_model('vgg16_ft_2layer_4cl_best.h5')\n",
    "test_loss_fe, test_acc_fe = vgg16_ft_2layer.evaluate(test_images, test_labels, verbose=False)\n",
    "opt_test_loss_fe, opt_test_acc_fe = opt_vgg16_ft_2layer.evaluate(test_images, test_labels, verbose=False)\n",
    "\n",
    "print(\"VGG16 Fine Tuning (2 layers)\\n\")\n",
    "\n",
    "print(\"Epoch [end]: %d\" % end_epoch_fe)\n",
    "print(\"Epoch [opt]: %d\" % opt_epoch_fe)\n",
    "print(\"Valid accuracy [end]: %.4f\" % end_val_acc_fe)\n",
    "print(\"Valid accuracy [opt]: %.4f\" % opt_val_acc_fe)\n",
    "print(\"Test accuracy [end]:  %.4f\" % test_acc_fe)\n",
    "print(\"Test accuracy [opt]:  %.4f\" % opt_test_acc_fe)\n",
    "print(\"Valid loss [end]: %.4f\" % end_val_loss_fe)\n",
    "print(\"Valid loss [opt]: %.4f\" % opt_val_loss_fe)\n",
    "print(\"Test loss [end]:  %.4f\" % test_loss_fe)\n",
    "print(\"Test loss [opt]:  %.4f\" % opt_test_loss_fe)"
   ]
  },
  {
   "cell_type": "code",
   "execution_count": null,
   "metadata": {},
   "outputs": [],
   "source": [
    "# Model accuracy\n",
    "plt.figure(figsize=(7, 7), dpi=80, facecolor='w', edgecolor='k')\n",
    "plt.title('VGG16 FT (2 layers) accuracy')\n",
    "plt.ylabel('Accuracy')\n",
    "plt.xlabel('Epoch')\n",
    "plt.plot(epochs_fe, tra_acc_fe, 'r', label='Training set')\n",
    "plt.plot(epochs_fe, val_acc_fe, 'g', label='Validation set')\n",
    "plt.plot(opt_epoch_fe, val_acc_fe[opt_epoch_fe-1], 'go')\n",
    "plt.vlines(opt_epoch_fe, min(val_acc_fe), opt_val_acc_fe, linestyle=\"dashed\", color='g', linewidth=1)\n",
    "plt.hlines(opt_val_acc_fe, 1, opt_epoch_fe, linestyle=\"dashed\", color='g', linewidth=1)\n",
    "plt.legend(loc='lower right')\n",
    "\n",
    "# Model loss\n",
    "plt.figure(figsize=(7, 7), dpi=80, facecolor='w', edgecolor='k')\n",
    "plt.title('VGG16 FT (2 layers) loss')\n",
    "plt.ylabel('Loss')\n",
    "plt.xlabel('Epoch')\n",
    "plt.plot(epochs_fe, tra_loss_fe, 'r', label='Training set')\n",
    "plt.plot(epochs_fe, val_loss_fe, 'g', label='Validation set')\n",
    "plt.plot(opt_epoch_fe, val_loss_fe[opt_epoch_fe-1], 'go')\n",
    "plt.vlines(opt_epoch_fe, min(val_loss_fe), opt_val_loss_fe, linestyle=\"dashed\", color='g', linewidth=1)\n",
    "plt.hlines(opt_val_loss_fe, 1, opt_epoch_fe, linestyle=\"dashed\", color='g', linewidth=1)\n",
    "plt.legend();"
   ]
  },
  {
   "cell_type": "code",
   "execution_count": null,
   "metadata": {},
   "outputs": [],
   "source": [
    "vgg16_ft_3layer = models.load_model('vgg16_ft_2layer_4cl_best.h5')\n",
    "\n",
    "# Fine tuning: unfreeze the last two convolutional layers\n",
    "for layer in vgg16_ft_3layer.get_layer('vgg16').layers:\n",
    "    if layer.name in ('block5_conv1', 'block5_conv2', 'block5_conv3'):\n",
    "        layer.trainable = True\n",
    "    else:\n",
    "        layer.trainable = False\n",
    "\n",
    "# Recompile the model ()\n",
    "vgg16_ft_3layer.compile(optimizer=RMSprop(learning_rate=0.00001), loss='categorical_crossentropy', metrics=['accuracy'])\n",
    "\n",
    "vgg16_ft_3layer.summary()\n",
    "vgg16_ft_3layer.get_layer('vgg16').summary()"
   ]
  },
  {
   "cell_type": "code",
   "execution_count": null,
   "metadata": {},
   "outputs": [],
   "source": [
    "# Callback for early-stopping\n",
    "early_stop = EarlyStopping(monitor='val_loss', mode='min', patience=30, verbose=1)\n",
    "\n",
    "# Callback for checkpointing\n",
    "checkpoint = ModelCheckpoint(\n",
    "        'vgg16_ft_3layer_4cl_best.h5',\n",
    "        monitor='val_loss',\n",
    "        mode='min',\n",
    "        verbose=1, \n",
    "        save_best_only=True, \n",
    "        save_freq='epoch')"
   ]
  },
  {
   "cell_type": "code",
   "execution_count": null,
   "metadata": {},
   "outputs": [],
   "source": [
    "# Train\n",
    "history_ft_3layer = vgg16_ft_3layer.fit_generator(\n",
    "        train_generator,\n",
    "        epochs=200,\n",
    "        validation_data=validation_generator,\n",
    "        callbacks=[early_stop, checkpoint],\n",
    "        shuffle=True,\n",
    "        verbose=1,\n",
    "        initial_epoch=0)"
   ]
  },
  {
   "cell_type": "code",
   "execution_count": null,
   "metadata": {},
   "outputs": [],
   "source": [
    "# Save\n",
    "models.save_model(vgg16_ft_3layer, 'vgg16_ft_3layer_4cl_end.h5')"
   ]
  },
  {
   "cell_type": "code",
   "execution_count": null,
   "metadata": {},
   "outputs": [],
   "source": [
    "# History of accuracy and loss\n",
    "tra_loss_fe = history_ft_3layer.history['loss']\n",
    "tra_acc_fe = history_ft_3layer.history['accuracy']\n",
    "val_loss_fe = history_ft_3layer.history['val_loss']\n",
    "val_acc_fe = history_ft_3layer.history['val_accuracy']\n",
    "\n",
    "# Total number of epochs training\n",
    "epochs_fe = range(1, len(tra_acc_fe)+1)\n",
    "end_epoch_fe = len(tra_acc_fe)\n",
    "\n",
    "# Epoch when reached the validation loss minimum\n",
    "opt_epoch_fe = val_loss_fe.index(min(val_loss_fe)) + 1\n",
    "\n",
    "# Loss and accuracy on the validation set\n",
    "end_val_loss_fe = val_loss_fe[-1]\n",
    "end_val_acc_fe = val_acc_fe[-1]\n",
    "opt_val_loss_fe = val_loss_fe[opt_epoch_fe-1]\n",
    "opt_val_acc_fe = val_acc_fe[opt_epoch_fe-1]\n",
    "\n",
    "# Loss and accuracy on the test set\n",
    "opt_vgg16_ft_3layer = models.load_model('vgg16_ft_3layer_4cl_best.h5')\n",
    "test_loss_fe, test_acc_fe = vgg16_ft_3layer.evaluate(test_images, test_labels, verbose=False)\n",
    "opt_test_loss_fe, opt_test_acc_fe = opt_vgg16_ft_3layer.evaluate(test_images, test_labels, verbose=False)\n",
    "\n",
    "print(\"VGG16 Fine Tuning (3 layers)\\n\")\n",
    "\n",
    "print(\"Epoch [end]: %d\" % end_epoch_fe)\n",
    "print(\"Epoch [opt]: %d\" % opt_epoch_fe)\n",
    "print(\"Valid accuracy [end]: %.4f\" % end_val_acc_fe)\n",
    "print(\"Valid accuracy [opt]: %.4f\" % opt_val_acc_fe)\n",
    "print(\"Test accuracy [end]:  %.4f\" % test_acc_fe)\n",
    "print(\"Test accuracy [opt]:  %.4f\" % opt_test_acc_fe)\n",
    "print(\"Valid loss [end]: %.4f\" % end_val_loss_fe)\n",
    "print(\"Valid loss [opt]: %.4f\" % opt_val_loss_fe)\n",
    "print(\"Test loss [end]:  %.4f\" % test_loss_fe)\n",
    "print(\"Test loss [opt]:  %.4f\" % opt_test_loss_fe)"
   ]
  },
  {
   "cell_type": "code",
   "execution_count": null,
   "metadata": {},
   "outputs": [],
   "source": [
    "# Model accuracy\n",
    "plt.figure(figsize=(7, 7), dpi=80, facecolor='w', edgecolor='k')\n",
    "plt.title('VGG16 FT (3 layers) accuracy')\n",
    "plt.ylabel('Accuracy')\n",
    "plt.xlabel('Epoch')\n",
    "plt.plot(epochs_fe, tra_acc_fe, 'r', label='Training set')\n",
    "plt.plot(epochs_fe, val_acc_fe, 'g', label='Validation set')\n",
    "plt.plot(opt_epoch_fe, val_acc_fe[opt_epoch_fe-1], 'go')\n",
    "plt.vlines(opt_epoch_fe, min(val_acc_fe), opt_val_acc_fe, linestyle=\"dashed\", color='g', linewidth=1)\n",
    "plt.hlines(opt_val_acc_fe, 1, opt_epoch_fe, linestyle=\"dashed\", color='g', linewidth=1)\n",
    "plt.legend(loc='lower right')\n",
    "\n",
    "# Model loss\n",
    "plt.figure(figsize=(7, 7), dpi=80, facecolor='w', edgecolor='k')\n",
    "plt.title('VGG16 FT (3 layers) loss')\n",
    "plt.ylabel('Loss')\n",
    "plt.xlabel('Epoch')\n",
    "plt.plot(epochs_fe, tra_loss_fe, 'r', label='Training set')\n",
    "plt.plot(epochs_fe, val_loss_fe, 'g', label='Validation set')\n",
    "plt.plot(opt_epoch_fe, val_loss_fe[opt_epoch_fe-1], 'go')\n",
    "plt.vlines(opt_epoch_fe, min(val_loss_fe), opt_val_loss_fe, linestyle=\"dashed\", color='g', linewidth=1)\n",
    "plt.hlines(opt_val_loss_fe, 1, opt_epoch_fe, linestyle=\"dashed\", color='g', linewidth=1)\n",
    "plt.legend();"
   ]
  },
  {
   "cell_type": "code",
   "execution_count": null,
   "metadata": {},
   "outputs": [],
   "source": []
  },
  {
   "cell_type": "code",
   "execution_count": null,
   "metadata": {},
   "outputs": [],
   "source": []
  },
  {
   "cell_type": "code",
   "execution_count": null,
   "metadata": {},
   "outputs": [],
   "source": []
  }
 ],
 "metadata": {
  "kernelspec": {
   "display_name": "Python 3",
   "language": "python",
   "name": "python3"
  },
  "language_info": {
   "codemirror_mode": {
    "name": "ipython",
    "version": 3
   },
   "file_extension": ".py",
   "mimetype": "text/x-python",
   "name": "python",
   "nbconvert_exporter": "python",
   "pygments_lexer": "ipython3",
   "version": "3.6.10"
  }
 },
 "nbformat": 4,
 "nbformat_minor": 4
}
