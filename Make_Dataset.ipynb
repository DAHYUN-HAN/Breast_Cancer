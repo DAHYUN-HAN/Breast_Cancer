{
 "cells": [
  {
   "cell_type": "code",
   "execution_count": 64,
   "metadata": {},
   "outputs": [],
   "source": [
    "import re\n",
    "import numpy as np\n",
    "import pandas as pd\n",
    "import os\n",
    "import PIL\n",
    "import random\n",
    "import shutil\n",
    "import matplotlib.pyplot as plt\n",
    "import PIL\n",
    "import sys\n",
    "import cv2\n",
    "from tqdm import tqdm\n",
    "from PIL import Image, ImageMath\n",
    "\n",
    "from skimage.transform import rescale, resize, downscale_local_mean\n",
    "#from img_processing_256 import rename, random_flip_img_train, crop_img\n",
    "%matplotlib inline"
   ]
  },
  {
   "cell_type": "code",
   "execution_count": 82,
   "metadata": {},
   "outputs": [],
   "source": [
    "def remove_margins(image_arr, margin=20):\n",
    "\t\"\"\"\n",
    "\tfunction to trim plxels off all sides of an image\n",
    "\t\"\"\"\n",
    "\th, w = image_arr.shape\n",
    "\tnew_image = image_arr[margin:h-margin,margin:w-margin]\n",
    "\treturn new_image"
   ]
  },
  {
   "cell_type": "code",
   "execution_count": 75,
   "metadata": {},
   "outputs": [],
   "source": [
    "def mask_img2(mask_path, full_image_arr, slice_size=512, return_size=False, half=True, output=True):\n",
    "\n",
    "\tmask = PIL.Image.open(mask_path)    \n",
    "\tif half:\n",
    "\t\th, w = mask.size\n",
    "\t\tnew_size = ( h // 2, w // 2)\n",
    "\t\tmask.thumbnail(new_size, PIL.Image.ANTIALIAS)\n",
    "\n",
    "\tmask_arr = np.array(mask)\n",
    "\tmask_arr = mask_arr[:,:]\n",
    "\t\t\n",
    "\tif np.sum(np.sum(full_image_arr >= 225)) > 20000:\n",
    "\t\tfull_image_arr = remove_margins(full_image_arr)\n",
    "\t\tmask_arr = remove_margins(mask_arr)\n",
    "\t\tif output:\n",
    "\t\t\tprint(\"Trimming borders\", mask_path)\n",
    "\t\t\t\n",
    "\t# The maks size must be same as the full image size\n",
    "\tif mask_arr.shape != full_image_arr.shape:\n",
    "\t\t# see if the ratios are the same\n",
    "\t\tmask_ratio = mask_arr.shape[0] / mask_arr.shape[1]\n",
    "\t\timage_ratio = full_image_arr.shape[0] / full_image_arr.shape[1]\n",
    "\t\t\n",
    "\t\tif abs(mask_ratio - image_ratio) <=  1e-03:\n",
    "\t\t\tif output:\n",
    "\t\t\t\tprint(\"Mishaped mask, resizing mask\", mask_path)\n",
    "\t\t\t\n",
    "\t\t\t# reshape the mask to match the image\n",
    "\t\t\t#mask_arr = imresize(mask_arr, full_image_arr.shape)\n",
    "\t\t\tmask_arr = np.array(Image.fromarray(mask_arr).resize(full_image_arr.shape))\n",
    "\t\telse:\n",
    "\t\t\tif output:\n",
    "\t\t\t\tprint(\"Mask shape:\", mask_arr.shape)\n",
    "\t\t\t\tprint(\"Image shape:\", full_image_arr.shape)\n",
    "\t\t\tprint(\"Mask shape doesn't match image!\", mask_path)\n",
    "\t\t\treturn 0, 0, False, full_image_arr, 0\n",
    "\t\n",
    "\t# find the borders\n",
    "\tmask_mask = mask_arr == 255\n",
    "\n",
    "\t# check whether each row or column have a white pixel\n",
    "\tcols = np.sum(mask_mask, axis=0)\n",
    "\trows = np.sum(mask_mask, axis=1)\n",
    "\n",
    "\t# check corners\n",
    "\tfirst_col = np.argmax(cols > 0)\n",
    "\tlast_col = mask_arr.shape[1] - np.argmax(np.flip(cols, axis=0) > 0)\n",
    "\tcenter_col = int((first_col + last_col) / 2)\n",
    "\n",
    "\tfirst_row = np.argmax(rows > 0)\n",
    "\tlast_row = mask_arr.shape[0] - np.argmax(np.flip(rows, axis=0) > 0)\n",
    "\tcenter_row = int((first_row + last_row) / 2)\n",
    "\t\n",
    "\tcol_size = last_col - first_col\n",
    "\trow_size = last_row - first_row\n",
    "\t\n",
    "\tmask_size = [row_size, col_size]\n",
    "\t\n",
    "\t# When a mask size is bigger than a slice\n",
    "\ttoo_big = False\n",
    "\t\n",
    "\tif (last_col - first_col > slice_size + 30) or (last_row - first_row > slice_size + 30):\n",
    "\t\ttoo_big = True\n",
    "\t  \n",
    "\treturn center_row, center_col, too_big, full_image_arr, mask_size"
   ]
  },
  {
   "cell_type": "code",
   "execution_count": 124,
   "metadata": {},
   "outputs": [],
   "source": [
    "def create_patches(mask_dir, img_dir, Lbls, size=256, debug=True):\n",
    "    patch_list = []\n",
    "    Lbl_list = []\n",
    "    FN_list = []\n",
    "    global roi_sizes\n",
    "    full_size = 512\n",
    "    masks = os.listdir(mask_dir)\n",
    "    counter = 0\n",
    "    if debug is None:\n",
    "        progress(counter, len(masks), 'WORKING')\n",
    "    for mask in tqdm(masks):\n",
    "        counter += 1\n",
    "        if debug is None:\n",
    "            progress(counter, len(masks), mask)    \n",
    "        base_img_file = mask[:-6] + \".png\"\n",
    "        full_img = PIL.Image.open(img_dir+\"/\"+base_img_file)\n",
    "#        try:\n",
    "#            full_img = PIL.Image.open(img_dir + \"/\" + base_img_file + '.png')\n",
    "#        except:\n",
    "#            try:\n",
    "#                full_img = PIL.Image.open(img_dir + \"/\" + base_img_file + '000000.png')\n",
    "#            except:\n",
    "#                try:\n",
    "#                    full_img = PIL.Image.open(img_dir + \"/\" + base_img_file + '000001.png')\n",
    "#                except:\n",
    "#                    print(\"Error FileNotFound:\", base_img_file)\n",
    "#                    continue\n",
    "        compare = base_img_file[10:]\n",
    "        try:\n",
    "            Lbl = Lbls.loc[compare]['Class']\n",
    "        except:\n",
    "            print(\"Error LabelNotFound\", base_img_file)\n",
    "            continue\n",
    "            \n",
    "        full_img_arr = np.array(full_img)[:,:]\n",
    "        ctr_row, ctr_col, too_big, full_img_arr, mask_size = mask_img2(mask_dir + \"/\" + mask,full_img_arr, half=False,\n",
    "                                                                         output=debug)\n",
    "        img_h, img_w = full_img_arr.shape\n",
    "        try:\n",
    "            mask_H = mask_size[0]\n",
    "            mask_W = mask_size[1]\n",
    "            roi_size = np.max([mask_H, mask_W])\n",
    "            if debug:\n",
    "                print(\"Mask\", mask, \" Height:\", mask_H, \"Width:\", mask_W)\n",
    "        except:\n",
    "            print(\"Mask Size Error:\", mask_size, \"for\", mask)\n",
    "        # Record roi size for DDSM image crop\n",
    "        roi_sizes = []\n",
    "        roi_sizes.append(roi_size)\n",
    "        if (ctr_row == 0) and (ctr_col == 0):\n",
    "            print(\"Error, skipping\", mask)\n",
    "            continue\n",
    "        \"\"\"\n",
    "        Extract the ROI depending on it's size\n",
    "        If the ROI is smaller than a slice extract it with some padding\n",
    "        \"\"\"\n",
    "        if roi_size < full_size:\n",
    "            if debug:\n",
    "                print(\"ROI small\", mask)\n",
    "            ## Make sure the size of the ROI is at least as big as a tile will be\n",
    "            adj_mask_H = int(np.max([full_size * 1.4, mask_H]))\n",
    "            adj_mask_W = int(np.max([full_size * 1.4, mask_W]))\n",
    "            ## Extract the full ROI with 20% padding on either side\n",
    "            start_row = int(np.max([ctr_row - (adj_mask_H // 2), 0]))\n",
    "            end_row = start_row + adj_mask_H\n",
    "            if end_row > img_h:\n",
    "                end_row = img_h\n",
    "                start_row = img_h - adj_mask_H\n",
    "            start_col = int(np.max([ctr_col - (adj_mask_W // 2), 0]))\n",
    "            end_col = start_col + adj_mask_W\n",
    "            if end_col > img_w:\n",
    "                end_col = img_w\n",
    "                start_col = img_w - adj_mask_W\n",
    "\n",
    "            # extract the ROI and randomly flip it\n",
    "            roi_img = random_flip_img_train(full_img_arr[start_row:end_row, start_col:end_col])\n",
    "        # else extract the ROI with less padding\n",
    "        else:\n",
    "            if debug:\n",
    "                print(\"ROI Big\", mask)\n",
    "            # padding for the random cropping\n",
    "            adj_mask_H = int(np.max([full_size * 1.15, mask_H]))\n",
    "            adj_mask_W = int(np.max([full_size * 1.15, mask_W]))\n",
    "            start_row = np.max([ctr_row - (adj_mask_H // 2), 0])\n",
    "            end_row = start_row + adj_mask_H\n",
    "            if end_row > img_h:\n",
    "                end_row = img_h\n",
    "                start_row = img_h - adj_mask_H\n",
    "            start_col = np.max([ctr_col - (adj_mask_W // 2), 0])\n",
    "            end_col = start_col + adj_mask_W\n",
    "            if end_col > img_w:\n",
    "                end_col = img_w\n",
    "                start_col = img_w - adj_mask_W\n",
    "            # extract the ROI and randomly flip it\n",
    "            roi_img = random_flip_img_train(full_img_arr[start_row:end_row, start_col:end_col])\n",
    "              \n",
    "        patch_1 = crop_img(roi_img)\n",
    "        patch_2 = crop_img(roi_img)\n",
    "        patch_3 = crop_img(roi_img)\n",
    "         \n",
    "        if (patch_1.shape[0] == size) and (patch_1.shape[1] == size):\n",
    "            patch_list.append(patch_1)\n",
    "            Lbl_list.append(Lbl)\n",
    "            FN_list.append(base_img_file + \".png\")\n",
    "                \n",
    "        if (patch_2.shape[0] == size) and (patch_2.shape[1] == size):\n",
    "            patch_list.append(patch_2)\n",
    "            Lbl_list.append(Lbl)\n",
    "            FN_list.append(base_img_file + \".png\")\n",
    "        \n",
    "        if (patch_3.shape[0] == size) and (patch_2.shape[1] == size):\n",
    "            patch_list.append(patch_3)\n",
    "            Lbl_list.append(Lbl)\n",
    "            FN_list.append(base_img_file + \".png\")\n",
    "                \n",
    "    return np.array(patch_list), np.array(Lbl_list), np.array(FN_list), roi_sizes"
   ]
  },
  {
   "cell_type": "code",
   "execution_count": 105,
   "metadata": {},
   "outputs": [],
   "source": [
    "train_labels = pd.read_pickle(\"train_label.pkl\")\n",
    "train_labels['IMAGE_NAME2'] = train_labels.index\n",
    "#train_labels = train_labels.drop_duplicates(['IMAGE_NAME2'])#중복제거"
   ]
  },
  {
   "cell_type": "code",
   "execution_count": 108,
   "metadata": {},
   "outputs": [
    {
     "name": "stderr",
     "output_type": "stream",
     "text": [
      "  0%|                                                                                          | 0/326 [00:00<?, ?it/s]\n"
     ]
    },
    {
     "ename": "FileNotFoundError",
     "evalue": "[Errno 2] No such file or directory: 'D:/mammography/cropped_images/train/Calc-Test_P_00038_LEFT_CC.png'",
     "output_type": "error",
     "traceback": [
      "\u001b[1;31m---------------------------------------------------------------------------\u001b[0m",
      "\u001b[1;31mFileNotFoundError\u001b[0m                         Traceback (most recent call last)",
      "\u001b[1;32m<ipython-input-108-4d8a849959cf>\u001b[0m in \u001b[0;36m<module>\u001b[1;34m\u001b[0m\n\u001b[0;32m      2\u001b[0m \u001b[1;33m\u001b[0m\u001b[0m\n\u001b[0;32m      3\u001b[0m \u001b[0mtrain_mass_patch\u001b[0m\u001b[1;33m,\u001b[0m \u001b[0mtrain_mass_Lbl\u001b[0m\u001b[1;33m,\u001b[0m \u001b[0mtrain_mass_FN\u001b[0m\u001b[1;33m,\u001b[0m \u001b[0mtrain_mass_roi_size\u001b[0m \u001b[1;33m=\u001b[0m\u001b[0;31m \u001b[0m\u001b[0;31m\\\u001b[0m\u001b[1;33m\u001b[0m\u001b[1;33m\u001b[0m\u001b[0m\n\u001b[1;32m----> 4\u001b[1;33m         \u001b[0mcreate_patches\u001b[0m\u001b[1;33m(\u001b[0m\u001b[0mmask_dir\u001b[0m\u001b[1;33m,\u001b[0m \u001b[0mimg_dir\u001b[0m\u001b[1;33m,\u001b[0m \u001b[0mLbls\u001b[0m\u001b[1;33m=\u001b[0m\u001b[0mtrain_labels\u001b[0m\u001b[1;33m,\u001b[0m \u001b[0mdebug\u001b[0m\u001b[1;33m=\u001b[0m\u001b[1;32mTrue\u001b[0m\u001b[1;33m)\u001b[0m\u001b[1;33m\u001b[0m\u001b[1;33m\u001b[0m\u001b[0m\n\u001b[0m",
      "\u001b[1;32m<ipython-input-107-b740c330e101>\u001b[0m in \u001b[0;36mcreate_patches\u001b[1;34m(mask_dir, img_dir, Lbls, size, debug)\u001b[0m\n\u001b[0;32m     14\u001b[0m             \u001b[0mprogress\u001b[0m\u001b[1;33m(\u001b[0m\u001b[0mcounter\u001b[0m\u001b[1;33m,\u001b[0m \u001b[0mlen\u001b[0m\u001b[1;33m(\u001b[0m\u001b[0mmasks\u001b[0m\u001b[1;33m)\u001b[0m\u001b[1;33m,\u001b[0m \u001b[0mmask\u001b[0m\u001b[1;33m)\u001b[0m\u001b[1;33m\u001b[0m\u001b[1;33m\u001b[0m\u001b[0m\n\u001b[0;32m     15\u001b[0m         \u001b[0mbase_img_file\u001b[0m \u001b[1;33m=\u001b[0m \u001b[0mmask\u001b[0m\u001b[1;33m[\u001b[0m\u001b[1;33m:\u001b[0m\u001b[1;33m-\u001b[0m\u001b[1;36m6\u001b[0m\u001b[1;33m]\u001b[0m \u001b[1;33m+\u001b[0m \u001b[1;34m\".png\"\u001b[0m\u001b[1;33m\u001b[0m\u001b[1;33m\u001b[0m\u001b[0m\n\u001b[1;32m---> 16\u001b[1;33m         \u001b[0mfull_img\u001b[0m \u001b[1;33m=\u001b[0m \u001b[0mPIL\u001b[0m\u001b[1;33m.\u001b[0m\u001b[0mImage\u001b[0m\u001b[1;33m.\u001b[0m\u001b[0mopen\u001b[0m\u001b[1;33m(\u001b[0m\u001b[0mimg_dir\u001b[0m\u001b[1;33m+\u001b[0m\u001b[1;34m\"/\"\u001b[0m\u001b[1;33m+\u001b[0m\u001b[0mbase_img_file\u001b[0m\u001b[1;33m)\u001b[0m\u001b[1;33m\u001b[0m\u001b[1;33m\u001b[0m\u001b[0m\n\u001b[0m\u001b[0;32m     17\u001b[0m \u001b[1;31m#        try:\u001b[0m\u001b[1;33m\u001b[0m\u001b[1;33m\u001b[0m\u001b[1;33m\u001b[0m\u001b[0m\n\u001b[0;32m     18\u001b[0m \u001b[1;31m#            full_img = PIL.Image.open(img_dir + \"/\" + base_img_file + '.png')\u001b[0m\u001b[1;33m\u001b[0m\u001b[1;33m\u001b[0m\u001b[1;33m\u001b[0m\u001b[0m\n",
      "\u001b[1;32m~\\anaconda3\\envs\\mammo\\lib\\site-packages\\PIL\\Image.py\u001b[0m in \u001b[0;36mopen\u001b[1;34m(fp, mode)\u001b[0m\n\u001b[0;32m   2841\u001b[0m \u001b[1;33m\u001b[0m\u001b[0m\n\u001b[0;32m   2842\u001b[0m     \u001b[1;32mif\u001b[0m \u001b[0mfilename\u001b[0m\u001b[1;33m:\u001b[0m\u001b[1;33m\u001b[0m\u001b[1;33m\u001b[0m\u001b[0m\n\u001b[1;32m-> 2843\u001b[1;33m         \u001b[0mfp\u001b[0m \u001b[1;33m=\u001b[0m \u001b[0mbuiltins\u001b[0m\u001b[1;33m.\u001b[0m\u001b[0mopen\u001b[0m\u001b[1;33m(\u001b[0m\u001b[0mfilename\u001b[0m\u001b[1;33m,\u001b[0m \u001b[1;34m\"rb\"\u001b[0m\u001b[1;33m)\u001b[0m\u001b[1;33m\u001b[0m\u001b[1;33m\u001b[0m\u001b[0m\n\u001b[0m\u001b[0;32m   2844\u001b[0m         \u001b[0mexclusive_fp\u001b[0m \u001b[1;33m=\u001b[0m \u001b[1;32mTrue\u001b[0m\u001b[1;33m\u001b[0m\u001b[1;33m\u001b[0m\u001b[0m\n\u001b[0;32m   2845\u001b[0m \u001b[1;33m\u001b[0m\u001b[0m\n",
      "\u001b[1;31mFileNotFoundError\u001b[0m: [Errno 2] No such file or directory: 'D:/mammography/cropped_images/train/Calc-Test_P_00038_LEFT_CC.png'"
     ]
    }
   ],
   "source": [
    "img_dir = \"D:/mammography/cropped_images/train\"\n",
    "\n",
    "train_mass_patch, train_mass_Lbl, train_mass_FN, train_mass_roi_size = \\\n",
    "        create_patches(mask_dir, img_dir, Lbls=train_labels, debug=True)"
   ]
  },
  {
   "cell_type": "code",
   "execution_count": 125,
   "metadata": {
    "scrolled": true
   },
   "outputs": [
    {
     "name": "stderr",
     "output_type": "stream",
     "text": [
      "  0%|                                                                                          | 0/326 [00:00<?, ?it/s]"
     ]
    },
    {
     "name": "stdout",
     "output_type": "stream",
     "text": [
      "(249, 265)\n",
      "Trimming borders D:/mammography/cropped_images/test_png/Calc/Calc-Test_P_00038_LEFT_CC_1.png\n",
      "Mask shape: (209, 225)\n",
      "Image shape: (4576, 2976)\n",
      "Mask shape doesn't match image! D:/mammography/cropped_images/test_png/Calc/Calc-Test_P_00038_LEFT_CC_1.png\n",
      "Mask Size Error: 0 for Calc-Test_P_00038_LEFT_CC_1.png\n"
     ]
    },
    {
     "name": "stderr",
     "output_type": "stream",
     "text": [
      "\n"
     ]
    },
    {
     "ename": "UnboundLocalError",
     "evalue": "local variable 'roi_size' referenced before assignment",
     "output_type": "error",
     "traceback": [
      "\u001b[1;31m---------------------------------------------------------------------------\u001b[0m",
      "\u001b[1;31mUnboundLocalError\u001b[0m                         Traceback (most recent call last)",
      "\u001b[1;32m<ipython-input-125-23fffd34df4d>\u001b[0m in \u001b[0;36m<module>\u001b[1;34m\u001b[0m\n\u001b[0;32m     11\u001b[0m \u001b[1;33m\u001b[0m\u001b[0m\n\u001b[0;32m     12\u001b[0m \u001b[0mtest_mass_patch\u001b[0m\u001b[1;33m,\u001b[0m \u001b[0mtest_mass_Lbl\u001b[0m\u001b[1;33m,\u001b[0m \u001b[0mtest_mass_FN\u001b[0m\u001b[1;33m,\u001b[0m \u001b[0mtest_mass_roi_size\u001b[0m \u001b[1;33m=\u001b[0m\u001b[0;31m \u001b[0m\u001b[0;31m\\\u001b[0m\u001b[1;33m\u001b[0m\u001b[1;33m\u001b[0m\u001b[0m\n\u001b[1;32m---> 13\u001b[1;33m     \u001b[0mcreate_patches\u001b[0m\u001b[1;33m(\u001b[0m\u001b[0mmask_dir\u001b[0m\u001b[1;33m,\u001b[0m \u001b[0mimg_dir\u001b[0m\u001b[1;33m,\u001b[0m \u001b[0mLbls\u001b[0m\u001b[1;33m=\u001b[0m\u001b[0mtest_labels\u001b[0m\u001b[1;33m,\u001b[0m \u001b[0mdebug\u001b[0m\u001b[1;33m=\u001b[0m\u001b[1;32mTrue\u001b[0m\u001b[1;33m)\u001b[0m\u001b[1;33m\u001b[0m\u001b[1;33m\u001b[0m\u001b[0m\n\u001b[0m",
      "\u001b[1;32m<ipython-input-124-a33362ec93b8>\u001b[0m in \u001b[0;36mcreate_patches\u001b[1;34m(mask_dir, img_dir, Lbls, size, debug)\u001b[0m\n\u001b[0;32m     47\u001b[0m         \u001b[1;31m# Record roi size for DDSM image crop\u001b[0m\u001b[1;33m\u001b[0m\u001b[1;33m\u001b[0m\u001b[1;33m\u001b[0m\u001b[0m\n\u001b[0;32m     48\u001b[0m         \u001b[0mroi_sizes\u001b[0m \u001b[1;33m=\u001b[0m \u001b[1;33m[\u001b[0m\u001b[1;33m]\u001b[0m\u001b[1;33m\u001b[0m\u001b[1;33m\u001b[0m\u001b[0m\n\u001b[1;32m---> 49\u001b[1;33m         \u001b[0mroi_sizes\u001b[0m\u001b[1;33m.\u001b[0m\u001b[0mappend\u001b[0m\u001b[1;33m(\u001b[0m\u001b[0mroi_size\u001b[0m\u001b[1;33m)\u001b[0m\u001b[1;33m\u001b[0m\u001b[1;33m\u001b[0m\u001b[0m\n\u001b[0m\u001b[0;32m     50\u001b[0m         \u001b[1;32mif\u001b[0m \u001b[1;33m(\u001b[0m\u001b[0mctr_row\u001b[0m \u001b[1;33m==\u001b[0m \u001b[1;36m0\u001b[0m\u001b[1;33m)\u001b[0m \u001b[1;32mand\u001b[0m \u001b[1;33m(\u001b[0m\u001b[0mctr_col\u001b[0m \u001b[1;33m==\u001b[0m \u001b[1;36m0\u001b[0m\u001b[1;33m)\u001b[0m\u001b[1;33m:\u001b[0m\u001b[1;33m\u001b[0m\u001b[1;33m\u001b[0m\u001b[0m\n\u001b[0;32m     51\u001b[0m             \u001b[0mprint\u001b[0m\u001b[1;33m(\u001b[0m\u001b[1;34m\"Error, skipping\"\u001b[0m\u001b[1;33m,\u001b[0m \u001b[0mmask\u001b[0m\u001b[1;33m)\u001b[0m\u001b[1;33m\u001b[0m\u001b[1;33m\u001b[0m\u001b[0m\n",
      "\u001b[1;31mUnboundLocalError\u001b[0m: local variable 'roi_size' referenced before assignment"
     ]
    }
   ],
   "source": [
    "#Calc_test\n",
    "test_labels = pd.read_pickle(\"label old ver/test_label.pkl\")\n",
    "test_labels['IMAGE_NAME2'] = test_labels.index\n",
    "test_labels = test_labels.drop_duplicates(['IMAGE_NAME2'])\n",
    "\n",
    "## use a copy on the local drive to make testing faster\n",
    "mask_dir = \"D:/mammography/cropped_images/test_png/Calc\"\n",
    "img_dir = \"D:/mammography/full/test_png/Calc\"\n",
    "\n",
    "roi_sizes = []\n",
    "\n",
    "test_mass_patch, test_mass_Lbl, test_mass_FN, test_mass_roi_size = \\\n",
    "    create_patches(mask_dir, img_dir, Lbls=test_labels, debug=True)\n"
   ]
  },
  {
   "cell_type": "code",
   "execution_count": 42,
   "metadata": {},
   "outputs": [
    {
     "name": "stdout",
     "output_type": "stream",
     "text": [
      "Patient_ID                       P_00038\n",
      "Breast_Density                         2\n",
      "Side_L_R                            LEFT\n",
      "Image View                            CC\n",
      "Abnormality_ID                         1\n",
      "Abnormality_Type           calcification\n",
      "Mass_Shape          PUNCTATE-PLEOMORPHIC\n",
      "Mass_Margins                   CLUSTERED\n",
      "Assessment                             4\n",
      "Pathology                         BENIGN\n",
      "Subtlety                               2\n",
      "Class               BENIGN_calcification\n",
      "IMAGE_NAME2          P_00038_LEFT_CC.png\n",
      "Name: P_00038_LEFT_CC.png, dtype: object\n"
     ]
    }
   ],
   "source": [
    "print(test_labels.loc['P_00038_LEFT_CC.png'])"
   ]
  },
  {
   "cell_type": "code",
   "execution_count": null,
   "metadata": {},
   "outputs": [],
   "source": []
  }
 ],
 "metadata": {
  "kernelspec": {
   "display_name": "Python 3",
   "language": "python",
   "name": "python3"
  },
  "language_info": {
   "codemirror_mode": {
    "name": "ipython",
    "version": 3
   },
   "file_extension": ".py",
   "mimetype": "text/x-python",
   "name": "python",
   "nbconvert_exporter": "python",
   "pygments_lexer": "ipython3",
   "version": "3.6.10"
  }
 },
 "nbformat": 4,
 "nbformat_minor": 4
}
